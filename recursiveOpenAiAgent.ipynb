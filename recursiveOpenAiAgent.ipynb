{
 "cells": [
  {
   "cell_type": "code",
   "execution_count": 1,
   "metadata": {},
   "outputs": [],
   "source": [
    "import logging\n",
    "import sys\n",
    "import os\n",
    "\n",
    "logging.basicConfig(stream=sys.stdout, level=logging.INFO)\n",
    "logging.getLogger().addHandler(logging.StreamHandler(stream=sys.stdout))\n",
    "\n",
    "os.environ['NUMEXPR_MAX_THREADS'] = '4'\n",
    "os.environ['NUMEXPR_NUM_THREADS'] = '2'\n",
    "import numexpr as ne"
   ]
  },
  {
   "cell_type": "code",
   "execution_count": 2,
   "metadata": {},
   "outputs": [],
   "source": [
    "import os\n",
    "os.environ[\"OPENAI_API_KEY\"] = \"your key\"\n",
    "import openai\n",
    "openai.api_key = \"your key\""
   ]
  },
  {
   "cell_type": "code",
   "execution_count": 3,
   "metadata": {},
   "outputs": [
    {
     "name": "stderr",
     "output_type": "stream",
     "text": [
      "C:\\Users\\Boris\\AppData\\Local\\Temp\\ipykernel_11088\\1345130920.py:4: DeprecationWarning: Call to deprecated function (or staticmethod) download_loader. (`download_loader()` is deprecated. Please install tool using pip install directly instead.)\n",
      "  PDFReader = download_loader(\"PDFReader\")\n"
     ]
    },
    {
     "name": "stdout",
     "output_type": "stream",
     "text": [
      "INFO:llama_index.core.indices.loading:Loading all indices.\n",
      "Loading all indices.\n",
      "INFO:httpx:HTTP Request: POST https://api.openai.com/v1/embeddings \"HTTP/1.1 200 OK\"\n",
      "HTTP Request: POST https://api.openai.com/v1/embeddings \"HTTP/1.1 200 OK\"\n",
      "INFO:llama_index.core.indices.loading:Loading all indices.\n",
      "Loading all indices.\n",
      "INFO:httpx:HTTP Request: POST https://api.openai.com/v1/embeddings \"HTTP/1.1 200 OK\"\n",
      "HTTP Request: POST https://api.openai.com/v1/embeddings \"HTTP/1.1 200 OK\"\n",
      "INFO:llama_index.core.indices.loading:Loading all indices.\n",
      "Loading all indices.\n",
      "INFO:httpx:HTTP Request: POST https://api.openai.com/v1/embeddings \"HTTP/1.1 200 OK\"\n",
      "HTTP Request: POST https://api.openai.com/v1/embeddings \"HTTP/1.1 200 OK\"\n"
     ]
    }
   ],
   "source": [
    "from pathlib import Path\n",
    "from llama_index.core import download_loader, VectorStoreIndex, load_index_from_storage, SummaryIndex, StorageContext\n",
    "\n",
    "PDFReader = download_loader(\"PDFReader\")\n",
    "\n",
    "loader = PDFReader()\n",
    "\n",
    "class PodcastTitle:\n",
    "    def __init__(self, name, about, file, key):\n",
    "        self.name = name\n",
    "        self.about = about   \n",
    "        self.file = file\n",
    "        self.key = key\n",
    "\n",
    "podcast_titles = [\n",
    "    PodcastTitle(\"10 Tools for Managing Stress and Anxiety with Huberman\", \"manage stress and anxiety\", \"behaviour/10_Tools_for_Managing_Stress_&_Anxiety_Huberman_Lab_Podcast_10.pdf\", \"tools_for_stress\"),\n",
    "    PodcastTitle(\"The Science of Setting and Achieving Goals with Huberman\", \"set and achieve goals\", \"behaviour/55_The_Science_of_Setting_&_Achieving_Goals_Huberman_Lab_Podcast_55.pdf\", \"setting_goals\"),\n",
    "    PodcastTitle(\"Dr Chris Palmer Diet and Nutrition for Mental Health with Huberman\", \"have healthy diet for mental health\", \"food/99_Dr_Chris_Palmer_Diet_&_Nutrition_for_Mental_Health_Huberman_Lab_Podcast_99.pdf\", \"diet_nutrition\"),\n",
    "]\n",
    "\n",
    "podcast_vector_index = {}\n",
    "podcast_summary_index = {}\n",
    "for podcast in podcast_titles:\n",
    "    try:\n",
    "        storage_context = StorageContext.from_defaults(persist_dir=f\"./storage/cache/{podcast.key}_vector\")\n",
    "        podcast_vector_index[podcast.key] = load_index_from_storage(storage_context)\n",
    "\n",
    "        storage_context = StorageContext.from_defaults(persist_dir=f\"./storage/cache/{podcast.key}_summary\")\n",
    "        podcast_summary_index[podcast.key] = load_index_from_storage(storage_context)\n",
    "    except:\n",
    "        documents = loader.load_data(file=Path(f\"./assets/AndrewHuberman/{podcast.file}\"))\n",
    "        vector_index = VectorStoreIndex.from_documents(documents)\n",
    "        podcast_vector_index[podcast.key] = vector_index\n",
    "        vector_index.storage_context.persist(persist_dir=f\"./storage/cache/{podcast.key}_vector\")\n",
    "\n",
    "        podcast_summary_index[podcast.key] = SummaryIndex.from_documents(documents)\n",
    "        podcast_summary_index[podcast.key].storage_context.persist(persist_dir=f\"./storage/cache/{podcast.key}_summary\")\n",
    "\n",
    "\n"
   ]
  },
  {
   "cell_type": "code",
   "execution_count": 4,
   "metadata": {},
   "outputs": [
    {
     "data": {
      "text/plain": [
       "{'tools_for_stress': <llama_index.core.indices.list.base.SummaryIndex at 0x1e13cfc3b50>,\n",
       " 'setting_goals': <llama_index.core.indices.list.base.SummaryIndex at 0x1e141c21110>,\n",
       " 'diet_nutrition': <llama_index.core.indices.list.base.SummaryIndex at 0x1e142400f50>}"
      ]
     },
     "execution_count": 4,
     "metadata": {},
     "output_type": "execute_result"
    }
   ],
   "source": [
    "podcast_summary_index"
   ]
  },
  {
   "cell_type": "code",
   "execution_count": 16,
   "metadata": {},
   "outputs": [],
   "source": [
    "from llama_index.core.postprocessor import KeywordNodePostprocessor\n",
    "from llama_index.core.retrievers import VectorIndexRetriever\n",
    "from llama_index.core.query_engine import RetrieverQueryEngine\n",
    "from llama_index.core.tools import QueryEngineTool, ToolMetadata\n",
    "\n",
    "\n",
    "node_processor = KeywordNodePostprocessor(\n",
    "    exclude_keywords=[\"supplements\", \"LMNT\", \"InsideTracker\", \"Helix\", \"ROKA\", \"Athletic Greens\", \"Thesis\", \"Eight Sleep\"]\n",
    ")\n",
    "\n",
    "agents = {}\n",
    "podcats_vector_engines = {}\n",
    "podcats_summary_engines = {}\n",
    "\n",
    "for podcast in podcast_titles:\n",
    "    retriever = VectorIndexRetriever(\n",
    "        index = podcast_vector_index[podcast.key],\n",
    "        similarity_top_k=3,\n",
    "    )\n",
    "\n",
    "    podcats_vector_engines[podcast.key] = RetrieverQueryEngine(\n",
    "        retriever = retriever,\n",
    "        node_postprocessors=[node_processor]\n",
    "    )\n",
    "\n",
    "    podcats_summary_engines[podcast.key] = podcast_summary_index[podcast.key].as_query_engine()\n",
    "\n",
    "    query_engine_tools = []\n",
    "    new_tool = QueryEngineTool(\n",
    "        query_engine=podcats_vector_engines[podcast.key],\n",
    "        metadata = ToolMetadata(\n",
    "            name=f\"{podcast.key}_vector_tool\",\n",
    "            description=f\"Useful for retrieving specific context from a podcast {podcast.name}. \"\n",
    "            f\"Use when you need information related to {podcast.about}.\",\n",
    "        )\n",
    "\n",
    "    )\n",
    "    query_engine_tools.append(new_tool)\n",
    "\n",
    "    new_tool = QueryEngineTool(\n",
    "        query_engine=podcats_summary_engines[podcast.key],\n",
    "        metadata = ToolMetadata(\n",
    "            name=f\"{podcast.key}_summary_tool\",\n",
    "            description=f\"Useful for summary of the podcast '{podcast.name}'\"\n",
    "            f\"Use when you need overview information about how to {podcast.about}. \",\n",
    "        )\n",
    "\n",
    "    )\n",
    "    query_engine_tools.append(new_tool)\n",
    "\n",
    "    from llama_index.agent.openai import OpenAIAgent\n",
    "    from llama_index.llms.openai import OpenAI\n",
    "\n",
    "    agent = OpenAIAgent.from_tools(query_engine_tools, llm=OpenAI(temperature=0, model=\"gpt-3.5-turbo\"), verbose=True)\n",
    "\n",
    "    agents[podcast.key] = agent\n",
    "\n"
   ]
  },
  {
   "cell_type": "code",
   "execution_count": 17,
   "metadata": {},
   "outputs": [
    {
     "data": {
      "text/plain": [
       "{'tools_for_stress': <llama_index.agent.openai.base.OpenAIAgent at 0x1e1461e1150>,\n",
       " 'setting_goals': <llama_index.agent.openai.base.OpenAIAgent at 0x1e148583b50>,\n",
       " 'diet_nutrition': <llama_index.agent.openai.base.OpenAIAgent at 0x1e1485bd4d0>}"
      ]
     },
     "execution_count": 17,
     "metadata": {},
     "output_type": "execute_result"
    }
   ],
   "source": [
    "agents"
   ]
  },
  {
   "cell_type": "code",
   "execution_count": 18,
   "metadata": {},
   "outputs": [],
   "source": [
    "from llama_index.core.schema import IndexNode\n",
    "\n",
    "nodes = []\n",
    "for podcast in podcast_titles:\n",
    "    podcast_summary = (\n",
    "        f\"This content contains podcast transcript: '{podcast.name}'. \"\n",
    "        f\"Use this index if you need to lookup specific information about {podcast.about}.\\n\"\n",
    "    )\n",
    "    node = IndexNode(text = podcast_summary, index_id=podcast.key)\n",
    "    nodes.append(node)"
   ]
  },
  {
   "cell_type": "code",
   "execution_count": 19,
   "metadata": {},
   "outputs": [
    {
     "name": "stdout",
     "output_type": "stream",
     "text": [
      "INFO:httpx:HTTP Request: POST https://api.openai.com/v1/embeddings \"HTTP/1.1 200 OK\"\n",
      "HTTP Request: POST https://api.openai.com/v1/embeddings \"HTTP/1.1 200 OK\"\n"
     ]
    }
   ],
   "source": [
    "vector_index = VectorStoreIndex(nodes)\n",
    "vector_retriever = vector_index.as_retriever(similarity_top_k=1)"
   ]
  },
  {
   "cell_type": "code",
   "execution_count": 20,
   "metadata": {},
   "outputs": [],
   "source": [
    "from llama_index.core.retrievers import RecursiveRetriever\n",
    "from llama_index.core.query_engine import RetrieverQueryEngine\n",
    "from llama_index.core.response_synthesizers import get_response_synthesizer\n",
    "\n",
    "recursive_retriever = RecursiveRetriever(\n",
    "    \"vector\",\n",
    "    retriever_dict={\"vector\": vector_retriever},\n",
    "    query_engine_dict=agents,\n",
    "    verbose=True,\n",
    ")\n",
    "\n",
    "response_syntesizer = get_response_synthesizer(\n",
    "    response_mode=\"compact\",\n",
    ")\n",
    "\n",
    "query_engine = RetrieverQueryEngine.from_args(\n",
    "    recursive_retriever,\n",
    "    response_synthesizer=response_syntesizer,\n",
    ")\n"
   ]
  },
  {
   "cell_type": "code",
   "execution_count": 21,
   "metadata": {},
   "outputs": [],
   "source": [
    "openai.log = \"debug\""
   ]
  },
  {
   "cell_type": "code",
   "execution_count": 22,
   "metadata": {},
   "outputs": [
    {
     "name": "stdout",
     "output_type": "stream",
     "text": [
      "\u001b[1;3;34mRetrieving with query id None: Give me a summary of the podcast 'Dr Chris Palmer: Diet and Nutrition for Mental health'\n",
      "\u001b[0mINFO:httpx:HTTP Request: POST https://api.openai.com/v1/embeddings \"HTTP/1.1 200 OK\"\n",
      "HTTP Request: POST https://api.openai.com/v1/embeddings \"HTTP/1.1 200 OK\"\n",
      "\u001b[1;3;38;5;200mRetrieved node with id, entering: diet_nutrition\n",
      "\u001b[0m\u001b[1;3;34mRetrieving with query id diet_nutrition: Give me a summary of the podcast 'Dr Chris Palmer: Diet and Nutrition for Mental health'\n",
      "\u001b[0mAdded user message to memory: Give me a summary of the podcast 'Dr Chris Palmer: Diet and Nutrition for Mental health'\n",
      "INFO:httpx:HTTP Request: POST https://api.openai.com/v1/chat/completions \"HTTP/1.1 200 OK\"\n",
      "HTTP Request: POST https://api.openai.com/v1/chat/completions \"HTTP/1.1 200 OK\"\n",
      "=== Calling Function ===\n",
      "Calling function: diet_nutrition_summary_tool with args: {\"input\":\"Dr Chris Palmer: Diet and Nutrition for Mental health\"}\n",
      "INFO:httpx:HTTP Request: POST https://api.openai.com/v1/chat/completions \"HTTP/1.1 200 OK\"\n",
      "HTTP Request: POST https://api.openai.com/v1/chat/completions \"HTTP/1.1 200 OK\"\n",
      "INFO:httpx:HTTP Request: POST https://api.openai.com/v1/chat/completions \"HTTP/1.1 200 OK\"\n",
      "HTTP Request: POST https://api.openai.com/v1/chat/completions \"HTTP/1.1 200 OK\"\n",
      "INFO:httpx:HTTP Request: POST https://api.openai.com/v1/chat/completions \"HTTP/1.1 200 OK\"\n",
      "HTTP Request: POST https://api.openai.com/v1/chat/completions \"HTTP/1.1 200 OK\"\n",
      "INFO:httpx:HTTP Request: POST https://api.openai.com/v1/chat/completions \"HTTP/1.1 200 OK\"\n",
      "HTTP Request: POST https://api.openai.com/v1/chat/completions \"HTTP/1.1 200 OK\"\n",
      "Got output: Research suggests that supplementing with ketone esters or salts may correct brain metabolism deficits in the short term, potentially offering benefits for Alzheimer's disease. However, the effectiveness of liquid ketones alone in treating mood disorders remains uncertain. The ketogenic diet's multifaceted approach, including improvements in glucose levels, insulin signaling, and mitochondrial biogenesis, may be crucial for its mental health benefits.\n",
      "========================\n",
      "\n",
      "INFO:httpx:HTTP Request: POST https://api.openai.com/v1/chat/completions \"HTTP/1.1 200 OK\"\n",
      "HTTP Request: POST https://api.openai.com/v1/chat/completions \"HTTP/1.1 200 OK\"\n",
      "\u001b[1;3;32mGot response: The summary of the podcast 'Dr Chris Palmer: Diet and Nutrition for Mental health' highlights the potential benefits of supplementing with ketone esters or salts to correct brain metabolism deficits in the short term, particularly for Alzheimer's disease. The ketogenic diet's comprehensive approach, which includes enhancements in glucose levels, insulin signaling, and mitochondrial biogenesis, may be essential for its mental health advantages.\n",
      "\u001b[0mINFO:httpx:HTTP Request: POST https://api.openai.com/v1/chat/completions \"HTTP/1.1 200 OK\"\n",
      "HTTP Request: POST https://api.openai.com/v1/chat/completions \"HTTP/1.1 200 OK\"\n"
     ]
    }
   ],
   "source": [
    "response = query_engine.query(\"Give me a summary of the podcast 'Dr Chris Palmer: Diet and Nutrition for Mental health'\")"
   ]
  },
  {
   "cell_type": "code",
   "execution_count": 23,
   "metadata": {},
   "outputs": [
    {
     "data": {
      "text/plain": [
       "Response(response=\"The podcast discusses the potential benefits of supplementing with ketone esters or salts to correct brain metabolism deficits in the short term, particularly for Alzheimer's disease. It also emphasizes the comprehensive approach of the ketogenic diet, which includes enhancements in glucose levels, insulin signaling, and mitochondrial biogenesis, highlighting its potential advantages for mental health.\", source_nodes=[NodeWithScore(node=TextNode(id_='d4e68ea2-dfd1-4e89-a853-af9b824a4a52', embedding=None, metadata={}, excluded_embed_metadata_keys=[], excluded_llm_metadata_keys=[], relationships={}, text=\"Query: Give me a summary of the podcast 'Dr Chris Palmer: Diet and Nutrition for Mental health'\\nResponse: The summary of the podcast 'Dr Chris Palmer: Diet and Nutrition for Mental health' highlights the potential benefits of supplementing with ketone esters or salts to correct brain metabolism deficits in the short term, particularly for Alzheimer's disease. The ketogenic diet's comprehensive approach, which includes enhancements in glucose levels, insulin signaling, and mitochondrial biogenesis, may be essential for its mental health advantages.\", mimetype='text/plain', start_char_idx=None, end_char_idx=None, text_template='{metadata_str}\\n\\n{content}', metadata_template='{key}: {value}', metadata_seperator='\\n'), score=0.9308011690285742)], metadata={'d4e68ea2-dfd1-4e89-a853-af9b824a4a52': {}})"
      ]
     },
     "execution_count": 23,
     "metadata": {},
     "output_type": "execute_result"
    }
   ],
   "source": [
    "response"
   ]
  },
  {
   "cell_type": "code",
   "execution_count": null,
   "metadata": {},
   "outputs": [],
   "source": []
  }
 ],
 "metadata": {
  "kernelspec": {
   "display_name": "Python 3 (ipykernel)",
   "language": "python",
   "name": "python3"
  },
  "language_info": {
   "codemirror_mode": {
    "name": "ipython",
    "version": 3
   },
   "file_extension": ".py",
   "mimetype": "text/x-python",
   "name": "python",
   "nbconvert_exporter": "python",
   "pygments_lexer": "ipython3",
   "version": "3.11.9"
  }
 },
 "nbformat": 4,
 "nbformat_minor": 4
}
