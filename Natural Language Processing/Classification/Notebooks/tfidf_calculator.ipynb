{
 "cells": [
  {
   "cell_type": "markdown",
   "id": "b227736d",
   "metadata": {},
   "source": [
    "**Authour:** Boris Kundu\n",
    "\n",
    "**Problem Statement:** Calculate tfidf for a given word in a document from corpus"
   ]
  },
  {
   "cell_type": "code",
   "execution_count": 1,
   "id": "557dea4f",
   "metadata": {},
   "outputs": [],
   "source": [
    "# Import packages\n",
    "import numpy as np\n",
    "import nltk\n",
    "import pandas as pd"
   ]
  },
  {
   "cell_type": "code",
   "execution_count": 20,
   "id": "181e2c25",
   "metadata": {},
   "outputs": [],
   "source": [
    "# TFIDF class\n",
    "class TFIDF:\n",
    "    # Tokenize text\n",
    "    def tokenize_text(self, text):\n",
    "        return nltk.tokenize.word_tokenize(text)\n",
    "    # Calculate token frequency\n",
    "    def get_tokens_frequency(self, tokens):\n",
    "        tokens_frequencey = {}\n",
    "        for token in tokens:\n",
    "            if token in tokens_frequencey:\n",
    "                tokens_frequencey[token] +=1\n",
    "            else:\n",
    "                tokens_frequencey[token] = 1\n",
    "        return tokens_frequencey\n",
    "    # Tokenize using pipeline\n",
    "    def run_tokenizing_pipeline (self, text, pipeline):\n",
    "        result = text\n",
    "        for step in pipeline:\n",
    "            result = step(result)\n",
    "        return result\n",
    "    # Calculate term frequency\n",
    "    def get_term_frequency(self, term, sentence):\n",
    "        tokens_frequency = self.run_tokenizing_pipeline(sentence.lower(),[self.tokenize_text, self.get_tokens_frequency])\n",
    "        if term in tokens_frequency:\n",
    "            tf = (tokens_frequency[term]/max(tokens_frequency.values()))\n",
    "        else:\n",
    "            tf = 0\n",
    "        return tf\n",
    "    # Calculate inverse document frequency\n",
    "    def get_inverse_document_frequency(self, term, corpus):\n",
    "        N = len(corpus)\n",
    "        t = 0\n",
    "        for sentence in corpus:\n",
    "            tokens_frequency = self.run_tokenizing_pipeline(sentence.lower(),[self.tokenize_text,self.get_tokens_frequency])\n",
    "            if term in tokens_frequency:\n",
    "                t +=1\n",
    "        idf = np.log(N/t)\n",
    "        return idf\n",
    "    # Calculate tfidf for a word in adocument from corpus\n",
    "    def get_tfidf(self, term, sentence, corpus):\n",
    "        return self.get_inverse_document_frequency(term,corpus) * self.get_term_frequency(term,sentence)"
   ]
  },
  {
   "cell_type": "code",
   "execution_count": 22,
   "id": "187a499d",
   "metadata": {},
   "outputs": [
    {
     "name": "stdout",
     "output_type": "stream",
     "text": [
      "Term Frequency of <quick> in sentence <The quick brown fox jumps over the laxy dog.> is <0.5>\n",
      "Inverse Document Frequency of <quick> in corpus is <0.6931471805599453>\n",
      "TFIDF of <quick> in sentence <The quick brown fox jumps over the laxy dog.> is <0.34657359027997264>\n"
     ]
    }
   ],
   "source": [
    "# Initialize object\n",
    "tfidf = TFIDF()\n",
    "# Initialize corpus, document, and word to test\n",
    "corpus = [\"The quick brown fox jumps over the laxy dog.\", \"Never jump over the lazy dog quickly.\"]\n",
    "sentence = corpus[0]\n",
    "word = 'quick'\n",
    "# Check term frequency\n",
    "print(f'Term Frequency of <{word}> in sentence <{sentence}> is <{tfidf.get_term_frequency(word,sentence)}>')\n",
    "# Check inverse-document frequency\n",
    "print(f'Inverse Document Frequency of <{word}> in corpus is <{tfidf.get_inverse_document_frequency(word,corpus)}>')\n",
    "# Check tfidf\n",
    "print(f'TFIDF of <{word}> in sentence <{sentence}> is <{tfidf.get_tfidf(word,sentence,corpus)}>')"
   ]
  }
 ],
 "metadata": {
  "kernelspec": {
   "display_name": "Python 3 (ipykernel)",
   "language": "python",
   "name": "python3"
  },
  "language_info": {
   "codemirror_mode": {
    "name": "ipython",
    "version": 3
   },
   "file_extension": ".py",
   "mimetype": "text/x-python",
   "name": "python",
   "nbconvert_exporter": "python",
   "pygments_lexer": "ipython3",
   "version": "3.9.7"
  }
 },
 "nbformat": 4,
 "nbformat_minor": 5
}
