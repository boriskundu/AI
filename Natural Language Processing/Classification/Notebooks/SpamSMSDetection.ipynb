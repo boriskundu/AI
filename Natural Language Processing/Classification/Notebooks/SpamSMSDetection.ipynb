{
 "cells": [
  {
   "cell_type": "markdown",
   "id": "bf7b512e",
   "metadata": {},
   "source": [
    "**Author:** Boris Kundu\n",
    "\n",
    "**Dataset:** \n",
    "Spam SMS Data\n",
    "\n",
    "**Problem Statement:**\n",
    "Classify SMS as spam or not"
   ]
  },
  {
   "cell_type": "code",
   "execution_count": 52,
   "id": "b0def640",
   "metadata": {},
   "outputs": [],
   "source": [
    "#Import packages\n",
    "from nltk.corpus import stopwords\n",
    "import pandas as pd\n",
    "import matplotlib.pyplot as plt\n",
    "import seaborn as sns\n",
    "import string\n",
    "from sklearn.feature_extraction.text import CountVectorizer\n",
    "from sklearn.feature_extraction.text import TfidfTransformer\n",
    "from sklearn.naive_bayes import MultinomialNB\n",
    "from sklearn.model_selection import train_test_split\n",
    "from sklearn.pipeline import Pipeline\n",
    "from sklearn.metrics import classification_report \n",
    "%matplotlib inline"
   ]
  },
  {
   "cell_type": "code",
   "execution_count": 53,
   "id": "9a3cccce",
   "metadata": {},
   "outputs": [],
   "source": [
    "#Read data\n",
    "msgs = [line.rstrip() for line in open('SMSSpamCollection')]"
   ]
  },
  {
   "cell_type": "code",
   "execution_count": 54,
   "id": "293d4018",
   "metadata": {},
   "outputs": [
    {
     "data": {
      "text/plain": [
       "5574"
      ]
     },
     "execution_count": 54,
     "metadata": {},
     "output_type": "execute_result"
    }
   ],
   "source": [
    "#Check count of SMSs\n",
    "len(msgs)"
   ]
  },
  {
   "cell_type": "code",
   "execution_count": 55,
   "id": "136639ce",
   "metadata": {},
   "outputs": [
    {
     "data": {
      "text/plain": [
       "'ham\\tGo until jurong point, crazy.. Available only in bugis n great world la e buffet... Cine there got amore wat...'"
      ]
     },
     "execution_count": 55,
     "metadata": {},
     "output_type": "execute_result"
    }
   ],
   "source": [
    "#Check sample\n",
    "msgs[0]"
   ]
  },
  {
   "cell_type": "code",
   "execution_count": 56,
   "id": "cacf52da",
   "metadata": {},
   "outputs": [
    {
     "name": "stdout",
     "output_type": "stream",
     "text": [
      "Message Num:0\n",
      "Message:ham\tGo until jurong point, crazy.. Available only in bugis n great world la e buffet... Cine there got amore wat...\n",
      "\n",
      "Message Num:1\n",
      "Message:ham\tOk lar... Joking wif u oni...\n",
      "\n",
      "Message Num:2\n",
      "Message:spam\tFree entry in 2 a wkly comp to win FA Cup final tkts 21st May 2005. Text FA to 87121 to receive entry question(std txt rate)T&C's apply 08452810075over18's\n",
      "\n",
      "Message Num:3\n",
      "Message:ham\tU dun say so early hor... U c already then say...\n",
      "\n",
      "Message Num:4\n",
      "Message:ham\tNah I don't think he goes to usf, he lives around here though\n",
      "\n"
     ]
    }
   ],
   "source": [
    "#Check samples\n",
    "for num,msg in enumerate(msgs[:5]):\n",
    "    print(f'Message Num:{num}\\nMessage:{msg}\\n')"
   ]
  },
  {
   "cell_type": "code",
   "execution_count": 57,
   "id": "463e99ad",
   "metadata": {},
   "outputs": [],
   "source": [
    "#Read and create data frame \n",
    "msgs = pd.read_csv('SMSSpamCollection',sep='\\t',names=['label','message'])"
   ]
  },
  {
   "cell_type": "code",
   "execution_count": 58,
   "id": "52452c3d",
   "metadata": {},
   "outputs": [
    {
     "data": {
      "text/html": [
       "<div>\n",
       "<style scoped>\n",
       "    .dataframe tbody tr th:only-of-type {\n",
       "        vertical-align: middle;\n",
       "    }\n",
       "\n",
       "    .dataframe tbody tr th {\n",
       "        vertical-align: top;\n",
       "    }\n",
       "\n",
       "    .dataframe thead th {\n",
       "        text-align: right;\n",
       "    }\n",
       "</style>\n",
       "<table border=\"1\" class=\"dataframe\">\n",
       "  <thead>\n",
       "    <tr style=\"text-align: right;\">\n",
       "      <th></th>\n",
       "      <th>label</th>\n",
       "      <th>message</th>\n",
       "    </tr>\n",
       "  </thead>\n",
       "  <tbody>\n",
       "    <tr>\n",
       "      <th>0</th>\n",
       "      <td>ham</td>\n",
       "      <td>Go until jurong point, crazy.. Available only ...</td>\n",
       "    </tr>\n",
       "    <tr>\n",
       "      <th>1</th>\n",
       "      <td>ham</td>\n",
       "      <td>Ok lar... Joking wif u oni...</td>\n",
       "    </tr>\n",
       "    <tr>\n",
       "      <th>2</th>\n",
       "      <td>spam</td>\n",
       "      <td>Free entry in 2 a wkly comp to win FA Cup fina...</td>\n",
       "    </tr>\n",
       "    <tr>\n",
       "      <th>3</th>\n",
       "      <td>ham</td>\n",
       "      <td>U dun say so early hor... U c already then say...</td>\n",
       "    </tr>\n",
       "    <tr>\n",
       "      <th>4</th>\n",
       "      <td>ham</td>\n",
       "      <td>Nah I don't think he goes to usf, he lives aro...</td>\n",
       "    </tr>\n",
       "  </tbody>\n",
       "</table>\n",
       "</div>"
      ],
      "text/plain": [
       "  label                                            message\n",
       "0   ham  Go until jurong point, crazy.. Available only ...\n",
       "1   ham                      Ok lar... Joking wif u oni...\n",
       "2  spam  Free entry in 2 a wkly comp to win FA Cup fina...\n",
       "3   ham  U dun say so early hor... U c already then say...\n",
       "4   ham  Nah I don't think he goes to usf, he lives aro..."
      ]
     },
     "execution_count": 58,
     "metadata": {},
     "output_type": "execute_result"
    }
   ],
   "source": [
    "#Check head\n",
    "msgs.head()"
   ]
  },
  {
   "cell_type": "code",
   "execution_count": 59,
   "id": "c62ffc48",
   "metadata": {},
   "outputs": [
    {
     "data": {
      "text/html": [
       "<div>\n",
       "<style scoped>\n",
       "    .dataframe tbody tr th:only-of-type {\n",
       "        vertical-align: middle;\n",
       "    }\n",
       "\n",
       "    .dataframe tbody tr th {\n",
       "        vertical-align: top;\n",
       "    }\n",
       "\n",
       "    .dataframe thead th {\n",
       "        text-align: right;\n",
       "    }\n",
       "</style>\n",
       "<table border=\"1\" class=\"dataframe\">\n",
       "  <thead>\n",
       "    <tr style=\"text-align: right;\">\n",
       "      <th></th>\n",
       "      <th>label</th>\n",
       "      <th>message</th>\n",
       "    </tr>\n",
       "  </thead>\n",
       "  <tbody>\n",
       "    <tr>\n",
       "      <th>count</th>\n",
       "      <td>5572</td>\n",
       "      <td>5572</td>\n",
       "    </tr>\n",
       "    <tr>\n",
       "      <th>unique</th>\n",
       "      <td>2</td>\n",
       "      <td>5169</td>\n",
       "    </tr>\n",
       "    <tr>\n",
       "      <th>top</th>\n",
       "      <td>ham</td>\n",
       "      <td>Sorry, I'll call later</td>\n",
       "    </tr>\n",
       "    <tr>\n",
       "      <th>freq</th>\n",
       "      <td>4825</td>\n",
       "      <td>30</td>\n",
       "    </tr>\n",
       "  </tbody>\n",
       "</table>\n",
       "</div>"
      ],
      "text/plain": [
       "       label                 message\n",
       "count   5572                    5572\n",
       "unique     2                    5169\n",
       "top      ham  Sorry, I'll call later\n",
       "freq    4825                      30"
      ]
     },
     "execution_count": 59,
     "metadata": {},
     "output_type": "execute_result"
    }
   ],
   "source": [
    "#Check stats\n",
    "msgs.describe()"
   ]
  },
  {
   "cell_type": "code",
   "execution_count": 60,
   "id": "e3ca5a86",
   "metadata": {},
   "outputs": [
    {
     "data": {
      "text/html": [
       "<div>\n",
       "<style scoped>\n",
       "    .dataframe tbody tr th:only-of-type {\n",
       "        vertical-align: middle;\n",
       "    }\n",
       "\n",
       "    .dataframe tbody tr th {\n",
       "        vertical-align: top;\n",
       "    }\n",
       "\n",
       "    .dataframe thead th {\n",
       "        text-align: right;\n",
       "    }\n",
       "</style>\n",
       "<table border=\"1\" class=\"dataframe\">\n",
       "  <thead>\n",
       "    <tr style=\"text-align: right;\">\n",
       "      <th></th>\n",
       "      <th>label</th>\n",
       "      <th>ham</th>\n",
       "      <th>spam</th>\n",
       "    </tr>\n",
       "  </thead>\n",
       "  <tbody>\n",
       "    <tr>\n",
       "      <th rowspan=\"4\" valign=\"top\">message</th>\n",
       "      <th>count</th>\n",
       "      <td>4825</td>\n",
       "      <td>747</td>\n",
       "    </tr>\n",
       "    <tr>\n",
       "      <th>unique</th>\n",
       "      <td>4516</td>\n",
       "      <td>653</td>\n",
       "    </tr>\n",
       "    <tr>\n",
       "      <th>top</th>\n",
       "      <td>Sorry, I'll call later</td>\n",
       "      <td>Please call our customer service representativ...</td>\n",
       "    </tr>\n",
       "    <tr>\n",
       "      <th>freq</th>\n",
       "      <td>30</td>\n",
       "      <td>4</td>\n",
       "    </tr>\n",
       "  </tbody>\n",
       "</table>\n",
       "</div>"
      ],
      "text/plain": [
       "label                              ham  \\\n",
       "message count                     4825   \n",
       "        unique                    4516   \n",
       "        top     Sorry, I'll call later   \n",
       "        freq                        30   \n",
       "\n",
       "label                                                        spam  \n",
       "message count                                                 747  \n",
       "        unique                                                653  \n",
       "        top     Please call our customer service representativ...  \n",
       "        freq                                                    4  "
      ]
     },
     "execution_count": 60,
     "metadata": {},
     "output_type": "execute_result"
    }
   ],
   "source": [
    "#Group messages by label\n",
    "msgs.groupby('label').describe().T"
   ]
  },
  {
   "cell_type": "code",
   "execution_count": 61,
   "id": "981fe235",
   "metadata": {},
   "outputs": [],
   "source": [
    "#Add SMS length as feature\n",
    "msgs['length'] = msgs['message'].apply(len)"
   ]
  },
  {
   "cell_type": "code",
   "execution_count": 62,
   "id": "e8735e7b",
   "metadata": {},
   "outputs": [
    {
     "data": {
      "text/html": [
       "<div>\n",
       "<style scoped>\n",
       "    .dataframe tbody tr th:only-of-type {\n",
       "        vertical-align: middle;\n",
       "    }\n",
       "\n",
       "    .dataframe tbody tr th {\n",
       "        vertical-align: top;\n",
       "    }\n",
       "\n",
       "    .dataframe thead th {\n",
       "        text-align: right;\n",
       "    }\n",
       "</style>\n",
       "<table border=\"1\" class=\"dataframe\">\n",
       "  <thead>\n",
       "    <tr style=\"text-align: right;\">\n",
       "      <th></th>\n",
       "      <th>label</th>\n",
       "      <th>message</th>\n",
       "      <th>length</th>\n",
       "    </tr>\n",
       "  </thead>\n",
       "  <tbody>\n",
       "    <tr>\n",
       "      <th>0</th>\n",
       "      <td>ham</td>\n",
       "      <td>Go until jurong point, crazy.. Available only ...</td>\n",
       "      <td>111</td>\n",
       "    </tr>\n",
       "    <tr>\n",
       "      <th>1</th>\n",
       "      <td>ham</td>\n",
       "      <td>Ok lar... Joking wif u oni...</td>\n",
       "      <td>29</td>\n",
       "    </tr>\n",
       "    <tr>\n",
       "      <th>2</th>\n",
       "      <td>spam</td>\n",
       "      <td>Free entry in 2 a wkly comp to win FA Cup fina...</td>\n",
       "      <td>155</td>\n",
       "    </tr>\n",
       "    <tr>\n",
       "      <th>3</th>\n",
       "      <td>ham</td>\n",
       "      <td>U dun say so early hor... U c already then say...</td>\n",
       "      <td>49</td>\n",
       "    </tr>\n",
       "    <tr>\n",
       "      <th>4</th>\n",
       "      <td>ham</td>\n",
       "      <td>Nah I don't think he goes to usf, he lives aro...</td>\n",
       "      <td>61</td>\n",
       "    </tr>\n",
       "  </tbody>\n",
       "</table>\n",
       "</div>"
      ],
      "text/plain": [
       "  label                                            message  length\n",
       "0   ham  Go until jurong point, crazy.. Available only ...     111\n",
       "1   ham                      Ok lar... Joking wif u oni...      29\n",
       "2  spam  Free entry in 2 a wkly comp to win FA Cup fina...     155\n",
       "3   ham  U dun say so early hor... U c already then say...      49\n",
       "4   ham  Nah I don't think he goes to usf, he lives aro...      61"
      ]
     },
     "execution_count": 62,
     "metadata": {},
     "output_type": "execute_result"
    }
   ],
   "source": [
    "#Check head\n",
    "msgs.head()"
   ]
  },
  {
   "cell_type": "code",
   "execution_count": 63,
   "id": "46dcf89e",
   "metadata": {},
   "outputs": [
    {
     "data": {
      "image/png": "[encoded data removed]",
      "text/plain": [
       "<Figure size 432x288 with 1 Axes>"
      ]
     },
     "metadata": {
      "needs_background": "light"
     },
     "output_type": "display_data"
    }
   ],
   "source": [
    "#Plot histogram of SMS length\n",
    "msgs['length'].plot.hist(bins=100)\n",
    "plt.show()"
   ]
  },
  {
   "cell_type": "code",
   "execution_count": 64,
   "id": "a3205409",
   "metadata": {},
   "outputs": [
    {
     "data": {
      "text/plain": [
       "count    5572.000000\n",
       "mean       80.489950\n",
       "std        59.942907\n",
       "min         2.000000\n",
       "25%        36.000000\n",
       "50%        62.000000\n",
       "75%       122.000000\n",
       "max       910.000000\n",
       "Name: length, dtype: float64"
      ]
     },
     "execution_count": 64,
     "metadata": {},
     "output_type": "execute_result"
    }
   ],
   "source": [
    "#Check stats\n",
    "msgs['length'].describe()"
   ]
  },
  {
   "cell_type": "code",
   "execution_count": 65,
   "id": "f62d4c4b",
   "metadata": {},
   "outputs": [
    {
     "data": {
      "text/plain": [
       "\"For me the love should start with attraction.i should feel that I need her every time around me.she should be the first thing which comes in my thoughts.I would start the day and end it with her.she should be there every time I dream.love will be then when my every breath has her name.my life should happen around her.my life will be named to her.I would cry for her.will give all my happiness and take all her sorrows.I will be ready to fight with anyone for her.I will be in love when I will be doing the craziest things for her.love will be when I don't have to proove anyone that my girl is the most beautiful lady on the whole planet.I will always be singing praises for her.love will be when I start up making chicken curry and end up makiing sambar.life will be the most beautiful then.will get every morning and thank god for the day because she is with me.I would like to say a lot..will tell later..\""
      ]
     },
     "execution_count": 65,
     "metadata": {},
     "output_type": "execute_result"
    }
   ],
   "source": [
    "#Check longest message\n",
    "msgs[msgs['length']==910]['message'].iloc[0]"
   ]
  },
  {
   "cell_type": "code",
   "execution_count": 66,
   "id": "cc89a839",
   "metadata": {},
   "outputs": [
    {
     "data": {
      "text/plain": [
       "array([<AxesSubplot:title={'center':'ham'}>,\n",
       "       <AxesSubplot:title={'center':'spam'}>], dtype=object)"
      ]
     },
     "execution_count": 66,
     "metadata": {},
     "output_type": "execute_result"
    },
    {
     "data": {
      "image/png": "[encoded data removed]",
      "text/plain": [
       "<Figure size 864x288 with 2 Axes>"
      ]
     },
     "metadata": {
      "needs_background": "light"
     },
     "output_type": "display_data"
    }
   ],
   "source": [
    "#Plot length of messages by label \n",
    "msgs.hist(column='length',by='label',figsize=(12,4),bins=60)"
   ]
  },
  {
   "cell_type": "code",
   "execution_count": 67,
   "id": "454468dc",
   "metadata": {
    "scrolled": true
   },
   "outputs": [
    {
     "data": {
      "text/plain": [
       "['S',\n",
       " 'i',\n",
       " 'm',\n",
       " 'p',\n",
       " 'l',\n",
       " 'e',\n",
       " ' ',\n",
       " 'm',\n",
       " 'e',\n",
       " 's',\n",
       " 's',\n",
       " 'a',\n",
       " 'g',\n",
       " 'e',\n",
       " ' ',\n",
       " 'N',\n",
       " 'o',\n",
       " 't',\n",
       " 'i',\n",
       " 'c',\n",
       " 'e',\n",
       " ' ',\n",
       " 'i',\n",
       " 't',\n",
       " ' ',\n",
       " 'h',\n",
       " 'a',\n",
       " 's',\n",
       " ' ',\n",
       " 'p',\n",
       " 'u',\n",
       " 'n',\n",
       " 'c',\n",
       " 't',\n",
       " 'u',\n",
       " 'a',\n",
       " 't',\n",
       " 'i',\n",
       " 'o',\n",
       " 'n',\n",
       " 's']"
      ]
     },
     "execution_count": 67,
     "metadata": {},
     "output_type": "execute_result"
    }
   ],
   "source": [
    "my_msg = 'Simple message!!. Notice: it has punctuations.'\n",
    "nopuncmsg = [c for c in my_msg if c not in string.punctuation]\n",
    "nopuncmsg"
   ]
  },
  {
   "cell_type": "code",
   "execution_count": 68,
   "id": "9a9e68ff",
   "metadata": {},
   "outputs": [
    {
     "data": {
      "text/plain": [
       "'Simple message Notice it has punctuations'"
      ]
     },
     "execution_count": 68,
     "metadata": {},
     "output_type": "execute_result"
    }
   ],
   "source": [
    "nopuncmsg = ''.join(nopuncmsg)\n",
    "nopuncmsg"
   ]
  },
  {
   "cell_type": "code",
   "execution_count": 69,
   "id": "15bab290",
   "metadata": {},
   "outputs": [
    {
     "data": {
      "text/plain": [
       "['i', 'me', 'my', 'myself', 'we']"
      ]
     },
     "execution_count": 69,
     "metadata": {},
     "output_type": "execute_result"
    }
   ],
   "source": [
    "stopwords.words('english')[:5] "
   ]
  },
  {
   "cell_type": "code",
   "execution_count": 70,
   "id": "9bccc70f",
   "metadata": {},
   "outputs": [
    {
     "data": {
      "text/plain": [
       "['Simple', 'message', 'Notice', 'it', 'has', 'punctuations']"
      ]
     },
     "execution_count": 70,
     "metadata": {},
     "output_type": "execute_result"
    }
   ],
   "source": [
    "nopuncmsg.split()"
   ]
  },
  {
   "cell_type": "code",
   "execution_count": 71,
   "id": "06b8ff17",
   "metadata": {},
   "outputs": [
    {
     "data": {
      "text/plain": [
       "['Simple', 'message', 'Notice', 'punctuations']"
      ]
     },
     "execution_count": 71,
     "metadata": {},
     "output_type": "execute_result"
    }
   ],
   "source": [
    "clean_msg = [word for word in nopuncmsg.split() if word.lower() not in stopwords.words('english')]\n",
    "clean_msg"
   ]
  },
  {
   "cell_type": "code",
   "execution_count": 72,
   "id": "8658e1a9",
   "metadata": {},
   "outputs": [],
   "source": [
    "#Function to pre-process message\n",
    "def pre_process(my_msg):\n",
    "    \"\"\"\n",
    "    1. Remove punctuations\n",
    "    2. Remove stopwords\n",
    "    3. return list of clean text word\n",
    "    \"\"\"\n",
    "    nopuncmsg = [ch for ch in my_msg if ch not in string.punctuation]\n",
    "    nopuncmsg = ''.join(nopuncmsg)\n",
    "    return [word for word in nopuncmsg.split() if word.lower() not in stopwords.words('english')]"
   ]
  },
  {
   "cell_type": "code",
   "execution_count": 73,
   "id": "a9340981",
   "metadata": {},
   "outputs": [],
   "source": [
    "#Get tokens\n",
    "msgs['tokens'] = msgs['message'].apply(pre_process)"
   ]
  },
  {
   "cell_type": "code",
   "execution_count": 74,
   "id": "7c2ec565",
   "metadata": {},
   "outputs": [],
   "source": [
    "#We can do stemming as well\n",
    "#Get bag of words model\n",
    "bow_transformer = CountVectorizer(analyzer=pre_process).fit(msgs['message'])"
   ]
  },
  {
   "cell_type": "code",
   "execution_count": 100,
   "id": "8e01359f",
   "metadata": {},
   "outputs": [
    {
     "name": "stdout",
     "output_type": "stream",
     "text": [
      "Vocabulary Size:11425\n"
     ]
    }
   ],
   "source": [
    "print(f'Vocabulary Size:{len(bow_transformer.vocabulary_)}')"
   ]
  },
  {
   "cell_type": "code",
   "execution_count": 76,
   "id": "03bcc577",
   "metadata": {},
   "outputs": [
    {
     "data": {
      "text/plain": [
       "'U dun say so early hor... U c already then say...'"
      ]
     },
     "execution_count": 76,
     "metadata": {},
     "output_type": "execute_result"
    }
   ],
   "source": [
    "#Sample message\n",
    "mess = msgs['message'][3]\n",
    "mess"
   ]
  },
  {
   "cell_type": "code",
   "execution_count": 77,
   "id": "dd6bf521",
   "metadata": {},
   "outputs": [
    {
     "name": "stdout",
     "output_type": "stream",
     "text": [
      "Trsnformed Sample:  (0, 4068)\t2\n",
      "  (0, 4629)\t1\n",
      "  (0, 5261)\t1\n",
      "  (0, 6204)\t1\n",
      "  (0, 6222)\t1\n",
      "  (0, 7186)\t1\n",
      "  (0, 9554)\t2\n",
      "Trsnformed Sample Shape:(1, 11425)\n"
     ]
    }
   ],
   "source": [
    "#Sample transformation\n",
    "bow = bow_transformer.transform([mess])\n",
    "print(f'Trsnformed Sample:{bow}') # 7 unique tokens aka words. 'U' and 'say' each have count '2'\n",
    "print(f'Trsnformed Sample Shape:{bow.shape}') # 1 row with 7 non-zero values. "
   ]
  },
  {
   "cell_type": "code",
   "execution_count": 78,
   "id": "97fb4e54",
   "metadata": {},
   "outputs": [
    {
     "name": "stdout",
     "output_type": "stream",
     "text": [
      "U\n",
      "say\n"
     ]
    }
   ],
   "source": [
    "#Check feature (words) at positions\n",
    "print(bow_transformer.get_feature_names()[4068])\n",
    "print(bow_transformer.get_feature_names()[9554])"
   ]
  },
  {
   "cell_type": "code",
   "execution_count": 79,
   "id": "2c3571ce",
   "metadata": {},
   "outputs": [],
   "source": [
    "#Corpus transformation\n",
    "msgs_bow = bow_transformer.transform(msgs['message'])"
   ]
  },
  {
   "cell_type": "code",
   "execution_count": 80,
   "id": "da2749e1",
   "metadata": {},
   "outputs": [
    {
     "name": "stdout",
     "output_type": "stream",
     "text": [
      "Corpus Shape: (5572, 11425)\n"
     ]
    }
   ],
   "source": [
    "print('Corpus Shape:',msgs_bow.shape)"
   ]
  },
  {
   "cell_type": "code",
   "execution_count": 81,
   "id": "2d32a491",
   "metadata": {},
   "outputs": [
    {
     "data": {
      "text/plain": [
       "5572"
      ]
     },
     "execution_count": 81,
     "metadata": {},
     "output_type": "execute_result"
    }
   ],
   "source": [
    "msgs_bow.shape[0]"
   ]
  },
  {
   "cell_type": "code",
   "execution_count": 82,
   "id": "8a145dcc",
   "metadata": {},
   "outputs": [
    {
     "data": {
      "text/plain": [
       "11425"
      ]
     },
     "execution_count": 82,
     "metadata": {},
     "output_type": "execute_result"
    }
   ],
   "source": [
    "msgs_bow.shape[1]"
   ]
  },
  {
   "cell_type": "code",
   "execution_count": 83,
   "id": "a202325d",
   "metadata": {},
   "outputs": [
    {
     "data": {
      "text/plain": [
       "50548"
      ]
     },
     "execution_count": 83,
     "metadata": {},
     "output_type": "execute_result"
    }
   ],
   "source": [
    "msgs_bow.nnz #Non zero occurences"
   ]
  },
  {
   "cell_type": "code",
   "execution_count": 84,
   "id": "8782fceb",
   "metadata": {},
   "outputs": [
    {
     "name": "stdout",
     "output_type": "stream",
     "text": [
      "Sparsity:0.07940295412668218\n"
     ]
    }
   ],
   "source": [
    "#Sparisty\n",
    "sparsity = (100.0 * msgs_bow.nnz / (msgs_bow.shape[0] * msgs_bow.shape[1]))\n",
    "print(f'Sparsity:{sparsity}')"
   ]
  },
  {
   "cell_type": "code",
   "execution_count": 85,
   "id": "d93c335c",
   "metadata": {},
   "outputs": [],
   "source": [
    "#Create and fit tfidf transformer\n",
    "tfidf_transformer = TfidfTransformer().fit(msgs_bow)"
   ]
  },
  {
   "cell_type": "code",
   "execution_count": 86,
   "id": "b85b77b4",
   "metadata": {},
   "outputs": [],
   "source": [
    "#Transform sample sms using tfidf\n",
    "tfidf_bow = tfidf_transformer.transform(bow)"
   ]
  },
  {
   "cell_type": "code",
   "execution_count": 87,
   "id": "84425abf",
   "metadata": {},
   "outputs": [
    {
     "name": "stdout",
     "output_type": "stream",
     "text": [
      "  (0, 9554)\t0.5385626262927564\n",
      "  (0, 7186)\t0.4389365653379857\n",
      "  (0, 6222)\t0.3187216892949149\n",
      "  (0, 6204)\t0.29953799723697416\n",
      "  (0, 5261)\t0.29729957405868723\n",
      "  (0, 4629)\t0.26619801906087187\n",
      "  (0, 4068)\t0.40832589933384067\n"
     ]
    }
   ],
   "source": [
    "print(tfidf_bow)"
   ]
  },
  {
   "cell_type": "code",
   "execution_count": 88,
   "id": "77f09046",
   "metadata": {},
   "outputs": [
    {
     "data": {
      "text/plain": [
       "8.527076498901426"
      ]
     },
     "execution_count": 88,
     "metadata": {},
     "output_type": "execute_result"
    }
   ],
   "source": [
    "#Check inverse-document-fequencey of the word 'university'\n",
    "tfidf_transformer.idf_[bow_transformer.vocabulary_['university']]"
   ]
  },
  {
   "cell_type": "code",
   "execution_count": 89,
   "id": "a87fc02b",
   "metadata": {},
   "outputs": [],
   "source": [
    "#Transform corpus using tfidf\n",
    "msgs_tfidf = tfidf_transformer.transform(msgs_bow)"
   ]
  },
  {
   "cell_type": "code",
   "execution_count": 90,
   "id": "730c6d8f",
   "metadata": {},
   "outputs": [],
   "source": [
    "#Create and fi MultinomialNB on entire dataset to check\n",
    "spam_detect_model = MultinomialNB().fit(msgs_tfidf,msgs['label'])"
   ]
  },
  {
   "cell_type": "code",
   "execution_count": 91,
   "id": "7bf891bb",
   "metadata": {},
   "outputs": [
    {
     "data": {
      "text/plain": [
       "array(['ham'], dtype='<U4')"
      ]
     },
     "execution_count": 91,
     "metadata": {},
     "output_type": "execute_result"
    }
   ],
   "source": [
    "#Predict label of sample message\n",
    "spam_detect_model.predict(bow)"
   ]
  },
  {
   "cell_type": "code",
   "execution_count": 92,
   "id": "359f1f9a",
   "metadata": {},
   "outputs": [
    {
     "data": {
      "text/plain": [
       "'ham'"
      ]
     },
     "execution_count": 92,
     "metadata": {},
     "output_type": "execute_result"
    }
   ],
   "source": [
    "#Check true label of sample message\n",
    "msgs['label'][3]"
   ]
  },
  {
   "cell_type": "code",
   "execution_count": 93,
   "id": "23fd2d3e",
   "metadata": {},
   "outputs": [],
   "source": [
    "#Get predictions for entire courpus\n",
    "all_pred = spam_detect_model.predict(msgs_tfidf)"
   ]
  },
  {
   "cell_type": "code",
   "execution_count": 94,
   "id": "ac4df32b",
   "metadata": {},
   "outputs": [
    {
     "data": {
      "text/plain": [
       "array(['ham', 'ham', 'spam', ..., 'ham', 'ham', 'ham'], dtype='<U4')"
      ]
     },
     "execution_count": 94,
     "metadata": {},
     "output_type": "execute_result"
    }
   ],
   "source": [
    "#Check preidictions\n",
    "all_pred"
   ]
  },
  {
   "cell_type": "code",
   "execution_count": 95,
   "id": "4248e5f8",
   "metadata": {},
   "outputs": [],
   "source": [
    "#Train test split\n",
    "X_train, X_test, y_train, y_test = train_test_split(msgs['message'], msgs['label'], test_size = 0.3, random_state=101)"
   ]
  },
  {
   "cell_type": "code",
   "execution_count": 96,
   "id": "90ad29d9",
   "metadata": {},
   "outputs": [],
   "source": [
    "#Create pipeline \n",
    "pipeline = Pipeline([\n",
    "    ('bow',CountVectorizer(analyzer=pre_process)),\n",
    "    ('tfdif',TfidfTransformer()),\n",
    "    ('classifier',MultinomialNB())\n",
    "])"
   ]
  },
  {
   "cell_type": "code",
   "execution_count": 97,
   "id": "072ac88e",
   "metadata": {},
   "outputs": [
    {
     "data": {
      "text/plain": [
       "Pipeline(steps=[('bow',\n",
       "                 CountVectorizer(analyzer=<function pre_process at 0x0000028AFC607280>)),\n",
       "                ('tfdif', TfidfTransformer()),\n",
       "                ('classifier', MultinomialNB())])"
      ]
     },
     "execution_count": 97,
     "metadata": {},
     "output_type": "execute_result"
    }
   ],
   "source": [
    "#Fit\n",
    "pipeline.fit(X_train,y_train)"
   ]
  },
  {
   "cell_type": "code",
   "execution_count": 98,
   "id": "a17397dc",
   "metadata": {},
   "outputs": [],
   "source": [
    "#Predict on Test\n",
    "predictions = pipeline.predict(X_test)"
   ]
  },
  {
   "cell_type": "code",
   "execution_count": 101,
   "id": "bae0af9d",
   "metadata": {},
   "outputs": [
    {
     "name": "stdout",
     "output_type": "stream",
     "text": [
      "Classification Report:\n",
      "              precision    recall  f1-score   support\n",
      "\n",
      "         ham       0.96      1.00      0.98      1475\n",
      "        spam       1.00      0.65      0.79       197\n",
      "\n",
      "    accuracy                           0.96      1672\n",
      "   macro avg       0.98      0.83      0.88      1672\n",
      "weighted avg       0.96      0.96      0.96      1672\n",
      "\n"
     ]
    }
   ],
   "source": [
    "#Display classification report\n",
    "print(f'Classification Report:\\n{classification_report(y_test,predictions)}')"
   ]
  }
 ],
 "metadata": {
  "kernelspec": {
   "display_name": "Python 3",
   "language": "python",
   "name": "python3"
  },
  "language_info": {
   "codemirror_mode": {
    "name": "ipython",
    "version": 3
   },
   "file_extension": ".py",
   "mimetype": "text/x-python",
   "name": "python",
   "nbconvert_exporter": "python",
   "pygments_lexer": "ipython3",
   "version": "3.8.8"
  }
 },
 "nbformat": 4,
 "nbformat_minor": 5
}
