{
 "cells": [
  {
   "cell_type": "markdown",
   "id": "17578de0",
   "metadata": {},
   "source": [
    "**Author:** Boris Kundu\n",
    "\n",
    "**Problem Statement:** Comparison of CNN techniques\n",
    "\n",
    "**Dataset:** COVID-19 hospitalizations"
   ]
  },
  {
   "cell_type": "code",
   "execution_count": 210,
   "id": "8df96bc8",
   "metadata": {},
   "outputs": [],
   "source": [
    "import numpy as np\n",
    "import matplotlib.pyplot as plt\n",
    "import torch\n",
    "import torch.nn as nn\n",
    "import torch.nn.functional as F\n",
    "import torch.optim as optim\n",
    "from sklearn.linear_model import LinearRegression\n",
    "from sklearn.metrics import mean_squared_error\n",
    "import os\n",
    "os.environ[\"KMP_DUPLICATE_LIB_OK\"]=\"TRUE\"\n",
    "%matplotlib inline"
   ]
  },
  {
   "cell_type": "code",
   "execution_count": 211,
   "id": "87b66584",
   "metadata": {},
   "outputs": [],
   "source": [
    "data = np.genfromtxt('hospitalizations.txt', delimiter=' ')\n",
    "hosp = data[:,1]\n",
    "mean = np.mean(hosp, axis=0)\n",
    "std = np.std(hosp, axis=0)\n",
    "hosp = (hosp - mean)/std"
   ]
  },
  {
   "cell_type": "code",
   "execution_count": 212,
   "id": "e0202453",
   "metadata": {},
   "outputs": [
    {
     "data": {
      "image/png": "[encoded data removed]",
      "text/plain": [
       "<Figure size 432x288 with 1 Axes>"
      ]
     },
     "metadata": {
      "needs_background": "light"
     },
     "output_type": "display_data"
    }
   ],
   "source": [
    "plt.plot(hosp)\n",
    "plt.title('US Covid Hospitalization data')\n",
    "plt.show()"
   ]
  },
  {
   "cell_type": "code",
   "execution_count": 213,
   "id": "9199eb1d",
   "metadata": {},
   "outputs": [],
   "source": [
    "last = len(hosp)\n",
    "seqlen = 20 # input size or window size\n",
    "batchsize = 50 # data period and number of data points\n",
    "trainbegin = np.random.randint(400)"
   ]
  },
  {
   "cell_type": "code",
   "execution_count": 214,
   "id": "df5836fe",
   "metadata": {},
   "outputs": [],
   "source": [
    "Xtrain = hosp[trainbegin:trainbegin+seqlen]\n",
    "ytrain = hosp[trainbegin+seqlen]\n",
    "for i in range(1, batchsize):\n",
    "    Xtrain = np.vstack([Xtrain, hosp[trainbegin+i:trainbegin+i+seqlen]])\n",
    "    ytrain = np.append(ytrain, hosp[trainbegin+i+seqlen])"
   ]
  },
  {
   "cell_type": "code",
   "execution_count": 215,
   "id": "e7cb2ca2",
   "metadata": {},
   "outputs": [
    {
     "name": "stdout",
     "output_type": "stream",
     "text": [
      "LinearRegression MSE: 0.004543808159387797\n"
     ]
    }
   ],
   "source": [
    "#Linear Regression\n",
    "lin_reg = LinearRegression()\n",
    "lin_reg.fit(Xtrain, ytrain)\n",
    "ypred = lin_reg.predict(Xtrain)\n",
    "print('LinearRegression MSE:', mean_squared_error(ytrain, ypred))"
   ]
  },
  {
   "cell_type": "code",
   "execution_count": 216,
   "id": "813a0422",
   "metadata": {},
   "outputs": [
    {
     "name": "stdout",
     "output_type": "stream",
     "text": [
      "X Shape:torch.Size([50, 20])\n",
      "Y Shape:torch.Size([50])\n"
     ]
    }
   ],
   "source": [
    "X = torch.tensor(Xtrain, dtype=torch.float)\n",
    "y = torch.tensor(ytrain, dtype=torch.float)\n",
    "print(f'X Shape:{X.shape}')\n",
    "print(f'Y Shape:{y.shape}')"
   ]
  },
  {
   "cell_type": "code",
   "execution_count": 217,
   "id": "9874b00d",
   "metadata": {},
   "outputs": [],
   "source": [
    "#For GRUCell\n",
    "inputsize = 1\n",
    "hiddensize = 10\n",
    "outputsize = 1\n",
    "iterations = 1000\n",
    "X2 = torch.reshape(X.T, (seqlen, batchsize, inputsize))"
   ]
  },
  {
   "cell_type": "code",
   "execution_count": 218,
   "id": "d5196bc5",
   "metadata": {},
   "outputs": [],
   "source": [
    "class GRUCell(nn.Module):\n",
    "    def __init__(self, inputsize, hiddensize, outputsize, seqlen, batchsize):\n",
    "        super(GRUCell, self).__init__()\n",
    "        self.rnn = nn.GRUCell(inputsize, hiddensize)\n",
    "        self.layer2 = nn.Linear(hiddensize, outputsize)\n",
    "    def forward(self, x):\n",
    "        hx = torch.randn(batchsize, hiddensize)\n",
    "        for i in range(seqlen):\n",
    "            hx = self.rnn(X2[i], hx)\n",
    "        return self.layer2(hx)[:, 0]"
   ]
  },
  {
   "cell_type": "code",
   "execution_count": 219,
   "id": "0278c8d9",
   "metadata": {},
   "outputs": [],
   "source": [
    "model = GRUCell(inputsize, hiddensize, outputsize, seqlen, batchsize)\n",
    "optimizer = optim.Adam(model.parameters())"
   ]
  },
  {
   "cell_type": "code",
   "execution_count": 220,
   "id": "7e4e0331",
   "metadata": {},
   "outputs": [
    {
     "name": "stdout",
     "output_type": "stream",
     "text": [
      "Epoch:1 with Loss:3.4735889434814453\n",
      "Epoch:101 with Loss:0.3818792700767517\n",
      "Epoch:201 with Loss:0.05484144389629364\n",
      "Epoch:301 with Loss:0.0503804050385952\n",
      "Epoch:401 with Loss:0.04461286962032318\n",
      "Epoch:501 with Loss:0.037253525108098984\n",
      "Epoch:601 with Loss:0.027923867106437683\n",
      "Epoch:701 with Loss:0.016984475776553154\n",
      "Epoch:801 with Loss:0.014358137734234333\n",
      "Epoch:901 with Loss:0.012922792695462704\n"
     ]
    }
   ],
   "source": [
    "for i in range(iterations):\n",
    "    yhat = model(X2)\n",
    "    L = F.mse_loss(yhat, y)\n",
    "    if(i%100 == 0):\n",
    "        print(f'Epoch:{i+1} with Loss:{L.item()}')\n",
    "    optimizer.zero_grad()\n",
    "    L.backward()\n",
    "    optimizer.step()"
   ]
  },
  {
   "cell_type": "code",
   "execution_count": 221,
   "id": "9a8f1201",
   "metadata": {},
   "outputs": [
    {
     "name": "stdout",
     "output_type": "stream",
     "text": [
      "GRU MSE: 0.011737953871488571\n"
     ]
    }
   ],
   "source": [
    "yGRU = yhat\n",
    "print('GRU MSE:', F.mse_loss(yhat, y).item())"
   ]
  },
  {
   "cell_type": "code",
   "execution_count": 222,
   "id": "de1518d7",
   "metadata": {},
   "outputs": [],
   "source": [
    "kernelsize = 3\n",
    "stride = 2\n",
    "X2 = torch.reshape(X, (batchsize, inputsize, seqlen))"
   ]
  },
  {
   "cell_type": "code",
   "execution_count": 223,
   "id": "749c6759",
   "metadata": {},
   "outputs": [],
   "source": [
    "class Model(nn.Module):\n",
    "    def __init__(self, inputsize, hiddensize, outputsize, kernelsize, stride, batchsize):\n",
    "        super(Model, self).__init__()\n",
    "        self.cnn1 = nn.Conv1d(inputsize, hiddensize, kernelsize, stride=stride)\n",
    "        self.activation = nn.ReLU()\n",
    "        self.pool = nn.AvgPool1d(kernelsize)\n",
    "        self.cnn2 = nn.Conv1d(hiddensize, outputsize, kernelsize)\n",
    "\n",
    "    def forward(self, x):\n",
    "        activated = self.activation(self.cnn1(x))\n",
    "        pooled = self.pool(activated)\n",
    "        output = self.cnn2(pooled)\n",
    "        return output[:, 0, 0]"
   ]
  },
  {
   "cell_type": "code",
   "execution_count": 224,
   "id": "69fde177",
   "metadata": {},
   "outputs": [],
   "source": [
    "model = Model(inputsize, hiddensize, outputsize, kernelsize, stride, batchsize)\n",
    "optimizer = optim.Adam(model.parameters())"
   ]
  },
  {
   "cell_type": "code",
   "execution_count": 225,
   "id": "77edfa34",
   "metadata": {
    "scrolled": true
   },
   "outputs": [
    {
     "name": "stdout",
     "output_type": "stream",
     "text": [
      "Epoch:1 with Loss:8.462798118591309\n",
      "Epoch:101 with Loss:0.8398215770721436\n",
      "Epoch:201 with Loss:0.044041022658348083\n",
      "Epoch:301 with Loss:0.04344680905342102\n",
      "Epoch:401 with Loss:0.04281901195645332\n",
      "Epoch:501 with Loss:0.042141176760196686\n",
      "Epoch:601 with Loss:0.041435226798057556\n",
      "Epoch:701 with Loss:0.040719173848629\n",
      "Epoch:801 with Loss:0.04000772535800934\n",
      "Epoch:901 with Loss:0.03931061923503876\n"
     ]
    }
   ],
   "source": [
    "for i in range(iterations):\n",
    "    yhat = model(X2)\n",
    "    L = F.mse_loss(yhat, y)\n",
    "    if(i%100 == 0):\n",
    "        print(f'Epoch:{i+1} with Loss:{L.item()}')\n",
    "    optimizer.zero_grad()\n",
    "    L.backward()\n",
    "    optimizer.step()"
   ]
  },
  {
   "cell_type": "code",
   "execution_count": 226,
   "id": "3577c9fa",
   "metadata": {},
   "outputs": [
    {
     "name": "stdout",
     "output_type": "stream",
     "text": [
      "CNN MSE: 0.03864123299717903\n"
     ]
    }
   ],
   "source": [
    "yCNN = yhat\n",
    "print('CNN MSE:', F.mse_loss(yhat, y).item())"
   ]
  },
  {
   "cell_type": "code",
   "execution_count": 227,
   "id": "1de8a050",
   "metadata": {},
   "outputs": [
    {
     "data": {
      "image/png": "[encoded data removed]",
      "text/plain": [
       "<Figure size 432x288 with 1 Axes>"
      ]
     },
     "metadata": {
      "needs_background": "light"
     },
     "output_type": "display_data"
    }
   ],
   "source": [
    "plt.plot(ytrain)\n",
    "plt.plot(ypred)\n",
    "plt.plot(yGRU.detach().numpy())\n",
    "plt.plot(yCNN.detach().numpy())\n",
    "plt.legend(['Truth','LinearRegression', 'GRU', 'CNN'])\n",
    "plt.title('Training at ' + str(trainbegin))\n",
    "plt.show()"
   ]
  },
  {
   "cell_type": "code",
   "execution_count": 228,
   "id": "8a146cc2",
   "metadata": {},
   "outputs": [],
   "source": [
    "seqlen = 28 # input size or window size"
   ]
  },
  {
   "cell_type": "code",
   "execution_count": 229,
   "id": "e385a627",
   "metadata": {},
   "outputs": [],
   "source": [
    "Xtrain = hosp[trainbegin:trainbegin+seqlen]\n",
    "ytrain = hosp[trainbegin+seqlen]\n",
    "for i in range(1, batchsize):\n",
    "    Xtrain = np.vstack([Xtrain, hosp[trainbegin+i:trainbegin+i+seqlen]])\n",
    "    ytrain = np.append(ytrain, hosp[trainbegin+i+seqlen])"
   ]
  },
  {
   "cell_type": "code",
   "execution_count": 230,
   "id": "91a5b519",
   "metadata": {},
   "outputs": [
    {
     "name": "stdout",
     "output_type": "stream",
     "text": [
      "LinearRegression MSE: 0.0032672021529352056\n"
     ]
    }
   ],
   "source": [
    "#Linear regression on Conv1d with different sqlen and params\n",
    "lin_reg = LinearRegression()\n",
    "lin_reg.fit(Xtrain, ytrain)\n",
    "ypred = lin_reg.predict(Xtrain)\n",
    "print('LinearRegression MSE:', mean_squared_error(ytrain, ypred))"
   ]
  },
  {
   "cell_type": "code",
   "execution_count": 231,
   "id": "0ba7eb52",
   "metadata": {},
   "outputs": [
    {
     "name": "stdout",
     "output_type": "stream",
     "text": [
      "X Shape:torch.Size([50, 28])\n",
      "Y Shape:torch.Size([50])\n"
     ]
    }
   ],
   "source": [
    "X = torch.tensor(Xtrain, dtype=torch.float)\n",
    "y = torch.tensor(ytrain, dtype=torch.float)\n",
    "print(f'X Shape:{X.shape}')\n",
    "print(f'Y Shape:{y.shape}')"
   ]
  },
  {
   "cell_type": "code",
   "execution_count": 232,
   "id": "93f3dd8e",
   "metadata": {},
   "outputs": [],
   "source": [
    "#For GRU Cell\n",
    "inputsize = 1\n",
    "hiddensize = 10\n",
    "outputsize = 1\n",
    "X2 = torch.reshape(X.T, (seqlen, batchsize, inputsize))"
   ]
  },
  {
   "cell_type": "code",
   "execution_count": 233,
   "id": "5c637f33",
   "metadata": {},
   "outputs": [],
   "source": [
    "model = GRUCell(inputsize, hiddensize, outputsize, seqlen, batchsize)\n",
    "optimizer = optim.Adam(model.parameters())"
   ]
  },
  {
   "cell_type": "code",
   "execution_count": 234,
   "id": "18db6f9e",
   "metadata": {},
   "outputs": [
    {
     "name": "stdout",
     "output_type": "stream",
     "text": [
      "Epoch:1 with Loss:2.68227481842041\n",
      "Epoch:101 with Loss:0.3852275013923645\n",
      "Epoch:201 with Loss:0.10317128151655197\n",
      "Epoch:301 with Loss:0.09398709237575531\n",
      "Epoch:401 with Loss:0.0815044417977333\n",
      "Epoch:501 with Loss:0.06334556639194489\n",
      "Epoch:601 with Loss:0.04168884456157684\n",
      "Epoch:701 with Loss:0.01736360788345337\n",
      "Epoch:801 with Loss:0.010410887189209461\n",
      "Epoch:901 with Loss:0.009238493628799915\n"
     ]
    }
   ],
   "source": [
    "for i in range(iterations):\n",
    "    yhat = model(X2)\n",
    "    L = F.mse_loss(yhat, y)\n",
    "    if(i%100 == 0):\n",
    "        print(f'Epoch:{i+1} with Loss:{L.item()}')\n",
    "    optimizer.zero_grad()\n",
    "    L.backward()\n",
    "    optimizer.step()"
   ]
  },
  {
   "cell_type": "code",
   "execution_count": 235,
   "id": "d66635b3",
   "metadata": {},
   "outputs": [
    {
     "name": "stdout",
     "output_type": "stream",
     "text": [
      "GRU MSE: 0.008480801247060299\n"
     ]
    }
   ],
   "source": [
    "yGRU = yhat\n",
    "print('GRU MSE:', F.mse_loss(yhat, y).item())"
   ]
  },
  {
   "cell_type": "code",
   "execution_count": 236,
   "id": "4b27bbbe",
   "metadata": {},
   "outputs": [],
   "source": [
    "hiddensize1 = 6\n",
    "hiddensize2 = 16\n",
    "hiddensize3 = 80\n",
    "hiddensize4 = 20\n",
    "kernelsize = 5\n",
    "poolsize = 2\n",
    "X2 = torch.reshape(X, (batchsize, inputsize, seqlen))"
   ]
  },
  {
   "cell_type": "code",
   "execution_count": 237,
   "id": "a37e0a91",
   "metadata": {},
   "outputs": [],
   "source": [
    "class Model1(nn.Module):\n",
    "    def __init__(self, inputsize, hiddensize1, hiddensize2, hiddensize3, hiddensize4, outputsize, kernelsize, poolsize, batchsize):\n",
    "        super(Model1, self).__init__()\n",
    "        self.cnn1 = nn.Conv1d(inputsize, hiddensize1, kernelsize, padding=2)\n",
    "        self.pool1 = nn.AvgPool1d(poolsize)\n",
    "        self.cnn2 = nn.Conv1d(hiddensize1, hiddensize2, kernelsize)\n",
    "        self.pool2 = nn.AvgPool1d(poolsize)\n",
    "        self.linear1 = nn.Linear(hiddensize3, hiddensize4)\n",
    "        self.linear2 = nn.Linear(hiddensize4, outputsize)\n",
    "\n",
    "    def forward(self, x):\n",
    "        conved1 = self.cnn1(x)\n",
    "        pooled1 = self.pool1(conved1)\n",
    "        conved2 = self.cnn2(pooled1)\n",
    "        pooled2 = self.pool2(conved2)\n",
    "        x = pooled2.reshape(batchsize, hiddensize3)\n",
    "        z = self.linear1(x)\n",
    "        output = self.linear2(z)\n",
    "        return output[:, 0]"
   ]
  },
  {
   "cell_type": "code",
   "execution_count": 238,
   "id": "8e2fe919",
   "metadata": {},
   "outputs": [],
   "source": [
    "model1 = Model1(inputsize, hiddensize1, hiddensize2, hiddensize3, hiddensize4, \n",
    "            outputsize, kernelsize, poolsize, batchsize)\n",
    "optimizer1 = optim.Adam(model1.parameters())"
   ]
  },
  {
   "cell_type": "code",
   "execution_count": 239,
   "id": "bc6b8de4",
   "metadata": {},
   "outputs": [
    {
     "name": "stdout",
     "output_type": "stream",
     "text": [
      "Epoch:1 with Loss:4.072117328643799\n",
      "Epoch:101 with Loss:0.12621378898620605\n",
      "Epoch:201 with Loss:0.016778239980340004\n",
      "Epoch:301 with Loss:0.013548013754189014\n",
      "Epoch:401 with Loss:0.01259706262499094\n",
      "Epoch:501 with Loss:0.011670383624732494\n",
      "Epoch:601 with Loss:0.010787134990096092\n",
      "Epoch:701 with Loss:0.009964220225811005\n",
      "Epoch:801 with Loss:0.00921714585274458\n",
      "Epoch:901 with Loss:0.008558540605008602\n"
     ]
    }
   ],
   "source": [
    "for i in range(epochs):\n",
    "    yhat = model1(X2)\n",
    "    L = F.mse_loss(yhat, y)\n",
    "    if(i%100 == 0):\n",
    "        print(f'Epoch:{i+1} with Loss:{L.item()}')\n",
    "    optimizer1.zero_grad()\n",
    "    L.backward()\n",
    "    optimizer1.step()"
   ]
  },
  {
   "cell_type": "code",
   "execution_count": 240,
   "id": "26666eaf",
   "metadata": {},
   "outputs": [
    {
     "name": "stdout",
     "output_type": "stream",
     "text": [
      "LeNet5 MSE: 0.008000866509974003\n"
     ]
    }
   ],
   "source": [
    "yCNN = yhat\n",
    "print('LeNet5 MSE:', F.mse_loss(yhat, y).item())"
   ]
  },
  {
   "cell_type": "code",
   "execution_count": 241,
   "id": "9131e6f4",
   "metadata": {},
   "outputs": [
    {
     "data": {
      "image/png": "[encoded data removed]",
      "text/plain": [
       "<Figure size 432x288 with 1 Axes>"
      ]
     },
     "metadata": {
      "needs_background": "light"
     },
     "output_type": "display_data"
    }
   ],
   "source": [
    "plt.plot(ytrain)\n",
    "plt.plot(ypred)\n",
    "plt.plot(yGRU.detach().numpy())\n",
    "plt.plot(yCNN.detach().numpy())\n",
    "plt.legend(['Truth','LinearRegression', 'GRU', 'LeNet5'])\n",
    "plt.title('Training at ' + str(trainbegin))\n",
    "plt.show()"
   ]
  }
 ],
 "metadata": {
  "kernelspec": {
   "display_name": "Python 3 (ipykernel)",
   "language": "python",
   "name": "python3"
  },
  "language_info": {
   "codemirror_mode": {
    "name": "ipython",
    "version": 3
   },
   "file_extension": ".py",
   "mimetype": "text/x-python",
   "name": "python",
   "nbconvert_exporter": "python",
   "pygments_lexer": "ipython3",
   "version": "3.9.7"
  }
 },
 "nbformat": 4,
 "nbformat_minor": 5
}
