{
 "cells": [
  {
   "cell_type": "markdown",
   "id": "9d60b809",
   "metadata": {},
   "source": [
    "**Author:** Boris Kundu\n",
    "\n",
    "**Problem Statement:** Simple autoencoder implementation using PyTorch with hidden feature plot.\n",
    "\n",
    "**Dataset:** Iris"
   ]
  },
  {
   "cell_type": "code",
   "execution_count": 130,
   "id": "37dfb1a7",
   "metadata": {},
   "outputs": [],
   "source": [
    "#Import packages\n",
    "import matplotlib.pyplot as plt\n",
    "#!pip install torch\n",
    "import torch\n",
    "import torch.nn as nn\n",
    "from sklearn import datasets"
   ]
  },
  {
   "cell_type": "code",
   "execution_count": 131,
   "id": "42d9d9e5",
   "metadata": {},
   "outputs": [],
   "source": [
    "#Read data\n",
    "iris = datasets.load_iris()\n",
    "X = iris[\"data\"]"
   ]
  },
  {
   "cell_type": "code",
   "execution_count": 132,
   "id": "7c1bd419",
   "metadata": {},
   "outputs": [],
   "source": [
    "#Define features\n",
    "n = len(iris.feature_names)  # input size\n",
    "m = len(X)                    # batch size\n",
    "l = 2                        # hidden layer size"
   ]
  },
  {
   "cell_type": "code",
   "execution_count": 133,
   "id": "52e323e0",
   "metadata": {},
   "outputs": [],
   "source": [
    "#Initialize weights\n",
    "W1 = torch.randn((n,l), dtype=torch.double, requires_grad=True)\n",
    "W2 = torch.randn((l,n), dtype=torch.double, requires_grad=True)"
   ]
  },
  {
   "cell_type": "code",
   "execution_count": 134,
   "id": "24f4b183",
   "metadata": {},
   "outputs": [],
   "source": [
    "#Get feature tensor and loss\n",
    "X = torch.tensor(X)\n",
    "loss_fun = nn.MSELoss()"
   ]
  },
  {
   "cell_type": "code",
   "execution_count": 135,
   "id": "edfd099d",
   "metadata": {},
   "outputs": [],
   "source": [
    "#System parameters\n",
    "eta = 0.001\n",
    "epochs = 7000"
   ]
  },
  {
   "cell_type": "code",
   "execution_count": 136,
   "id": "ee2880a6",
   "metadata": {},
   "outputs": [
    {
     "name": "stdout",
     "output_type": "stream",
     "text": [
      "Loss:59.382268434509434 Epoch:0\n",
      "Loss:2.2252102824235953 Epoch:100\n",
      "Loss:0.9143443156305963 Epoch:200\n",
      "Loss:0.5378971697441345 Epoch:300\n",
      "Loss:0.3663946042863493 Epoch:400\n",
      "Loss:0.28312315680894967 Epoch:500\n",
      "Loss:0.24113415042677475 Epoch:600\n",
      "Loss:0.21857813402578738 Epoch:700\n",
      "Loss:0.20518654398094674 Epoch:800\n",
      "Loss:0.19617185558966607 Epoch:900\n",
      "Loss:0.1893149008739283 Epoch:1000\n",
      "Loss:0.1835845425382978 Epoch:1100\n",
      "Loss:0.1784952928287547 Epoch:1200\n",
      "Loss:0.1738125798952908 Epoch:1300\n",
      "Loss:0.16941840781677797 Epoch:1400\n",
      "Loss:0.16525002504237796 Epoch:1500\n",
      "Loss:0.1612716466866917 Epoch:1600\n",
      "Loss:0.1574611761253464 Epoch:1700\n",
      "Loss:0.15380379942571779 Epoch:1800\n",
      "Loss:0.15028878381153898 Epoch:1900\n",
      "Loss:0.14690780790834793 Epoch:2000\n",
      "Loss:0.14365404903939208 Epoch:2100\n",
      "Loss:0.14052166013126485 Epoch:2200\n",
      "Loss:0.13750545647478118 Epoch:2300\n",
      "Loss:0.13460072098374962 Epoch:2400\n",
      "Loss:0.13180307944361522 Epoch:2500\n",
      "Loss:0.12910841876777537 Epoch:2600\n",
      "Loss:0.12651283255213536 Epoch:2700\n",
      "Loss:0.12401258439410566 Epoch:2800\n",
      "Loss:0.12160408298243172 Epoch:2900\n",
      "Loss:0.11928386508142962 Epoch:3000\n",
      "Loss:0.1170485838470333 Epoch:3100\n",
      "Loss:0.1148950007526543 Epoch:3200\n",
      "Loss:0.1128199799538839 Epoch:3300\n",
      "Loss:0.11082048428915826 Epoch:3400\n",
      "Loss:0.10889357236299023 Epoch:3500\n",
      "Loss:0.10703639632938038 Epoch:3600\n",
      "Loss:0.10524620011127604 Epoch:3700\n",
      "Loss:0.10352031787429415 Epoch:3800\n",
      "Loss:0.10185617263057821 Epoch:3900\n",
      "Loss:0.1002512748892051 Epoch:4000\n",
      "Loss:0.09870322129813948 Epoch:4100\n",
      "Loss:0.09720969324292217 Epoch:4200\n",
      "Loss:0.09576845538152531 Epoch:4300\n",
      "Loss:0.09437735410482906 Epoch:4400\n",
      "Loss:0.09303431591918332 Epoch:4500\n",
      "Loss:0.09173734575235812 Epoch:4600\n",
      "Loss:0.09048452518746522 Epoch:4700\n",
      "Loss:0.0892740106315832 Epoch:4800\n",
      "Loss:0.08810403142715197 Epoch:4900\n",
      "Loss:0.08697288791494004 Epoch:5000\n",
      "Loss:0.08587894945769728 Epoch:5100\n",
      "Loss:0.08482065243360964 Epoch:5200\n",
      "Loss:0.08379649820845103 Epoch:5300\n",
      "Loss:0.08280505109495771 Epoch:5400\n",
      "Loss:0.08184493630747346 Epoch:5500\n",
      "Loss:0.0809148379193684 Epoch:5600\n",
      "Loss:0.0800134968301533 Epoch:5700\n",
      "Loss:0.07913970874860536 Epoch:5800\n",
      "Loss:0.07829232219761736 Epoch:5900\n",
      "Loss:0.07747023654588257 Epoch:6000\n",
      "Loss:0.07667240007094714 Epoch:6100\n",
      "Loss:0.0758978080576021 Epoch:6200\n",
      "Loss:0.07514550093505666 Epoch:6300\n",
      "Loss:0.07441456245583339 Epoch:6400\n",
      "Loss:0.07370411791885426 Epoch:6500\n",
      "Loss:0.07301333243875321 Epoch:6600\n",
      "Loss:0.07234140926304342 Epoch:6700\n",
      "Loss:0.07168758813839991 Epoch:6800\n",
      "Loss:0.07105114372697564 Epoch:6900\n"
     ]
    }
   ],
   "source": [
    "#Train model\n",
    "for i in range(epochs):\n",
    "    C = torch.matmul(X,W1)\n",
    "    R = torch.matmul(C,W2)\n",
    "    #Get MSE\n",
    "    L = loss_fun(R, X)\n",
    "    if(i % 100 == 0):\n",
    "        print(f'Loss:{L.item()} Epoch:{i}')\n",
    "    #Calculate gradients using backpropagation\n",
    "    W1.grad = None\n",
    "    W2.grad = None\n",
    "    L.backward()\n",
    "    #Update weights\n",
    "    W2.data -= eta * W2.grad\n",
    "    W1.data -= eta * W1.grad"
   ]
  },
  {
   "cell_type": "code",
   "execution_count": 137,
   "id": "9217391c",
   "metadata": {},
   "outputs": [
    {
     "data": {
      "image/png": "[encoded data removed]",
      "text/plain": [
       "<Figure size 432x288 with 1 Axes>"
      ]
     },
     "metadata": {
      "needs_background": "light"
     },
     "output_type": "display_data"
    }
   ],
   "source": [
    "#Plot\n",
    "C = torch.matmul(X,W1)\n",
    "plt.scatter(C.data[:, 0], C.data[:, 1], c=iris[\"target\"])\n",
    "plt.show()"
   ]
  }
 ],
 "metadata": {
  "kernelspec": {
   "display_name": "Python 3",
   "language": "python",
   "name": "python3"
  },
  "language_info": {
   "codemirror_mode": {
    "name": "ipython",
    "version": 3
   },
   "file_extension": ".py",
   "mimetype": "text/x-python",
   "name": "python",
   "nbconvert_exporter": "python",
   "pygments_lexer": "ipython3",
   "version": "3.8.8"
  }
 },
 "nbformat": 4,
 "nbformat_minor": 5
}
