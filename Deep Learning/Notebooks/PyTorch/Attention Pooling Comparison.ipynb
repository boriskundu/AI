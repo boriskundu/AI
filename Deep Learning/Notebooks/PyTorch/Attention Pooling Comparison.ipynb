{
 "cells": [
  {
   "cell_type": "markdown",
   "id": "7c0533be",
   "metadata": {},
   "source": [
    "**Author:** Boris Kundu\n",
    "\n",
    "**Problem Statement:** Comparison of attention pooling techniques\n",
    "\n",
    "**Dataset:** COVID-19 hospitalizations"
   ]
  },
  {
   "cell_type": "code",
   "execution_count": 214,
   "id": "e2bfe1e9",
   "metadata": {},
   "outputs": [],
   "source": [
    "#Import packages\n",
    "import numpy as np\n",
    "import matplotlib.pyplot as plt\n",
    "import torch\n",
    "import torch.nn as nn\n",
    "import torch.nn.functional as F\n",
    "import torch.optim as optim\n",
    "import os\n",
    "os.environ[\"KMP_DUPLICATE_LIB_OK\"]=\"TRUE\"\n",
    "%matplotlib inline"
   ]
  },
  {
   "cell_type": "code",
   "execution_count": 215,
   "id": "55f3ad24",
   "metadata": {},
   "outputs": [],
   "source": [
    "#Read data\n",
    "data = np.genfromtxt('hospitalizations.txt', delimiter=' ')\n",
    "hosp = data[:,1]"
   ]
  },
  {
   "cell_type": "code",
   "execution_count": 216,
   "id": "1fbef34d",
   "metadata": {},
   "outputs": [],
   "source": [
    "#Standardize\n",
    "mean = np.mean(hosp, axis=0)\n",
    "std = np.std(hosp, axis=0)\n",
    "hosp = (hosp - mean)/std"
   ]
  },
  {
   "cell_type": "code",
   "execution_count": 217,
   "id": "0d472324",
   "metadata": {},
   "outputs": [],
   "source": [
    "#Initial params\n",
    "last = len(hosp)\n",
    "seqlen = 20 # input size or window size\n",
    "batchsize = 50 # data period and number of data points\n",
    "trainbegin = np.random.randint(400)"
   ]
  },
  {
   "cell_type": "code",
   "execution_count": 218,
   "id": "6d6681c9",
   "metadata": {},
   "outputs": [],
   "source": [
    "#Prep training set\n",
    "Xtrain = hosp[trainbegin:trainbegin+seqlen]\n",
    "ytrain = hosp[trainbegin+seqlen]\n",
    "for i in range(1, batchsize):\n",
    "    Xtrain = np.vstack([Xtrain, hosp[trainbegin+i:trainbegin+i+seqlen]])\n",
    "    ytrain = np.append(ytrain, hosp[trainbegin+i+seqlen])"
   ]
  },
  {
   "cell_type": "code",
   "execution_count": 219,
   "id": "b548944c",
   "metadata": {},
   "outputs": [],
   "source": [
    "#Define features\n",
    "X = torch.tensor(Xtrain, dtype=torch.float)\n",
    "y = torch.tensor(ytrain, dtype=torch.float)"
   ]
  },
  {
   "cell_type": "code",
   "execution_count": 220,
   "id": "952f0507",
   "metadata": {},
   "outputs": [],
   "source": [
    "#Sytsem params\n",
    "inputsize = 1\n",
    "outputsize = 1"
   ]
  },
  {
   "cell_type": "code",
   "execution_count": 221,
   "id": "e178be46",
   "metadata": {},
   "outputs": [],
   "source": [
    "X2 = torch.reshape(X, (batchsize, inputsize, seqlen))"
   ]
  },
  {
   "cell_type": "code",
   "execution_count": 222,
   "id": "e11f05c9",
   "metadata": {},
   "outputs": [],
   "source": [
    "#Average attention pooling\n",
    "class Model(nn.Module):\n",
    "    def __init__(self, seqlen):\n",
    "        super(Model, self).__init__()\n",
    "        self.pool = nn.AvgPool1d(seqlen)\n",
    "\n",
    "    def forward(self, x):\n",
    "        return self.pool(x)[:, 0, 0]"
   ]
  },
  {
   "cell_type": "code",
   "execution_count": 223,
   "id": "44a62db5",
   "metadata": {},
   "outputs": [
    {
     "name": "stdout",
     "output_type": "stream",
     "text": [
      "Average Attention Pooling Loss: 0.028843145817518234\n"
     ]
    }
   ],
   "source": [
    "model = Model(seqlen)\n",
    "yhat_avg_att = model(X2)\n",
    "L = F.mse_loss(yhat_avg_att, y)\n",
    "print(f'Average Attention Pooling Loss: {L.item()}')"
   ]
  },
  {
   "cell_type": "code",
   "execution_count": 224,
   "id": "b7eff800",
   "metadata": {},
   "outputs": [],
   "source": [
    "#Nadaraya-Watson kernel-regression/attention-pooling\n",
    "class Model(nn.Module):\n",
    "    def __init__(self, seqlen):\n",
    "        super(Model, self).__init__()\n",
    "        self.attention = torch.tensor(np.empty(seqlen), dtype=torch.float)\n",
    "\n",
    "    def forward(self, x):\n",
    "        for i in range(seqlen):\n",
    "            d = seqlen - i\n",
    "            self.attention[i] = -d * d / 2.0\n",
    "        self.attention = F.softmax(self.attention, dim=0)\n",
    "        return x.matmul(self.attention)"
   ]
  },
  {
   "cell_type": "code",
   "execution_count": 225,
   "id": "5f4957ed",
   "metadata": {},
   "outputs": [
    {
     "name": "stdout",
     "output_type": "stream",
     "text": [
      "Nadaraya-Watson Kernel-regression/Attention-pooling Loss: 0.0006416458636522293\n"
     ]
    }
   ],
   "source": [
    "model = Model(seqlen)\n",
    "yhat_nw_att = model(X)\n",
    "L = F.mse_loss(yhat_nw_att, y)\n",
    "print(f'Nadaraya-Watson Kernel-regression/Attention-pooling Loss: {L.item()}')"
   ]
  },
  {
   "cell_type": "code",
   "execution_count": 226,
   "id": "666d836f",
   "metadata": {},
   "outputs": [],
   "source": [
    "# Nadaraya-Watson attention pooling with trainable weights\n",
    "class Model(nn.Module):\n",
    "    def __init__(self, seqlen):\n",
    "        super(Model, self).__init__()\n",
    "        att = np.empty(seqlen)\n",
    "        for i in range(seqlen):\n",
    "            att[i] = (seqlen - i) * (seqlen - i)\n",
    "        self.attention = torch.tensor(att, dtype=torch.float, requires_grad=True)\n",
    "        self.w = nn.parameter.Parameter(torch.empty(1), requires_grad=True)\n",
    "    def forward(self, x):\n",
    "        att2 = -self.attention * self.w\n",
    "        att3 = F.softmax(att2, dim=0)\n",
    "        return x.matmul(att3)"
   ]
  },
  {
   "cell_type": "code",
   "execution_count": 227,
   "id": "309100b8",
   "metadata": {},
   "outputs": [],
   "source": [
    "epochs = 1000"
   ]
  },
  {
   "cell_type": "code",
   "execution_count": 228,
   "id": "de3698b4",
   "metadata": {},
   "outputs": [
    {
     "name": "stdout",
     "output_type": "stream",
     "text": [
      "Nadaraya-Watson weighted attention pooling Epoch:1 with Loss:0.0038811347912997007 and Weight:0.028843145817518234\n",
      "Nadaraya-Watson weighted attention pooling Epoch:101 with Loss:0.0020085005089640617 and Weight:0.06878980249166489\n",
      "Nadaraya-Watson weighted attention pooling Epoch:201 with Loss:0.0017318942118436098 and Weight:0.08566858619451523\n",
      "Nadaraya-Watson weighted attention pooling Epoch:301 with Loss:0.001589156687259674 and Weight:0.09773268550634384\n",
      "Nadaraya-Watson weighted attention pooling Epoch:401 with Loss:0.001495177624747157 and Weight:0.10749701410531998\n",
      "Nadaraya-Watson weighted attention pooling Epoch:501 with Loss:0.0014261974720284343 and Weight:0.11585140228271484\n",
      "Nadaraya-Watson weighted attention pooling Epoch:601 with Loss:0.0013722390867769718 and Weight:0.12323242425918579\n",
      "Nadaraya-Watson weighted attention pooling Epoch:701 with Loss:0.001328273443505168 and Weight:0.1298915594816208\n",
      "Nadaraya-Watson weighted attention pooling Epoch:801 with Loss:0.0012913442915305495 and Weight:0.135989248752594\n",
      "Nadaraya-Watson weighted attention pooling Epoch:901 with Loss:0.0012596814194694161 and Weight:0.1416347771883011\n"
     ]
    }
   ],
   "source": [
    "model = Model(seqlen)\n",
    "optimizer = optim.SGD(model.parameters(), lr=0.001, momentum=0.9)\n",
    "for i in range(epochs):\n",
    "    yhat_nw_att_tw = model(X)\n",
    "    L = F.mse_loss(yhat_nw_att_tw, y)\n",
    "    if(i%100 == 0):\n",
    "        print(f'Nadaraya-Watson weighted attention pooling Epoch:{i+1} with Loss:{L.item()} and Weight:{model.w.data.item()}')\n",
    "    optimizer.zero_grad()\n",
    "    L.backward()\n",
    "    optimizer.step()"
   ]
  },
  {
   "cell_type": "code",
   "execution_count": 229,
   "id": "08d00d05",
   "metadata": {},
   "outputs": [],
   "source": [
    "hiddensize = 10"
   ]
  },
  {
   "cell_type": "code",
   "execution_count": 230,
   "id": "47a7f077",
   "metadata": {},
   "outputs": [],
   "source": [
    "# Additive attention with trainable weight\n",
    "class Model(nn.Module):\n",
    "    def __init__(self, hiddensize, seqlen):\n",
    "        super(Model, self).__init__()\n",
    "        keys = np.empty(seqlen)\n",
    "        for i in range(seqlen):\n",
    "            keys[i] = i + 1\n",
    "        self.K = torch.tensor(keys, dtype=torch.float)\n",
    "        self.wk = nn.parameter.Parameter(torch.randn(hiddensize), requires_grad=True)\n",
    "        self.wv = nn.parameter.Parameter(torch.randn(hiddensize), requires_grad=True)\n",
    "\n",
    "    def forward(self, x):\n",
    "        att1 = torch.tanh(torch.outer(self.K, self.wk))\n",
    "        att2 = att1.matmul(self.wv)\n",
    "        att3 = F.softmax(att2, dim=0)\n",
    "        return x.matmul(att3)"
   ]
  },
  {
   "cell_type": "code",
   "execution_count": 231,
   "id": "7977585d",
   "metadata": {},
   "outputs": [],
   "source": [
    "model = Model(hiddensize, seqlen)"
   ]
  },
  {
   "cell_type": "code",
   "execution_count": 232,
   "id": "f7aed759",
   "metadata": {},
   "outputs": [],
   "source": [
    "optimizer = optim.SGD(model.parameters(), lr=0.01, momentum=0.9)"
   ]
  },
  {
   "cell_type": "code",
   "execution_count": 233,
   "id": "0df5c705",
   "metadata": {},
   "outputs": [
    {
     "name": "stdout",
     "output_type": "stream",
     "text": [
      "Additive weighted attention pooling Epoch:1 with Loss:0.022294223308563232\n",
      "Additive weighted attention pooling Epoch:101 with Loss:0.01864500716328621\n",
      "Additive weighted attention pooling Epoch:201 with Loss:0.017918378114700317\n",
      "Additive weighted attention pooling Epoch:301 with Loss:0.017465274780988693\n",
      "Additive weighted attention pooling Epoch:401 with Loss:0.0170258991420269\n",
      "Additive weighted attention pooling Epoch:501 with Loss:0.01659269630908966\n",
      "Additive weighted attention pooling Epoch:601 with Loss:0.016153553500771523\n",
      "Additive weighted attention pooling Epoch:701 with Loss:0.015683921054005623\n",
      "Additive weighted attention pooling Epoch:801 with Loss:0.015117751434445381\n",
      "Additive weighted attention pooling Epoch:901 with Loss:0.014164038002490997\n"
     ]
    }
   ],
   "source": [
    "for i in range(epochs):\n",
    "    yhat_add_att_tw = model(X)\n",
    "    L = F.mse_loss(yhat_add_att_tw, y)\n",
    "    if(i%100 == 0):\n",
    "        print(f'Additive weighted attention pooling Epoch:{i+1} with Loss:{L.item()}')\n",
    "    optimizer.zero_grad()\n",
    "    L.backward()\n",
    "    optimizer.step()"
   ]
  },
  {
   "cell_type": "code",
   "execution_count": 234,
   "id": "9b49744a",
   "metadata": {},
   "outputs": [
    {
     "data": {
      "image/png": "[encoded data removed]",
      "text/plain": [
       "<Figure size 432x288 with 1 Axes>"
      ]
     },
     "metadata": {
      "needs_background": "light"
     },
     "output_type": "display_data"
    }
   ],
   "source": [
    "#Plot to compare models\n",
    "plt.plot(y.detach().numpy())\n",
    "plt.plot(yhat_avg_att.detach().numpy())\n",
    "plt.plot(yhat_nw_att.detach().numpy())\n",
    "plt.plot(yhat_nw_att_tw.detach().numpy())\n",
    "plt.plot(yhat_add_att_tw.detach().numpy())\n",
    "plt.legend(['Truth','Average Attention Pooling','Nadaraya-Watson Attention Pooling','Nadaraya-Watson Weighted Attention Pooling','Additive Weighted Attention Pooling'])\n",
    "plt.title('Training started at ' + str(trainbegin))\n",
    "plt.show()"
   ]
  },
  {
   "cell_type": "code",
   "execution_count": null,
   "id": "b507df3f",
   "metadata": {},
   "outputs": [],
   "source": []
  },
  {
   "cell_type": "code",
   "execution_count": null,
   "id": "a7175e69",
   "metadata": {},
   "outputs": [],
   "source": []
  },
  {
   "cell_type": "code",
   "execution_count": null,
   "id": "509d6d1c",
   "metadata": {},
   "outputs": [],
   "source": []
  },
  {
   "cell_type": "code",
   "execution_count": null,
   "id": "b5d957d7",
   "metadata": {},
   "outputs": [],
   "source": []
  },
  {
   "cell_type": "code",
   "execution_count": null,
   "id": "c2de7b07",
   "metadata": {},
   "outputs": [],
   "source": []
  },
  {
   "cell_type": "code",
   "execution_count": null,
   "id": "2d2402f6",
   "metadata": {},
   "outputs": [],
   "source": []
  }
 ],
 "metadata": {
  "kernelspec": {
   "display_name": "Python 3 (ipykernel)",
   "language": "python",
   "name": "python3"
  },
  "language_info": {
   "codemirror_mode": {
    "name": "ipython",
    "version": 3
   },
   "file_extension": ".py",
   "mimetype": "text/x-python",
   "name": "python",
   "nbconvert_exporter": "python",
   "pygments_lexer": "ipython3",
   "version": "3.9.7"
  }
 },
 "nbformat": 4,
 "nbformat_minor": 5
}
