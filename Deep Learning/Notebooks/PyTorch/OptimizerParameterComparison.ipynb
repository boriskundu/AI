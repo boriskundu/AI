{
 "cells": [
  {
   "cell_type": "markdown",
   "id": "8a237902",
   "metadata": {},
   "source": [
    "**Author:** Boris Kundu\n",
    "\n",
    "**Problem Statement:** Train and compare optimizer parameters\n",
    "\n",
    "**Dataset:** Iris"
   ]
  },
  {
   "cell_type": "code",
   "execution_count": 170,
   "id": "b1588dbf",
   "metadata": {},
   "outputs": [],
   "source": [
    "#Import packages\n",
    "import torch\n",
    "import torch.nn as nn\n",
    "import torch.nn.functional as F\n",
    "import torch.optim as optim\n",
    "from sklearn import datasets"
   ]
  },
  {
   "cell_type": "code",
   "execution_count": 171,
   "id": "458e5c1a",
   "metadata": {},
   "outputs": [],
   "source": [
    "#Read data\n",
    "iris = datasets.load_iris()"
   ]
  },
  {
   "cell_type": "code",
   "execution_count": 172,
   "id": "4f67fd24",
   "metadata": {},
   "outputs": [],
   "source": [
    "#Define input parameters\n",
    "n1 = len(iris.feature_names)  # input size\n",
    "k = len(iris.target_names)    # output size\n",
    "n2 = 5                        # hidden layer size"
   ]
  },
  {
   "cell_type": "code",
   "execution_count": 173,
   "id": "e83f371d",
   "metadata": {},
   "outputs": [],
   "source": [
    "#Class to define model\n",
    "class Model(nn.Module):\n",
    "    #Initialize\n",
    "    def __init__(self, datasize, hiddensize, outputsize):\n",
    "        super(Model, self).__init__()\n",
    "        self.layer1 = nn.Linear(datasize, hiddensize)\n",
    "        self.layer2 = nn.Linear(hiddensize, outputsize)\n",
    "    #Feed forward\n",
    "    def forward(self, x):\n",
    "        x = F.sigmoid(self.layer1(x))\n",
    "        return self.layer2(x)"
   ]
  },
  {
   "cell_type": "code",
   "execution_count": 174,
   "id": "25f51862",
   "metadata": {},
   "outputs": [],
   "source": [
    "#Define inputs and output\n",
    "X = torch.tensor(iris[\"data\"], dtype=torch.float)\n",
    "target = torch.tensor(iris[\"target\"], dtype=torch.long)"
   ]
  },
  {
   "cell_type": "code",
   "execution_count": 175,
   "id": "8da05d94",
   "metadata": {},
   "outputs": [],
   "source": [
    "#Define system parameters\n",
    "alpha = 0.9 #Momentum\n",
    "eta = 0.01 #Learning rate\n",
    "epochs = 1000 #Iterations\n",
    "weightDecay = 0.001 #Weight decay\n",
    "useNesterov = True #Enable Nesterov"
   ]
  },
  {
   "cell_type": "code",
   "execution_count": 176,
   "id": "bbcefaca",
   "metadata": {},
   "outputs": [],
   "source": [
    "#Initialize model\n",
    "model = Model(n1, n2, k)"
   ]
  },
  {
   "cell_type": "code",
   "execution_count": 177,
   "id": "89519ddf",
   "metadata": {},
   "outputs": [],
   "source": [
    "#Define SGD optimizers with different parameters\n",
    "sgd = optim.SGD(model.parameters(), lr=eta)\n",
    "sgdWeightDecay = optim.SGD(model.parameters(), lr=eta, weight_decay=weightDecay)\n",
    "sgdMomentum = optim.SGD(model.parameters(), lr=eta, momentum=alpha)\n",
    "sgdNesterovMomentum = optim.SGD(model.parameters(), lr=eta, momentum=alpha, nesterov=useNesterov)"
   ]
  },
  {
   "cell_type": "code",
   "execution_count": 178,
   "id": "4585514b",
   "metadata": {},
   "outputs": [],
   "source": [
    "#Make predictions\n",
    "def predict(features,target_class,my_model,msg):\n",
    "    o2 = my_model(X)\n",
    "    ypred = o2.argmax(axis=1)\n",
    "    print(f'Predictions using {msg} are:\\n{ypred}')\n",
    "    matches = torch.eq(ypred, target).int().sum()\n",
    "    print(f'Matches using {msg} are:{matches.item()}')"
   ]
  },
  {
   "cell_type": "code",
   "execution_count": 179,
   "id": "f314413c",
   "metadata": {},
   "outputs": [],
   "source": [
    "#Train model using optimizer\n",
    "def train(features,target_class,my_model,opt,msg):\n",
    "    for i in range(epochs):\n",
    "        o2 = my_model(features)\n",
    "        L = F.cross_entropy(o2, target_class)\n",
    "        if (i%100 == 0):\n",
    "            print(f'Loss:{L.item()} at Epoch:{i}')\n",
    "        opt.zero_grad()\n",
    "        L.backward()\n",
    "        opt.step()\n",
    "    #Predict\n",
    "    predict(features,target_class,my_model,msg)"
   ]
  },
  {
   "cell_type": "code",
   "execution_count": 180,
   "id": "c7b67d26",
   "metadata": {},
   "outputs": [
    {
     "name": "stdout",
     "output_type": "stream",
     "text": [
      "Loss:1.1092737913131714 at Epoch:0\n",
      "Loss:1.0907673835754395 at Epoch:100\n",
      "Loss:1.078997015953064 at Epoch:200\n",
      "Loss:1.0635530948638916 at Epoch:300\n",
      "Loss:1.0389412641525269 at Epoch:400\n",
      "Loss:1.0074021816253662 at Epoch:500\n",
      "Loss:0.9731917381286621 at Epoch:600\n",
      "Loss:0.9359657764434814 at Epoch:700\n",
      "Loss:0.8962724804878235 at Epoch:800\n",
      "Loss:0.8557345867156982 at Epoch:900\n",
      "Predictions using SGD are:\n",
      "tensor([0, 0, 0, 0, 0, 0, 0, 0, 0, 0, 0, 0, 0, 0, 0, 0, 0, 0, 0, 0, 0, 0, 0, 0,\n",
      "        0, 0, 0, 0, 0, 0, 0, 0, 0, 0, 0, 0, 0, 0, 0, 0, 0, 0, 0, 0, 0, 0, 0, 0,\n",
      "        0, 0, 2, 2, 2, 1, 2, 2, 2, 1, 2, 2, 1, 2, 1, 2, 2, 2, 2, 1, 2, 1, 2, 2,\n",
      "        2, 2, 2, 2, 2, 2, 2, 2, 1, 1, 2, 2, 2, 2, 2, 1, 2, 1, 1, 2, 2, 1, 2, 2,\n",
      "        2, 2, 2, 2, 2, 2, 2, 2, 2, 2, 1, 2, 2, 2, 2, 2, 2, 2, 2, 2, 2, 2, 2, 1,\n",
      "        2, 2, 2, 2, 2, 2, 2, 2, 2, 2, 2, 2, 2, 2, 1, 2, 2, 2, 2, 2, 2, 2, 2, 2,\n",
      "        2, 2, 2, 2, 2, 2])\n",
      "Matches using SGD are:109\n"
     ]
    }
   ],
   "source": [
    "#Train SGD\n",
    "train(X,target,model,sgd,'SGD')"
   ]
  },
  {
   "cell_type": "code",
   "execution_count": 181,
   "id": "904aa59d",
   "metadata": {},
   "outputs": [
    {
     "name": "stdout",
     "output_type": "stream",
     "text": [
      "Loss:0.816070556640625 at Epoch:0\n",
      "Loss:0.7789621949195862 at Epoch:100\n",
      "Loss:0.7448146939277649 at Epoch:200\n",
      "Loss:0.7139304876327515 at Epoch:300\n",
      "Loss:0.6863029599189758 at Epoch:400\n",
      "Loss:0.6617550253868103 at Epoch:500\n",
      "Loss:0.6400279998779297 at Epoch:600\n",
      "Loss:0.6208282709121704 at Epoch:700\n",
      "Loss:0.6038506031036377 at Epoch:800\n",
      "Loss:0.5887932181358337 at Epoch:900\n",
      "Predictions using SGD with weight decay are:\n",
      "tensor([0, 0, 0, 0, 0, 0, 0, 0, 0, 0, 0, 0, 0, 0, 0, 0, 0, 0, 0, 0, 0, 0, 0, 0,\n",
      "        0, 0, 0, 0, 0, 0, 0, 0, 0, 0, 0, 0, 0, 0, 0, 0, 0, 0, 0, 0, 0, 0, 0, 0,\n",
      "        0, 0, 2, 2, 2, 2, 2, 2, 2, 1, 2, 2, 1, 2, 1, 2, 1, 2, 2, 1, 2, 1, 2, 1,\n",
      "        2, 2, 2, 2, 2, 2, 2, 1, 1, 1, 1, 2, 2, 2, 2, 2, 1, 2, 2, 2, 1, 1, 2, 1,\n",
      "        2, 2, 1, 2, 2, 2, 2, 2, 2, 2, 2, 2, 2, 2, 2, 2, 2, 2, 2, 2, 2, 2, 2, 2,\n",
      "        2, 2, 2, 2, 2, 2, 2, 2, 2, 2, 2, 2, 2, 2, 2, 2, 2, 2, 2, 2, 2, 2, 2, 2,\n",
      "        2, 2, 2, 2, 2, 2])\n",
      "Matches using SGD with weight decay are:116\n"
     ]
    }
   ],
   "source": [
    "#Train SGD with weight decay\n",
    "train(X,target,model,sgdWeightDecay,'SGD with weight decay')"
   ]
  },
  {
   "cell_type": "code",
   "execution_count": 182,
   "id": "80d824f9",
   "metadata": {},
   "outputs": [
    {
     "name": "stdout",
     "output_type": "stream",
     "text": [
      "Loss:0.5753728151321411 at Epoch:0\n",
      "Loss:0.4918035864830017 at Epoch:100\n",
      "Loss:0.4310658276081085 at Epoch:200\n",
      "Loss:0.37077727913856506 at Epoch:300\n",
      "Loss:0.311044305562973 at Epoch:400\n",
      "Loss:0.25911274552345276 at Epoch:500\n",
      "Loss:0.21808962523937225 at Epoch:600\n",
      "Loss:0.18701350688934326 at Epoch:700\n",
      "Loss:0.16369596123695374 at Epoch:800\n",
      "Loss:0.14608433842658997 at Epoch:900\n",
      "Predictions using SGD with standard momentum are:\n",
      "tensor([0, 0, 0, 0, 0, 0, 0, 0, 0, 0, 0, 0, 0, 0, 0, 0, 0, 0, 0, 0, 0, 0, 0, 0,\n",
      "        0, 0, 0, 0, 0, 0, 0, 0, 0, 0, 0, 0, 0, 0, 0, 0, 0, 0, 0, 0, 0, 0, 0, 0,\n",
      "        0, 0, 1, 1, 1, 1, 1, 1, 1, 1, 1, 1, 1, 1, 1, 1, 1, 1, 1, 1, 1, 1, 2, 1,\n",
      "        2, 1, 1, 1, 1, 1, 1, 1, 1, 1, 1, 2, 1, 1, 1, 1, 1, 1, 1, 1, 1, 1, 1, 1,\n",
      "        1, 1, 1, 1, 2, 2, 2, 2, 2, 2, 2, 2, 2, 2, 2, 2, 2, 2, 2, 2, 2, 2, 2, 2,\n",
      "        2, 2, 2, 2, 2, 2, 2, 2, 2, 2, 2, 2, 2, 2, 2, 2, 2, 2, 2, 2, 2, 2, 2, 2,\n",
      "        2, 2, 2, 2, 2, 2])\n",
      "Matches using SGD with standard momentum are:147\n"
     ]
    }
   ],
   "source": [
    "#Train SGD with momentum\n",
    "train(X,target,model,sgdMomentum,'SGD with standard momentum')"
   ]
  },
  {
   "cell_type": "code",
   "execution_count": 183,
   "id": "dcc19474",
   "metadata": {},
   "outputs": [
    {
     "name": "stdout",
     "output_type": "stream",
     "text": [
      "Loss:0.13258770108222961 at Epoch:0\n",
      "Loss:0.1228458508849144 at Epoch:100\n",
      "Loss:0.11432917416095734 at Epoch:200\n",
      "Loss:0.10744847357273102 at Epoch:300\n",
      "Loss:0.10179830342531204 at Epoch:400\n",
      "Loss:0.09708991646766663 at Epoch:500\n",
      "Loss:0.09311432391405106 at Epoch:600\n",
      "Loss:0.08971786499023438 at Epoch:700\n",
      "Loss:0.08678551763296127 at Epoch:800\n",
      "Loss:0.08423002809286118 at Epoch:900\n",
      "Predictions using SGD with Nesterov momentum are:\n",
      "tensor([0, 0, 0, 0, 0, 0, 0, 0, 0, 0, 0, 0, 0, 0, 0, 0, 0, 0, 0, 0, 0, 0, 0, 0,\n",
      "        0, 0, 0, 0, 0, 0, 0, 0, 0, 0, 0, 0, 0, 0, 0, 0, 0, 0, 0, 0, 0, 0, 0, 0,\n",
      "        0, 0, 1, 1, 1, 1, 1, 1, 1, 1, 1, 1, 1, 1, 1, 1, 1, 1, 1, 1, 1, 1, 2, 1,\n",
      "        2, 1, 1, 1, 1, 1, 1, 1, 1, 1, 1, 2, 1, 1, 1, 1, 1, 1, 1, 1, 1, 1, 1, 1,\n",
      "        1, 1, 1, 1, 2, 2, 2, 2, 2, 2, 2, 2, 2, 2, 2, 2, 2, 2, 2, 2, 2, 2, 2, 2,\n",
      "        2, 2, 2, 2, 2, 2, 2, 2, 2, 2, 2, 2, 2, 2, 2, 2, 2, 2, 2, 2, 2, 2, 2, 2,\n",
      "        2, 2, 2, 2, 2, 2])\n",
      "Matches using SGD with Nesterov momentum are:147\n"
     ]
    }
   ],
   "source": [
    "#Train SGD with Nesterov momentum\n",
    "train(X,target,model,sgdNesterovMomentum,'SGD with Nesterov momentum')"
   ]
  }
 ],
 "metadata": {
  "kernelspec": {
   "display_name": "Python 3",
   "language": "python",
   "name": "python3"
  },
  "language_info": {
   "codemirror_mode": {
    "name": "ipython",
    "version": 3
   },
   "file_extension": ".py",
   "mimetype": "text/x-python",
   "name": "python",
   "nbconvert_exporter": "python",
   "pygments_lexer": "ipython3",
   "version": "3.8.8"
  }
 },
 "nbformat": 4,
 "nbformat_minor": 5
}
