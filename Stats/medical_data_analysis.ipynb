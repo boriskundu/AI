{
 "cells": [
  {
   "cell_type": "markdown",
   "id": "58dfbe7e",
   "metadata": {},
   "source": [
    "**Author:** Boris Kundu\n",
    "\n",
    "**Problem Statement:** Medical data analysis through statistical tests to check which variables are potentially a cause of death.\n",
    "\n",
    "**Dataset:** patient_data.csv"
   ]
  },
  {
   "cell_type": "code",
   "execution_count": 1,
   "id": "1b963ebc",
   "metadata": {},
   "outputs": [],
   "source": [
    "# Import packages\n",
    "import pandas as pd\n",
    "from scipy import stats\n",
    "import numpy as np"
   ]
  },
  {
   "cell_type": "code",
   "execution_count": 4,
   "id": "fc730c75",
   "metadata": {},
   "outputs": [
    {
     "data": {
      "text/html": [
       "<div>\n",
       "<style scoped>\n",
       "    .dataframe tbody tr th:only-of-type {\n",
       "        vertical-align: middle;\n",
       "    }\n",
       "\n",
       "    .dataframe tbody tr th {\n",
       "        vertical-align: top;\n",
       "    }\n",
       "\n",
       "    .dataframe thead th {\n",
       "        text-align: right;\n",
       "    }\n",
       "</style>\n",
       "<table border=\"1\" class=\"dataframe\">\n",
       "  <thead>\n",
       "    <tr style=\"text-align: right;\">\n",
       "      <th></th>\n",
       "      <th>death</th>\n",
       "      <th>Na+</th>\n",
       "      <th>DBP</th>\n",
       "      <th>PLT</th>\n",
       "      <th>ivabradine</th>\n",
       "      <th>MRA</th>\n",
       "    </tr>\n",
       "  </thead>\n",
       "  <tbody>\n",
       "    <tr>\n",
       "      <th>0</th>\n",
       "      <td>0</td>\n",
       "      <td>136.01</td>\n",
       "      <td>126.01</td>\n",
       "      <td>196.01</td>\n",
       "      <td>1</td>\n",
       "      <td>0</td>\n",
       "    </tr>\n",
       "    <tr>\n",
       "      <th>1</th>\n",
       "      <td>0</td>\n",
       "      <td>147.01</td>\n",
       "      <td>108.01</td>\n",
       "      <td>245.01</td>\n",
       "      <td>0</td>\n",
       "      <td>1</td>\n",
       "    </tr>\n",
       "    <tr>\n",
       "      <th>2</th>\n",
       "      <td>0</td>\n",
       "      <td>133.01</td>\n",
       "      <td>109.01</td>\n",
       "      <td>219.01</td>\n",
       "      <td>0</td>\n",
       "      <td>1</td>\n",
       "    </tr>\n",
       "    <tr>\n",
       "      <th>3</th>\n",
       "      <td>0</td>\n",
       "      <td>150.01</td>\n",
       "      <td>114.01</td>\n",
       "      <td>294.01</td>\n",
       "      <td>1</td>\n",
       "      <td>0</td>\n",
       "    </tr>\n",
       "    <tr>\n",
       "      <th>4</th>\n",
       "      <td>0</td>\n",
       "      <td>151.01</td>\n",
       "      <td>95.01</td>\n",
       "      <td>293.01</td>\n",
       "      <td>0</td>\n",
       "      <td>1</td>\n",
       "    </tr>\n",
       "  </tbody>\n",
       "</table>\n",
       "</div>"
      ],
      "text/plain": [
       "   death     Na+     DBP     PLT  ivabradine  MRA\n",
       "0      0  136.01  126.01  196.01           1    0\n",
       "1      0  147.01  108.01  245.01           0    1\n",
       "2      0  133.01  109.01  219.01           0    1\n",
       "3      0  150.01  114.01  294.01           1    0\n",
       "4      0  151.01   95.01  293.01           0    1"
      ]
     },
     "execution_count": 4,
     "metadata": {},
     "output_type": "execute_result"
    }
   ],
   "source": [
    "# Read data\n",
    "df = pd.read_csv('patient_data.csv')\n",
    "df.head()"
   ]
  },
  {
   "cell_type": "code",
   "execution_count": 6,
   "id": "ceed1901",
   "metadata": {},
   "outputs": [
    {
     "name": "stdout",
     "output_type": "stream",
     "text": [
      "<class 'pandas.core.frame.DataFrame'>\n",
      "RangeIndex: 10 entries, 0 to 9\n",
      "Data columns (total 6 columns):\n",
      " #   Column      Non-Null Count  Dtype  \n",
      "---  ------      --------------  -----  \n",
      " 0   death       10 non-null     int64  \n",
      " 1   Na+         10 non-null     float64\n",
      " 2   DBP         10 non-null     float64\n",
      " 3   PLT         10 non-null     float64\n",
      " 4   ivabradine  10 non-null     int64  \n",
      " 5   MRA         10 non-null     int64  \n",
      "dtypes: float64(3), int64(3)\n",
      "memory usage: 608.0 bytes\n"
     ]
    }
   ],
   "source": [
    "# Check data model\n",
    "df.info()"
   ]
  },
  {
   "cell_type": "code",
   "execution_count": 10,
   "id": "517a6520",
   "metadata": {},
   "outputs": [],
   "source": [
    "# Perfoem tests\n",
    "def perform_tests(data):\n",
    "    cat_feat = []\n",
    "    num_feat = []\n",
    "    # Separate categorical nad nemeric features\n",
    "    for feature in data.columns:\n",
    "        if feature != 'death':\n",
    "            if(data[feature].dtype == np.int64):\n",
    "                cat_feat.append(feature)\n",
    "            else:\n",
    "                num_feat.append(feature)\n",
    "                    \n",
    "    # Initializing test results\n",
    "    chi_square = []\n",
    "    shapiro_wilk = []\n",
    "    ttest = []\n",
    "    mann_whitney = []\n",
    "    # Perform chi-squared test of independence between each categorical variable and 'death' variable\n",
    "    for cat in cat_feat:\n",
    "        con_table = pd.crosstab(data['death'], data[cat])\n",
    "        c, p, dof, expected = stats.chi2_contingency(con_table)\n",
    "        chi_square.append((cat,round(p,4)))\n",
    "    # Split data by 'death' variable                    \n",
    "    df_death_0 = data[data['death'] == 0]\n",
    "    df_death_1 = data[data['death'] == 1]\n",
    "    # Perform test on numeric features\n",
    "    for num in num_feat:\n",
    "        # Perform Shapiro for normal distribution test\n",
    "        shapiro_test_0 = stats.shapiro(df_death_0[num]).pvalue\n",
    "        shapiro_test_1 = stats.shapiro(df_death_1[num]).pvalue\n",
    "        shapiro_wilk.append((num,(round(shapiro_test_0, 4), round(shapiro_test_1,4))))\n",
    "        if shapiro_test_0 > 0.05 and shapiro_test_1 > 0.05: # Both normal distribution then run unpaired t-test\n",
    "            ttest_res = stats.ttest_ind(df_death_0[num], df_death_1[num], equal_var = False)\n",
    "            ttest.append((num, round(ttest_res.pvalue,4)))        \n",
    "        else: # Not a normal distribution then perform Mann-Whiteney U test\n",
    "            mannwhitneyu_res = stats.mannwhitneyu(df_death_0[num], df_death_1[num])\n",
    "            mann_whitney.append((num,round(mannwhitneyu_res.pvalue,4)))       \n",
    "    return {\n",
    "        'mann_whitney': mann_whitney,\n",
    "        'ttest': ttest,\n",
    "        'chi_square': chi_square,\n",
    "        'shapiro_wilk': shapiro_wilk\n",
    "    }"
   ]
  },
  {
   "cell_type": "code",
   "execution_count": 11,
   "id": "692a4a02",
   "metadata": {},
   "outputs": [
    {
     "data": {
      "text/plain": [
       "{'mann_whitney': [],\n",
       " 'ttest': [('Na+', 0.6844), ('DBP', 0.4346), ('PLT', 0.423)],\n",
       " 'chi_square': [('ivabradine', 1.0), ('MRA', 1.0)],\n",
       " 'shapiro_wilk': [('Na+', (0.192, 0.9276)),\n",
       "  ('DBP', (0.8769, 0.2463)),\n",
       "  ('PLT', (0.3898, 0.6919))]}"
      ]
     },
     "execution_count": 11,
     "metadata": {},
     "output_type": "execute_result"
    }
   ],
   "source": [
    "# Run tests\n",
    "test_results = perform_tests(df)\n",
    "test_results"
   ]
  }
 ],
 "metadata": {
  "kernelspec": {
   "display_name": "Python 3 (ipykernel)",
   "language": "python",
   "name": "python3"
  },
  "language_info": {
   "codemirror_mode": {
    "name": "ipython",
    "version": 3
   },
   "file_extension": ".py",
   "mimetype": "text/x-python",
   "name": "python",
   "nbconvert_exporter": "python",
   "pygments_lexer": "ipython3",
   "version": "3.9.7"
  }
 },
 "nbformat": 4,
 "nbformat_minor": 5
}
