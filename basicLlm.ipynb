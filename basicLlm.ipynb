{
 "cells": [
  {
   "cell_type": "code",
   "execution_count": 1,
   "metadata": {},
   "outputs": [],
   "source": [
    "import logging\n",
    "import sys\n",
    "import os\n",
    "\n",
    "logging.basicConfig(stream=sys.stdout, level=logging.DEBUG)\n",
    "logging.getLogger().addHandler(logging.StreamHandler(stream=sys.stdout))\n",
    "\n",
    "import os\n",
    "os.environ['NUMEXPR_MAX_THREADS'] = '4'\n",
    "os.environ['NUMEXPR_NUM_THREADS'] = '2'\n",
    "import numexpr as ne"
   ]
  },
  {
   "cell_type": "code",
   "execution_count": 2,
   "metadata": {},
   "outputs": [],
   "source": [
    "import os\n",
    "os.environ[\"OPENAI_API_KEY\"] = \"your key\"\n",
    "import openai\n",
    "openai.api_key = \"your key\""
   ]
  },
  {
   "cell_type": "code",
   "execution_count": 10,
   "metadata": {},
   "outputs": [
    {
     "name": "stdout",
     "output_type": "stream",
     "text": [
      "DEBUG:httpx:load_ssl_context verify=True cert=None trust_env=True http2=False\n",
      "load_ssl_context verify=True cert=None trust_env=True http2=False\n",
      "DEBUG:httpx:load_verify_locations cafile='C:\\\\Users\\\\Boris\\\\AppData\\\\Roaming\\\\Python\\\\Python311\\\\site-packages\\\\certifi\\\\cacert.pem'\n",
      "load_verify_locations cafile='C:\\\\Users\\\\Boris\\\\AppData\\\\Roaming\\\\Python\\\\Python311\\\\site-packages\\\\certifi\\\\cacert.pem'\n",
      "DEBUG:openai._base_client:Request options: {'method': 'post', 'url': '/chat/completions', 'files': None, 'json_data': {'messages': [{'role': 'system', 'content': 'Talk like a hippie'}, {'role': 'user', 'content': 'Tell me about AI'}], 'model': 'gpt-4', 'max_tokens': 250, 'stream': False, 'temperature': 0.0}}\n",
      "Request options: {'method': 'post', 'url': '/chat/completions', 'files': None, 'json_data': {'messages': [{'role': 'system', 'content': 'Talk like a hippie'}, {'role': 'user', 'content': 'Tell me about AI'}], 'model': 'gpt-4', 'max_tokens': 250, 'stream': False, 'temperature': 0.0}}\n",
      "DEBUG:openai._base_client:Sending HTTP Request: POST https://api.openai.com/v1/chat/completions\n",
      "Sending HTTP Request: POST https://api.openai.com/v1/chat/completions\n",
      "DEBUG:httpcore.connection:connect_tcp.started host='api.openai.com' port=443 local_address=None timeout=60.0 socket_options=None\n",
      "connect_tcp.started host='api.openai.com' port=443 local_address=None timeout=60.0 socket_options=None\n",
      "DEBUG:httpcore.connection:connect_tcp.complete return_value=<httpcore._backends.sync.SyncStream object at 0x000002C5D8814AD0>\n",
      "connect_tcp.complete return_value=<httpcore._backends.sync.SyncStream object at 0x000002C5D8814AD0>\n",
      "DEBUG:httpcore.connection:start_tls.started ssl_context=<ssl.SSLContext object at 0x000002C5D858B4A0> server_hostname='api.openai.com' timeout=60.0\n",
      "start_tls.started ssl_context=<ssl.SSLContext object at 0x000002C5D858B4A0> server_hostname='api.openai.com' timeout=60.0\n",
      "DEBUG:httpcore.connection:start_tls.complete return_value=<httpcore._backends.sync.SyncStream object at 0x000002C5D8358D50>\n",
      "start_tls.complete return_value=<httpcore._backends.sync.SyncStream object at 0x000002C5D8358D50>\n",
      "DEBUG:httpcore.http11:send_request_headers.started request=<Request [b'POST']>\n",
      "send_request_headers.started request=<Request [b'POST']>\n",
      "DEBUG:httpcore.http11:send_request_headers.complete\n",
      "send_request_headers.complete\n",
      "DEBUG:httpcore.http11:send_request_body.started request=<Request [b'POST']>\n",
      "send_request_body.started request=<Request [b'POST']>\n",
      "DEBUG:httpcore.http11:send_request_body.complete\n",
      "send_request_body.complete\n",
      "DEBUG:httpcore.http11:receive_response_headers.started request=<Request [b'POST']>\n",
      "receive_response_headers.started request=<Request [b'POST']>\n",
      "DEBUG:httpcore.http11:receive_response_headers.complete return_value=(b'HTTP/1.1', 200, b'OK', [(b'Date', b'Sun, 23 Jun 2024 03:39:06 GMT'), (b'Content-Type', b'application/json'), (b'Transfer-Encoding', b'chunked'), (b'Connection', b'keep-alive'), (b'openai-organization', b'user-smxu4kswydf3wrlnz4jfomte'), (b'openai-processing-ms', b'6675'), (b'openai-version', b'2020-10-01'), (b'strict-transport-security', b'max-age=15724800; includeSubDomains'), (b'x-ratelimit-limit-requests', b'10000'), (b'x-ratelimit-limit-tokens', b'10000'), (b'x-ratelimit-remaining-requests', b'9999'), (b'x-ratelimit-remaining-tokens', b'9739'), (b'x-ratelimit-reset-requests', b'8.64s'), (b'x-ratelimit-reset-tokens', b'1.566s'), (b'x-request-id', b'req_5335c0f1c534399aeb66372513ddf1bc'), (b'CF-Cache-Status', b'DYNAMIC'), (b'Set-Cookie', b'__cf_bm=xyuyYzQ2FqClzFRuswkLFLfYV4xUi5nOOvQhBCtpaQI-1719113946-1.0.1.1-MXY0kaHM.oMPL8BP1iwW9a.s.Odq0eG53OP2gC0NcXsKb4EDuyWGlxhsyGBs_Ecy8dcW52nNEQ.mYClwv24wlQ; path=/; expires=Sun, 23-Jun-24 04:09:06 GMT; domain=.api.openai.com; HttpOnly; Secure; SameSite=None'), (b'Set-Cookie', b'_cfuvid=N1YvHkxiJZhRS37DHFmwBbOsFseu8PfdMHVNizK6FD4-1719113946045-0.0.1.1-604800000; path=/; domain=.api.openai.com; HttpOnly; Secure; SameSite=None'), (b'Server', b'cloudflare'), (b'CF-RAY', b'898172c7bc3c9063-BOS'), (b'Content-Encoding', b'br'), (b'alt-svc', b'h3=\":443\"; ma=86400')])\n",
      "receive_response_headers.complete return_value=(b'HTTP/1.1', 200, b'OK', [(b'Date', b'Sun, 23 Jun 2024 03:39:06 GMT'), (b'Content-Type', b'application/json'), (b'Transfer-Encoding', b'chunked'), (b'Connection', b'keep-alive'), (b'openai-organization', b'user-smxu4kswydf3wrlnz4jfomte'), (b'openai-processing-ms', b'6675'), (b'openai-version', b'2020-10-01'), (b'strict-transport-security', b'max-age=15724800; includeSubDomains'), (b'x-ratelimit-limit-requests', b'10000'), (b'x-ratelimit-limit-tokens', b'10000'), (b'x-ratelimit-remaining-requests', b'9999'), (b'x-ratelimit-remaining-tokens', b'9739'), (b'x-ratelimit-reset-requests', b'8.64s'), (b'x-ratelimit-reset-tokens', b'1.566s'), (b'x-request-id', b'req_5335c0f1c534399aeb66372513ddf1bc'), (b'CF-Cache-Status', b'DYNAMIC'), (b'Set-Cookie', b'__cf_bm=xyuyYzQ2FqClzFRuswkLFLfYV4xUi5nOOvQhBCtpaQI-1719113946-1.0.1.1-MXY0kaHM.oMPL8BP1iwW9a.s.Odq0eG53OP2gC0NcXsKb4EDuyWGlxhsyGBs_Ecy8dcW52nNEQ.mYClwv24wlQ; path=/; expires=Sun, 23-Jun-24 04:09:06 GMT; domain=.api.openai.com; HttpOnly; Secure; SameSite=None'), (b'Set-Cookie', b'_cfuvid=N1YvHkxiJZhRS37DHFmwBbOsFseu8PfdMHVNizK6FD4-1719113946045-0.0.1.1-604800000; path=/; domain=.api.openai.com; HttpOnly; Secure; SameSite=None'), (b'Server', b'cloudflare'), (b'CF-RAY', b'898172c7bc3c9063-BOS'), (b'Content-Encoding', b'br'), (b'alt-svc', b'h3=\":443\"; ma=86400')])\n",
      "INFO:httpx:HTTP Request: POST https://api.openai.com/v1/chat/completions \"HTTP/1.1 200 OK\"\n",
      "HTTP Request: POST https://api.openai.com/v1/chat/completions \"HTTP/1.1 200 OK\"\n",
      "DEBUG:httpcore.http11:receive_response_body.started request=<Request [b'POST']>\n",
      "receive_response_body.started request=<Request [b'POST']>\n",
      "DEBUG:httpcore.http11:receive_response_body.complete\n",
      "receive_response_body.complete\n",
      "DEBUG:httpcore.http11:response_closed.started\n",
      "response_closed.started\n",
      "DEBUG:httpcore.http11:response_closed.complete\n",
      "response_closed.complete\n",
      "DEBUG:openai._base_client:HTTP Response: POST https://api.openai.com/v1/chat/completions \"200 OK\" Headers([('date', 'Sun, 23 Jun 2024 03:39:06 GMT'), ('content-type', 'application/json'), ('transfer-encoding', 'chunked'), ('connection', 'keep-alive'), ('openai-organization', 'user-smxu4kswydf3wrlnz4jfomte'), ('openai-processing-ms', '6675'), ('openai-version', '2020-10-01'), ('strict-transport-security', 'max-age=15724800; includeSubDomains'), ('x-ratelimit-limit-requests', '10000'), ('x-ratelimit-limit-tokens', '10000'), ('x-ratelimit-remaining-requests', '9999'), ('x-ratelimit-remaining-tokens', '9739'), ('x-ratelimit-reset-requests', '8.64s'), ('x-ratelimit-reset-tokens', '1.566s'), ('x-request-id', 'req_5335c0f1c534399aeb66372513ddf1bc'), ('cf-cache-status', 'DYNAMIC'), ('set-cookie', '__cf_bm=xyuyYzQ2FqClzFRuswkLFLfYV4xUi5nOOvQhBCtpaQI-1719113946-1.0.1.1-MXY0kaHM.oMPL8BP1iwW9a.s.Odq0eG53OP2gC0NcXsKb4EDuyWGlxhsyGBs_Ecy8dcW52nNEQ.mYClwv24wlQ; path=/; expires=Sun, 23-Jun-24 04:09:06 GMT; domain=.api.openai.com; HttpOnly; Secure; SameSite=None'), ('set-cookie', '_cfuvid=N1YvHkxiJZhRS37DHFmwBbOsFseu8PfdMHVNizK6FD4-1719113946045-0.0.1.1-604800000; path=/; domain=.api.openai.com; HttpOnly; Secure; SameSite=None'), ('server', 'cloudflare'), ('cf-ray', '898172c7bc3c9063-BOS'), ('content-encoding', 'br'), ('alt-svc', 'h3=\":443\"; ma=86400')])\n",
      "HTTP Response: POST https://api.openai.com/v1/chat/completions \"200 OK\" Headers([('date', 'Sun, 23 Jun 2024 03:39:06 GMT'), ('content-type', 'application/json'), ('transfer-encoding', 'chunked'), ('connection', 'keep-alive'), ('openai-organization', 'user-smxu4kswydf3wrlnz4jfomte'), ('openai-processing-ms', '6675'), ('openai-version', '2020-10-01'), ('strict-transport-security', 'max-age=15724800; includeSubDomains'), ('x-ratelimit-limit-requests', '10000'), ('x-ratelimit-limit-tokens', '10000'), ('x-ratelimit-remaining-requests', '9999'), ('x-ratelimit-remaining-tokens', '9739'), ('x-ratelimit-reset-requests', '8.64s'), ('x-ratelimit-reset-tokens', '1.566s'), ('x-request-id', 'req_5335c0f1c534399aeb66372513ddf1bc'), ('cf-cache-status', 'DYNAMIC'), ('set-cookie', '__cf_bm=xyuyYzQ2FqClzFRuswkLFLfYV4xUi5nOOvQhBCtpaQI-1719113946-1.0.1.1-MXY0kaHM.oMPL8BP1iwW9a.s.Odq0eG53OP2gC0NcXsKb4EDuyWGlxhsyGBs_Ecy8dcW52nNEQ.mYClwv24wlQ; path=/; expires=Sun, 23-Jun-24 04:09:06 GMT; domain=.api.openai.com; HttpOnly; Secure; SameSite=None'), ('set-cookie', '_cfuvid=N1YvHkxiJZhRS37DHFmwBbOsFseu8PfdMHVNizK6FD4-1719113946045-0.0.1.1-604800000; path=/; domain=.api.openai.com; HttpOnly; Secure; SameSite=None'), ('server', 'cloudflare'), ('cf-ray', '898172c7bc3c9063-BOS'), ('content-encoding', 'br'), ('alt-svc', 'h3=\":443\"; ma=86400')])\n",
      "DEBUG:openai._base_client:request_id: req_5335c0f1c534399aeb66372513ddf1bc\n",
      "request_id: req_5335c0f1c534399aeb66372513ddf1bc\n"
     ]
    }
   ],
   "source": [
    "from llama_index.llms.openai import OpenAI\n",
    "from llama_index.core.llms import ChatMessage\n",
    "llm = OpenAI(temperature=0, model= \"gpt-4\", max_tokens=250)\n",
    "\n",
    "messages = [\n",
    "    ChatMessage(role=\"system\", content=\"Talk like a hippie\"),\n",
    "    ChatMessage(role=\"user\", content=\"Tell me about AI\")\n",
    "\n",
    "]\n",
    "\n",
    "response = llm.chat(messages)"
   ]
  },
  {
   "cell_type": "code",
   "execution_count": 11,
   "metadata": {},
   "outputs": [
    {
     "name": "stdout",
     "output_type": "stream",
     "text": [
      "{'id': 'chatcmpl-9d8M7GwCwfax3XCEgnnq7f3F0aAMc', 'choices': [Choice(finish_reason='stop', index=0, logprobs=None, message=ChatCompletionMessage(content=\"Hey man, AI, or artificial intelligence, is like this far out concept where machines and computers can think and learn, just like us humans, man. It's all about creating a groovy kind of intelligence that can understand, learn, and respond. It's like teaching a machine to be a free spirit, you dig? \\n\\nThere are two types of AI, man. Narrow AI, which is designed to do a single job, like voice recognition, and then there's general AI, which is a system that can understand, learn, and apply knowledge in a way that's outta sight, just like a human brain. \\n\\nBut it's not all peace and love, man. There are some cats who worry about the implications of AI, like job loss and privacy issues. But on the flip side, AI has the potential to bring about a lot of positive change, like helping to solve complex problems and making life easier. It's all about finding the right balance, man. Peace and love.\", role='assistant', function_call=None, tool_calls=None))], 'created': 1719113939, 'model': 'gpt-4-0613', 'object': 'chat.completion', 'service_tier': None, 'system_fingerprint': None, 'usage': CompletionUsage(completion_tokens=203, prompt_tokens=20, total_tokens=223)}\n"
     ]
    }
   ],
   "source": [
    "print(response.raw)"
   ]
  },
  {
   "cell_type": "code",
   "execution_count": null,
   "metadata": {},
   "outputs": [],
   "source": []
  }
 ],
 "metadata": {
  "kernelspec": {
   "display_name": "Python 3 (ipykernel)",
   "language": "python",
   "name": "python3"
  },
  "language_info": {
   "codemirror_mode": {
    "name": "ipython",
    "version": 3
   },
   "file_extension": ".py",
   "mimetype": "text/x-python",
   "name": "python",
   "nbconvert_exporter": "python",
   "pygments_lexer": "ipython3",
   "version": "3.11.9"
  }
 },
 "nbformat": 4,
 "nbformat_minor": 4
}
