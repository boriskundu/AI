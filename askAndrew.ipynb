{
 "cells": [
  {
   "cell_type": "code",
   "execution_count": 131,
   "metadata": {},
   "outputs": [],
   "source": [
    "#!pip install scikit-learn scipy threadpoolctl ipykernel seaborn"
   ]
  },
  {
   "cell_type": "code",
   "execution_count": 132,
   "metadata": {},
   "outputs": [],
   "source": [
    "#!pip install llama-index llama-hub openai"
   ]
  },
  {
   "cell_type": "code",
   "execution_count": 133,
   "metadata": {},
   "outputs": [],
   "source": [
    "#!pip install nltk"
   ]
  },
  {
   "cell_type": "code",
   "execution_count": 134,
   "metadata": {},
   "outputs": [],
   "source": [
    "#!pip install llama_index"
   ]
  },
  {
   "cell_type": "code",
   "execution_count": 135,
   "metadata": {},
   "outputs": [],
   "source": [
    "#!pip install spacy"
   ]
  },
  {
   "cell_type": "code",
   "execution_count": 136,
   "metadata": {},
   "outputs": [],
   "source": [
    "import logging\n",
    "import sys\n",
    "import os\n",
    "\n",
    "logging.basicConfig(stream=sys.stdout, level=logging.INFO)\n",
    "logging.getLogger().addHandler(logging.StreamHandler(stream=sys.stdout))"
   ]
  },
  {
   "cell_type": "code",
   "execution_count": 137,
   "metadata": {},
   "outputs": [],
   "source": [
    "import os\n",
    "os.environ['NUMEXPR_MAX_THREADS'] = '4'\n",
    "os.environ['NUMEXPR_NUM_THREADS'] = '2'\n",
    "import numexpr as ne"
   ]
  },
  {
   "cell_type": "code",
   "execution_count": 138,
   "metadata": {},
   "outputs": [],
   "source": [
    "import os\n",
    "os.environ[\"OPENAI_API_KEY\"] = \"your keyx\"\n",
    "import openai\n",
    "openai.api_key = \"your key\""
   ]
  },
  {
   "cell_type": "code",
   "execution_count": 139,
   "metadata": {
    "scrolled": true
   },
   "outputs": [
    {
     "name": "stderr",
     "output_type": "stream",
     "text": [
      "C:\\Users\\Boris\\AppData\\Local\\Temp\\ipykernel_10968\\204387874.py:8: DeprecationWarning: Call to deprecated class method from_defaults. (ServiceContext is deprecated, please use `llama_index.settings.Settings` instead.) -- Deprecated since version 0.10.0.\n",
      "  service_context = ServiceContext.from_defaults(callback_manager = callback_manager)\n"
     ]
    }
   ],
   "source": [
    "import tiktoken\n",
    "from llama_index.core import ServiceContext\n",
    "from llama_index.core.callbacks import CallbackManager, TokenCountingHandler\n",
    "\n",
    "token_counter = TokenCountingHandler(tokenizer = tiktoken.encoding_for_model(\"text-embedding-ada-002\").encode, \n",
    "                                     verbose = 1)\n",
    "callback_manager = CallbackManager([token_counter])\n",
    "service_context = ServiceContext.from_defaults(callback_manager = callback_manager)\n"
   ]
  },
  {
   "cell_type": "code",
   "execution_count": 140,
   "metadata": {},
   "outputs": [
    {
     "name": "stdout",
     "output_type": "stream",
     "text": [
      "INFO:httpx:HTTP Request: POST https://api.openai.com/v1/embeddings \"HTTP/1.1 200 OK\"\n",
      "HTTP Request: POST https://api.openai.com/v1/embeddings \"HTTP/1.1 200 OK\"\n",
      "HTTP Request: POST https://api.openai.com/v1/embeddings \"HTTP/1.1 200 OK\"\n",
      "HTTP Request: POST https://api.openai.com/v1/embeddings \"HTTP/1.1 200 OK\"\n",
      "HTTP Request: POST https://api.openai.com/v1/embeddings \"HTTP/1.1 200 OK\"\n",
      "HTTP Request: POST https://api.openai.com/v1/embeddings \"HTTP/1.1 200 OK\"\n",
      "HTTP Request: POST https://api.openai.com/v1/embeddings \"HTTP/1.1 200 OK\"\n",
      "Embedding Token Usage: 95852\n",
      "INFO:httpx:HTTP Request: POST https://api.openai.com/v1/embeddings \"HTTP/1.1 200 OK\"\n",
      "HTTP Request: POST https://api.openai.com/v1/embeddings \"HTTP/1.1 200 OK\"\n",
      "HTTP Request: POST https://api.openai.com/v1/embeddings \"HTTP/1.1 200 OK\"\n",
      "HTTP Request: POST https://api.openai.com/v1/embeddings \"HTTP/1.1 200 OK\"\n",
      "HTTP Request: POST https://api.openai.com/v1/embeddings \"HTTP/1.1 200 OK\"\n",
      "HTTP Request: POST https://api.openai.com/v1/embeddings \"HTTP/1.1 200 OK\"\n",
      "HTTP Request: POST https://api.openai.com/v1/embeddings \"HTTP/1.1 200 OK\"\n",
      "Embedding Token Usage: 73107\n",
      "persisting to disk\n",
      "Token count:168959\n"
     ]
    }
   ],
   "source": [
    "from llama_index.core import VectorStoreIndex, SimpleDirectoryReader, StorageContext, load_index_from_storage\n",
    "\n",
    "try:\n",
    "    storage_context = StorageContext.from_defaults(persist_dir='./storage/cache/andrew/sleep')\n",
    "    index = load_index_from_storage(storage_context, show_progress = True)\n",
    "    print('loading from disk')\n",
    "#except:\n",
    "    documents = SimpleDirectoryReader('assets/AndrewHuberman/sleep').load_data()\n",
    "    index = VectorStoreIndex.from_documents(documents, show_process = True, service_context = service_context)\n",
    "    index.storage_context.persist(persist_dir='./storage/cache/andrew/sleep/')\n",
    "    print('persisting to disk')\n",
    "    print(f'Token count:{token_counter.total_embedding_token_count}')"
   ]
  },
  {
   "cell_type": "code",
   "execution_count": 141,
   "metadata": {},
   "outputs": [],
   "source": [
    "openai.log = \"debug\""
   ]
  },
  {
   "cell_type": "code",
   "execution_count": 142,
   "metadata": {},
   "outputs": [],
   "source": [
    "from llama_index.core.retrievers import VectorIndexRetriever\n",
    "from llama_index.core.query_engine import RetrieverQueryEngine\n",
    "from llama_index.core.indices.postprocessor import SimilarityPostprocessor, KeywordNodePostprocessor\n",
    "from llama_index.core.response_synthesizers import get_response_synthesizer"
   ]
  },
  {
   "cell_type": "code",
   "execution_count": 143,
   "metadata": {},
   "outputs": [],
   "source": [
    "retriever = VectorIndexRetriever(\n",
    "    index = index,\n",
    "    similarity_top_k = 6\n",
    ")"
   ]
  },
  {
   "cell_type": "code",
   "execution_count": 144,
   "metadata": {},
   "outputs": [],
   "source": [
    "sim_process = SimilarityPostprocessor(similarity_cutoff = 0.83)\n",
    "key_process = KeywordNodePostprocessor(exclude_keywords = ['newsletter'])"
   ]
  },
  {
   "cell_type": "code",
   "execution_count": 145,
   "metadata": {},
   "outputs": [],
   "source": [
    "resp_syn = get_response_synthesizer(response_mode='no_text')#'compact'"
   ]
  },
  {
   "cell_type": "code",
   "execution_count": 146,
   "metadata": {},
   "outputs": [],
   "source": [
    "query_engine = RetrieverQueryEngine(\n",
    "    retriever=retriever,\n",
    "    node_postprocessors=[sim_process, key_process],\n",
    "    response_synthesizer = resp_syn,\n",
    "    )"
   ]
  },
  {
   "cell_type": "code",
   "execution_count": 147,
   "metadata": {},
   "outputs": [],
   "source": [
    "from llama_index.core.response.pprint_utils import pprint_response\n"
   ]
  },
  {
   "cell_type": "code",
   "execution_count": 148,
   "metadata": {},
   "outputs": [
    {
     "name": "stdout",
     "output_type": "stream",
     "text": [
      "INFO:httpx:HTTP Request: POST https://api.openai.com/v1/embeddings \"HTTP/1.1 200 OK\"\n",
      "HTTP Request: POST https://api.openai.com/v1/embeddings \"HTTP/1.1 200 OK\"\n",
      "HTTP Request: POST https://api.openai.com/v1/embeddings \"HTTP/1.1 200 OK\"\n",
      "HTTP Request: POST https://api.openai.com/v1/embeddings \"HTTP/1.1 200 OK\"\n",
      "HTTP Request: POST https://api.openai.com/v1/embeddings \"HTTP/1.1 200 OK\"\n",
      "HTTP Request: POST https://api.openai.com/v1/embeddings \"HTTP/1.1 200 OK\"\n",
      "HTTP Request: POST https://api.openai.com/v1/embeddings \"HTTP/1.1 200 OK\"\n",
      "Embedding Token Usage: 8\n"
     ]
    }
   ],
   "source": [
    "#token_counter.reset_counts()\n",
    "response = query_engine.query(\"What can I do to sleep better?\")"
   ]
  },
  {
   "cell_type": "markdown",
   "metadata": {},
   "source": [
    "print(\n",
    "    \"Embedding Tokens: \",\n",
    "    token_counter.total_embedding_token_count,\n",
    "    \"\\n\",\n",
    "    \"LLM Prompt Tokens: \",\n",
    "    token_counter.prompt_llm_token_count,\n",
    "    \"\\n\",\n",
    "    \"LLM Completion Tokens: \",\n",
    "    token_counter.completion_llm_token_count,\n",
    "    \"\\n\",\n",
    "    \"Total LLM Token Count: \",\n",
    "    token_counter.total_llm_token_count,\n",
    "    \"\\n\",\n",
    ")"
   ]
  },
  {
   "cell_type": "code",
   "execution_count": 150,
   "metadata": {},
   "outputs": [
    {
     "name": "stdout",
     "output_type": "stream",
     "text": [
      "Final Response:\n",
      "______________________________________________________________________\n",
      "Source Node 1/3\n",
      "Node ID: d5baf279-3599-4f99-bc27-e5be47c87a88\n",
      "Similarity: 0.8348870938733585\n",
      "Text: Now, very briefly, I just want to touch on some tools that are\n",
      "very commonly used by many people out there, and believe it or not,\n",
      "there is peer-reviewed science on things like eye masks. Do eye masks\n",
      "improve your ability to stay asleep? And indeed, they do, provided\n",
      "they are not too tight and provided that the room is cool enough. Why?\n",
      "Well, ey...\n",
      "______________________________________________________________________\n",
      "Source Node 2/3\n",
      "Node ID: 69e8924a-fc16-4005-8fea-1b1d9167a398\n",
      "Similarity: 0.8318823534768527\n",
      "Text: And I already thought I was sleeping pretty well. The way it\n",
      "works is that you can cool or heat your mattress according to\n",
      "different times throughout the night. So for instance, you can cool\n",
      "your mattress if you tend to run warm and that will help you fall and\n",
      "stay deeply asleep and then toward morning, you can have the mattress\n",
      "programmed or, I...\n",
      "______________________________________________________________________\n",
      "Source Node 3/3\n",
      "Node ID: 02d2d2b5-0285-46d2-9974-ab1522afa10d\n",
      "Similarity: 0.8313486169400568\n",
      "Text: It may be the case that they are sleep deprived and they need\n",
      "more sleep, but some people just have a lower sleep need. And I find\n",
      "great relief, personally, in the fact that consistently getting, for\n",
      "me, about six hours or six and a half hours is going to be more\n",
      "beneficial than constantly striving for eight or nine and finding that\n",
      "some nights ...\n"
     ]
    }
   ],
   "source": [
    "pprint_response(response, show_source=True)"
   ]
  },
  {
   "cell_type": "code",
   "execution_count": 151,
   "metadata": {},
   "outputs": [],
   "source": [
    "from llama_index.core.prompts import PromptTemplate\n",
    "\n",
    "text_qa_template_str = (\n",
    "    \"Context information is below.\\n\"\n",
    "    \"---------------------\\n\"\n",
    "    \"{context_str}\\n\"\n",
    "    \"---------------------\\n\"\n",
    "    \"Using both the context information and also using your own knowledge, \"\n",
    "    \"answer the question: {query_str}\\n\"\n",
    "    \"If the context isn't helpful, you can also answer the question on your own.\\n\"\n",
    ")\n",
    "\n",
    "text_qa_template = PromptTemplate(text_qa_template_str)"
   ]
  },
  {
   "cell_type": "code",
   "execution_count": 152,
   "metadata": {},
   "outputs": [],
   "source": [
    "text_qa_template_str = (\n",
    "    \"You are an Andrew huberman assistant that can read Andrew Huberman podcast notes.\\n\"\n",
    "    \"Always answer the query only using the provided context information, \"\n",
    "    \"and not prior knowledge.\\n\"\n",
    "    \"Some rules to follow:\\n\"\n",
    "    \"1. Never directly reference the given context in your answer.\\n\"\n",
    "    \"2. Avoid statements like 'Based on the context, ...' or \"\n",
    "    \"'The context information ...' or anything along \"\n",
    "    \"those lines.\"\n",
    "    \"Context information is below.\\n\"\n",
    "    \"---------------------\\n\"\n",
    "    \"{context_str}\\n\"\n",
    "    \"---------------------\\n\"\n",
    "    \"Answer the question: {query_str}\\n\"\n",
    ")\n",
    "\n",
    "text_qa_template = PromptTemplate(text_qa_template_str)"
   ]
  },
  {
   "cell_type": "code",
   "execution_count": 153,
   "metadata": {},
   "outputs": [
    {
     "name": "stdout",
     "output_type": "stream",
     "text": [
      "INFO:httpx:HTTP Request: POST https://api.openai.com/v1/embeddings \"HTTP/1.1 200 OK\"\n",
      "HTTP Request: POST https://api.openai.com/v1/embeddings \"HTTP/1.1 200 OK\"\n",
      "HTTP Request: POST https://api.openai.com/v1/embeddings \"HTTP/1.1 200 OK\"\n",
      "HTTP Request: POST https://api.openai.com/v1/embeddings \"HTTP/1.1 200 OK\"\n",
      "HTTP Request: POST https://api.openai.com/v1/embeddings \"HTTP/1.1 200 OK\"\n",
      "HTTP Request: POST https://api.openai.com/v1/embeddings \"HTTP/1.1 200 OK\"\n",
      "HTTP Request: POST https://api.openai.com/v1/embeddings \"HTTP/1.1 200 OK\"\n",
      "Embedding Token Usage: 7\n",
      "INFO:httpx:HTTP Request: POST https://api.openai.com/v1/chat/completions \"HTTP/1.1 200 OK\"\n",
      "HTTP Request: POST https://api.openai.com/v1/chat/completions \"HTTP/1.1 200 OK\"\n",
      "HTTP Request: POST https://api.openai.com/v1/chat/completions \"HTTP/1.1 200 OK\"\n",
      "HTTP Request: POST https://api.openai.com/v1/chat/completions \"HTTP/1.1 200 OK\"\n",
      "HTTP Request: POST https://api.openai.com/v1/chat/completions \"HTTP/1.1 200 OK\"\n",
      "HTTP Request: POST https://api.openai.com/v1/chat/completions \"HTTP/1.1 200 OK\"\n",
      "HTTP Request: POST https://api.openai.com/v1/chat/completions \"HTTP/1.1 200 OK\"\n"
     ]
    }
   ],
   "source": [
    "response = index.as_query_engine(\n",
    "    text_qa_template = text_qa_template \n",
    ").query(\"How does sleep enhance learning memory?\")"
   ]
  },
  {
   "cell_type": "code",
   "execution_count": 154,
   "metadata": {},
   "outputs": [
    {
     "name": "stdout",
     "output_type": "stream",
     "text": [
      "Sleep enhances learning and memory by playing a crucial role in motor learning, motor skill learning, and the learning of specific details about specific events. Slow wave sleep, which occurs primarily in the early part of the night, is important for these processes. During slow wave sleep, there is a lack of acetylcholine, which is associated with focus, but an increase in serotonin, which is associated with bliss and wellbeing. Studies have shown that motor learning and the learning of detailed information primarily occur during slow wave sleep, making it essential for consolidating new information and skills.\n"
     ]
    }
   ],
   "source": [
    "print(response)"
   ]
  },
  {
   "cell_type": "code",
   "execution_count": 155,
   "metadata": {},
   "outputs": [
    {
     "name": "stdout",
     "output_type": "stream",
     "text": [
      "[NodeWithScore(node=TextNode(id_='c566f77b-fd74-46e2-83d0-cdcb3de604cd', embedding=None, metadata={'file_path': 'C:\\\\Users\\\\Boris\\\\Desktop\\\\llamaindex_scripts\\\\assets\\\\AndrewHuberman\\\\sleep\\\\05_Understanding_and_Using_Dreams_to_Learn_and_to_Forget_Huberman_Lab_Podcast_5.txt', 'file_name': '05_Understanding_and_Using_Dreams_to_Learn_and_to_Forget_Huberman_Lab_Podcast_5.txt', 'file_type': 'text/plain', 'file_size': 75844, 'creation_date': '2023-10-03', 'last_modified_date': '2024-06-22'}, excluded_embed_metadata_keys=['file_name', 'file_type', 'file_size', 'creation_date', 'last_modified_date', 'last_accessed_date'], excluded_llm_metadata_keys=['file_name', 'file_type', 'file_size', 'creation_date', 'last_modified_date', 'last_accessed_date'], relationships={<NodeRelationship.SOURCE: '1'>: RelatedNodeInfo(node_id='596a1fd1-d9e4-445e-b608-ee47a0d7076b', node_type=<ObjectType.DOCUMENT: '4'>, metadata={'file_path': 'C:\\\\Users\\\\Boris\\\\Desktop\\\\llamaindex_scripts\\\\assets\\\\AndrewHuberman\\\\sleep\\\\05_Understanding_and_Using_Dreams_to_Learn_and_to_Forget_Huberman_Lab_Podcast_5.txt', 'file_name': '05_Understanding_and_Using_Dreams_to_Learn_and_to_Forget_Huberman_Lab_Podcast_5.txt', 'file_type': 'text/plain', 'file_size': 75844, 'creation_date': '2023-10-03', 'last_modified_date': '2024-06-22'}, hash='178685f61c461505b6a32a6c5b9570b25637e117bd13fe12395cb583f9aff27e'), <NodeRelationship.PREVIOUS: '2'>: RelatedNodeInfo(node_id='34ef48cd-8f18-43fa-81c4-5829e060ed5b', node_type=<ObjectType.TEXT: '1'>, metadata={'file_path': 'C:\\\\Users\\\\Boris\\\\Desktop\\\\llamaindex_scripts\\\\assets\\\\AndrewHuberman\\\\sleep\\\\05_Understanding_and_Using_Dreams_to_Learn_and_to_Forget_Huberman_Lab_Podcast_5.txt', 'file_name': '05_Understanding_and_Using_Dreams_to_Learn_and_to_Forget_Huberman_Lab_Podcast_5.txt', 'file_type': 'text/plain', 'file_size': 75844, 'creation_date': '2023-10-03', 'last_modified_date': '2024-06-22'}, hash='ed113668e12a2c466734d9d2ab325748fca33976092bbc7c42d615dde0ecb9da'), <NodeRelationship.NEXT: '3'>: RelatedNodeInfo(node_id='aba63ce2-eff9-4041-8ed0-3d94700b12eb', node_type=<ObjectType.TEXT: '1'>, metadata={}, hash='bf84bda9ec927cef2a36a1bebea8d1bb543aa9daa65612e84d716e4ed68e468b')}, text=\"In addition, slow wave sleep has been shown to be important for the learning of detailed information. Now this isn't always cognitive information. We're gonna talk about cognitive information, but the studies that have been done along these lines involve having people learn very detailed information about very specific rules and the way that certain words are spelled, they tend to be challenging words. So if people are tested and in terms of their performance on these types of exams and they're deprived of slow wave sleep, they tend to perform very poorly. So we can think of slow wave sleep as important for motor learning, motor skill learning and for the learning of specific details about specific events. And this turns out to be fundamentally important because now we know that slow wave sleep is primarily in the early part of the night, and motor learning is occurring primarily early in the night, and detailed learning is occurring early in the night. Now for those of you that are waking up after only three, four hours of sleep, this might be informative. This might tell you a little something about what you are able to learn and not able to learn if that were to be the only sleep that you get. Although, hopefully that's not the only sleep that you get. But we're going to dive deep into how it is that one can maximize motor learning in order to extract say, more detail information about coordinated movements and how to make them faster or slower. So that might be important for certain sports. It might be almost certainly important for certain sports. It's gonna be important for any kind of coordinated movement, like say learning to play the piano, or for instance, how to learn synchronized movements with somebody else. So maybe I mentioned the example of dance earlier. Like me a few years ago, I set out to learn tango because I have some Argentine relatives and I was a Bismal. I need to return to that at some point. I was just a Bismal. And one of the worst things about being a bismal at learning dance is that, that somebody else has to suffer the consequences also. So I don't know maybe in the month on neuroplasticity, I'll explore that again as a self experimentation. But, the key things to know are slow wave sleep is involved in motor learning and detailed learning. There's no acetylcholine around at that time, has these big amplitude activity sweeping throughout the brain and that there's the release of these neuromodulators, norepinephrine and serotonin. And again, that's all happening early in the night. So athletes, people that are concerned about performance, if you happen to wake up after just a couple hours of, you know, three, four hours of sleep because you're excited about a competition the next day, presumably if you've already trained the skills that you need for the event you should be fine to engage in that particular activity. Now it's always going to be better to get a full night's sleep. And that, you know, a full night's sleep for you is six hours then it's always gonna be better to get more sleep than it is to get less. However, I think some people get a little bit overly concerned that if they didn't get their full night's sleep before some sort of physical event that their performance is going to plummet. Presumably, if you've already learned what you need to do, and it's stored in your neural circuits and you know how to make those coordinated movements, what the literature on slow wave sleep suggest is that you would be replenished. That the motor learning and the recovery from exercise is going to happen early in the night. Okay. So we'll just pause there, and kind of shelve that for a moment and then we're gonna come back to it. But I wanna talk about REM sleep, or rapid eye movement sleep. REM sleep and rapid eye movement sleep, as I mentioned before, occurs throughout the night, but you're gonna have more of it. A larger percentage of these 90 minute sleep cycles is going to be comprised of REM sleep as you get toward morning. REM sleep is fascinating. It was discovered in '50s when a sleep laboratory in Chicago, the researchers observed that people's eyes were moving under their eyelids. Now, something very important that we're going to address when we talk about trauma later is that, the eye movements are not just side to side they're very erratic in all different directions. One thing that I don't think I've never heard anyone really talk about publicly is, why eye movements during sleep, right?\", mimetype='text/plain', start_char_idx=13716, end_char_idx=18229, text_template='{metadata_str}\\n\\n{content}', metadata_template='{key}: {value}', metadata_seperator='\\n'), score=0.8611302118631738), NodeWithScore(node=TextNode(id_='34ef48cd-8f18-43fa-81c4-5829e060ed5b', embedding=None, metadata={'file_path': 'C:\\\\Users\\\\Boris\\\\Desktop\\\\llamaindex_scripts\\\\assets\\\\AndrewHuberman\\\\sleep\\\\05_Understanding_and_Using_Dreams_to_Learn_and_to_Forget_Huberman_Lab_Podcast_5.txt', 'file_name': '05_Understanding_and_Using_Dreams_to_Learn_and_to_Forget_Huberman_Lab_Podcast_5.txt', 'file_type': 'text/plain', 'file_size': 75844, 'creation_date': '2023-10-03', 'last_modified_date': '2024-06-22'}, excluded_embed_metadata_keys=['file_name', 'file_type', 'file_size', 'creation_date', 'last_modified_date', 'last_accessed_date'], excluded_llm_metadata_keys=['file_name', 'file_type', 'file_size', 'creation_date', 'last_modified_date', 'last_accessed_date'], relationships={<NodeRelationship.SOURCE: '1'>: RelatedNodeInfo(node_id='596a1fd1-d9e4-445e-b608-ee47a0d7076b', node_type=<ObjectType.DOCUMENT: '4'>, metadata={'file_path': 'C:\\\\Users\\\\Boris\\\\Desktop\\\\llamaindex_scripts\\\\assets\\\\AndrewHuberman\\\\sleep\\\\05_Understanding_and_Using_Dreams_to_Learn_and_to_Forget_Huberman_Lab_Podcast_5.txt', 'file_name': '05_Understanding_and_Using_Dreams_to_Learn_and_to_Forget_Huberman_Lab_Podcast_5.txt', 'file_type': 'text/plain', 'file_size': 75844, 'creation_date': '2023-10-03', 'last_modified_date': '2024-06-22'}, hash='178685f61c461505b6a32a6c5b9570b25637e117bd13fe12395cb583f9aff27e'), <NodeRelationship.PREVIOUS: '2'>: RelatedNodeInfo(node_id='6b9188d2-9da1-4dc8-a95c-ef950bf5fae8', node_type=<ObjectType.TEXT: '1'>, metadata={'file_path': 'C:\\\\Users\\\\Boris\\\\Desktop\\\\llamaindex_scripts\\\\assets\\\\AndrewHuberman\\\\sleep\\\\05_Understanding_and_Using_Dreams_to_Learn_and_to_Forget_Huberman_Lab_Podcast_5.txt', 'file_name': '05_Understanding_and_Using_Dreams_to_Learn_and_to_Forget_Huberman_Lab_Podcast_5.txt', 'file_type': 'text/plain', 'file_size': 75844, 'creation_date': '2023-10-03', 'last_modified_date': '2024-06-22'}, hash='1e23dcdb2e3eaf6d3448bf60a1805dfc5fcbb3478b3afc5bae1e3249c047074b'), <NodeRelationship.NEXT: '3'>: RelatedNodeInfo(node_id='c566f77b-fd74-46e2-83d0-cdcb3de604cd', node_type=<ObjectType.TEXT: '1'>, metadata={}, hash='8770cf6c1c202ec653b382c0476e9fe151617615bde3b69fe6e3e441823083e9')}, text=\"It's more or less the way to think about these neuromodulators. And they are associated as a consequence with certain brain functions. So we know for instance and just to review, acetylcholine in waking states is a neuromodulator that tends to amplify the activity of brain circuits associated with focus and attention. Norepinephrine is a neuromodulator that tends to amplify the brain circuits associated with alertness, and the desire to move. Serotonin is the neuromodulator that's released intense to amplify the circuits in the brain and body that are associated with bliss and the desire to remain still. And dopamine is the neuromodulator that's released and is associated with amplification of the neural circuits in the brain and body associated with pursuing goals and pleasure and reward. Okay. So in slow wave sleep something really interesting happens. There is essentially no acetylcholine. Acetylcholine production and release and action from the two major sites, which are in the brainstem, which from a nucleus if it's a parabigerminal nucleus, if you really wanna know, or from the forebrain, which is nucleus basalis. And you don't need to know these names but if you like, that's why I put them out there. Acetylcholine production plummets. It's just almost to zero. And acetylcholine as I just mentioned, is associated with focus. So you can think of slow wave sleep as these big sweeping waves of activity through the brain and a kind of distortion of space and time, so that we're not really focusing on any one thing. Now the other molecules that are very active at that time are norepinephrine. Which is a little bit surprising 'cause normally in waking states norepinephrine is gonna be associated with a lot of alertness and the desire to move. But there's not a ton of norepinephrine around in slow wave sleep, but it is around. So there's something associated with the movement circuitry going on in slow wave sleep. And remember, this is happening mostly at the beginning of the night, your sleep is dominated by slow wave sleep. So no acetylcholine, very little norepinephrine, although there is some and a lot of serotonin. And serotonin again is associated with this desire, this sensation of kind of bliss or wellbeing, but not a lot of movement. And during sleep you tend not to move. Now in slow wave sleep you can move, you're not paralyzed. So you can roll over. If people are going to sleep walk, typically it's going to be during slow wave sleep. And what studies have shown through some kind of sadistic experiments where people are deprived specifically of slow wave sleep, and that can be done by waking them up as soon as the electrode recording show that they're in slow wave sleep or by chemically altering their sleep so that it biases them away from slow wave sleep. What studies have shown is that motor learning is generally occurring in slow wave sleep. So let's say the day before you go to sleep you were learning some new dance move, or you were learning some specific motor skill, either a fine motor skill or a course motor skill. So let's say, it's a new form of exercise or some new coordinated movements. This could be coordinate movement at the level of the fingers, or it could be coordinated movement the level of whole body and large limb movements. It could involve other people, or it could be a solo activity. Learning of those skills is happening primarily during slow wave sleep in the early part of the night. In addition, slow wave sleep has been shown to be important for the learning of detailed information. Now this isn't always cognitive information. We're gonna talk about cognitive information, but the studies that have been done along these lines involve having people learn very detailed information about very specific rules and the way that certain words are spelled, they tend to be challenging words. So if people are tested and in terms of their performance on these types of exams and they're deprived of slow wave sleep, they tend to perform very poorly. So we can think of slow wave sleep as important for motor learning, motor skill learning and for the learning of specific details about specific events. And this turns out to be fundamentally important because now we know that slow wave sleep is primarily in the early part of the night, and motor learning is occurring primarily early in the night, and detailed learning is occurring early in the night.\", mimetype='text/plain', start_char_idx=10236, end_char_idx=14683, text_template='{metadata_str}\\n\\n{content}', metadata_template='{key}: {value}', metadata_seperator='\\n'), score=0.8487966587330017)]\n"
     ]
    }
   ],
   "source": [
    "print(response.source_nodes)"
   ]
  },
  {
   "cell_type": "code",
   "execution_count": 156,
   "metadata": {},
   "outputs": [
    {
     "name": "stdout",
     "output_type": "stream",
     "text": [
      "Final Response: Sleep enhances learning and memory by playing a\n",
      "crucial role in motor learning, motor skill learning, and the learning\n",
      "of specific details about specific events. Slow wave sleep, which\n",
      "occurs primarily in the early part of the night, is important for\n",
      "these processes. During slow wave sleep, there is a lack of\n",
      "acetylcholine, which is associated with focus, but an increase in\n",
      "serotonin, which is associated with bliss and wellbeing. Studies have\n",
      "shown that motor learning and the learning of detailed information\n",
      "primarily occur during slow wave sleep, making it essential for\n",
      "consolidating new information and skills.\n",
      "______________________________________________________________________\n",
      "Source Node 1/2\n",
      "Node ID: c566f77b-fd74-46e2-83d0-cdcb3de604cd\n",
      "Similarity: 0.8611302118631738\n",
      "Text: In addition, slow wave sleep has been shown to be important for\n",
      "the learning of detailed information. Now this isn't always cognitive\n",
      "information. We're gonna talk about cognitive information, but the\n",
      "studies that have been done along these lines involve having people\n",
      "learn very detailed information about very specific rules and the way\n",
      "that cer...\n",
      "______________________________________________________________________\n",
      "Source Node 2/2\n",
      "Node ID: 34ef48cd-8f18-43fa-81c4-5829e060ed5b\n",
      "Similarity: 0.8487966587330017\n",
      "Text: It's more or less the way to think about these neuromodulators.\n",
      "And they are associated as a consequence with certain brain functions.\n",
      "So we know for instance and just to review, acetylcholine in waking\n",
      "states is a neuromodulator that tends to amplify the activity of brain\n",
      "circuits associated with focus and attention. Norepinephrine is a\n",
      "neuromo...\n"
     ]
    }
   ],
   "source": [
    "from llama_index.core.response.pprint_utils import pprint_response\n",
    "pprint_response(response, show_source=True)"
   ]
  },
  {
   "cell_type": "code",
   "execution_count": null,
   "metadata": {},
   "outputs": [],
   "source": []
  }
 ],
 "metadata": {
  "kernelspec": {
   "display_name": "Python 3 (ipykernel)",
   "language": "python",
   "name": "python3"
  },
  "language_info": {
   "codemirror_mode": {
    "name": "ipython",
    "version": 3
   },
   "file_extension": ".py",
   "mimetype": "text/x-python",
   "name": "python",
   "nbconvert_exporter": "python",
   "pygments_lexer": "ipython3",
   "version": "3.11.9"
  }
 },
 "nbformat": 4,
 "nbformat_minor": 4
}
