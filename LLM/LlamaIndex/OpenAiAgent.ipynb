{
 "cells": [
  {
   "cell_type": "code",
   "execution_count": 1,
   "metadata": {},
   "outputs": [],
   "source": [
    "import logging\n",
    "import sys\n",
    "import os\n",
    "\n",
    "logging.basicConfig(stream=sys.stdout, level=logging.INFO)\n",
    "logging.getLogger().addHandler(logging.StreamHandler(stream=sys.stdout))\n",
    "\n",
    "os.environ['NUMEXPR_MAX_THREADS'] = '4'\n",
    "os.environ['NUMEXPR_NUM_THREADS'] = '2'\n",
    "import numexpr as ne"
   ]
  },
  {
   "cell_type": "code",
   "execution_count": 2,
   "metadata": {},
   "outputs": [],
   "source": [
    "import os\n",
    "os.environ[\"OPENAI_API_KEY\"] = \"your key\"\n",
    "import openai\n",
    "openai.api_key = \"your key\""
   ]
  },
  {
   "cell_type": "code",
   "execution_count": 3,
   "metadata": {},
   "outputs": [
    {
     "name": "stderr",
     "output_type": "stream",
     "text": [
      "C:\\Users\\Boris\\AppData\\Local\\Temp\\ipykernel_19044\\2881837558.py:5: DeprecationWarning: Call to deprecated function (or staticmethod) download_loader. (`download_loader()` is deprecated. Please install tool using pip install directly instead.)\n",
      "  PDFReader = download_loader(\"PDFReader\")\n"
     ]
    },
    {
     "name": "stdout",
     "output_type": "stream",
     "text": [
      "INFO:llama_index.core.indices.loading:Loading all indices.\n",
      "Loading all indices.\n",
      "INFO:llama_index.core.indices.loading:Loading all indices.\n",
      "Loading all indices.\n",
      "INFO:llama_index.core.indices.loading:Loading all indices.\n",
      "Loading all indices.\n"
     ]
    }
   ],
   "source": [
    "from pathlib import Path\n",
    "from llama_index.core import download_loader, VectorStoreIndex, load_index_from_storage, StorageContext\n",
    "#from llama_index.storage.storage_context import StorageContext\n",
    "\n",
    "PDFReader = download_loader(\"PDFReader\")\n",
    "\n",
    "loader = PDFReader()\n",
    "\n",
    "class PodcastTitle:\n",
    "    def __init__(self, name, about, file, key):\n",
    "        self.name = name\n",
    "        self.about = about   \n",
    "        self.file = file\n",
    "        self.key = key\n",
    "\n",
    "podcast_titles = [\n",
    "    PodcastTitle(\"10 Tools for Managing Stress and Anxiety with Huberman\", \"manage stress and anxiety\", \"behaviour/10_Tools_for_Managing_Stress_&_Anxiety_Huberman_Lab_Podcast_10.pdf\", \"tools_for_stress\"),\n",
    "    PodcastTitle(\"The Science of Setting and Achieving Goals with Huberman\", \"set and achieve goals\", \"behaviour/55_The_Science_of_Setting_&_Achieving_Goals_Huberman_Lab_Podcast_55.pdf\", \"setting_goals\"),\n",
    "    PodcastTitle(\"Dr Chris Palmer Diet and Nutrition for Mental Health with Huberman\", \"have healthy diet for mental health\", \"food/99_Dr_Chris_Palmer_Diet_&_Nutrition_for_Mental_Health_Huberman_Lab_Podcast_99.pdf\", \"diet_nutrition\"),\n",
    "]\n",
    "\n",
    "podcast_vector_index = {}\n",
    "for podcast in podcast_titles:\n",
    "    try:\n",
    "        storage_context = StorageContext.from_defaults(persist_dir=f\"./storage/cache/{podcast.key}_vector\")\n",
    "        podcast_vector_index[podcast.key] = load_index_from_storage(storage_context)\n",
    "    except:\n",
    "        documents = loader.load_data(file=Path(f\"./assets/AndrewHuberman/{podcast.file}\"))\n",
    "        vector_index = VectorStoreIndex.from_documents(documents)\n",
    "        podcast_vector_index[podcast.key] = vector_index\n",
    "        vector_index.storage_context.persist(persist_dir=f\"./storage/cache/{podcast.key}_vector\")\n",
    "\n",
    "\n"
   ]
  },
  {
   "cell_type": "code",
   "execution_count": 4,
   "metadata": {},
   "outputs": [
    {
     "data": {
      "text/plain": [
       "{'tools_for_stress': <llama_index.core.indices.vector_store.base.VectorStoreIndex at 0x25a5bf3bf50>,\n",
       " 'setting_goals': <llama_index.core.indices.vector_store.base.VectorStoreIndex at 0x25a5bf801d0>,\n",
       " 'diet_nutrition': <llama_index.core.indices.vector_store.base.VectorStoreIndex at 0x25a5c7db050>}"
      ]
     },
     "execution_count": 4,
     "metadata": {},
     "output_type": "execute_result"
    }
   ],
   "source": [
    "podcast_vector_index"
   ]
  },
  {
   "cell_type": "code",
   "execution_count": 8,
   "metadata": {},
   "outputs": [],
   "source": [
    "from llama_index.core.postprocessor import KeywordNodePostprocessor\n",
    "from llama_index.core.retrievers import VectorIndexRetriever\n",
    "from llama_index.core.query_engine import RetrieverQueryEngine\n",
    "from llama_index.core.tools import QueryEngineTool, ToolMetadata\n",
    "\n",
    "\n",
    "node_processor = KeywordNodePostprocessor(\n",
    "    exclude_keywords=[\"supplements\", \"LMNT\", \"InsideTracker\", \"Helix\", \"ROKA\", \"Athletic Greens\", \"Thesis\", \"Eight Sleep\"]\n",
    ")\n",
    "\n",
    "query_engine_tools = []\n",
    "podcats_vector_engines = {}\n",
    "\n",
    "for podcast in podcast_titles:\n",
    "    retriever = VectorIndexRetriever(\n",
    "        index = podcast_vector_index[podcast.key],\n",
    "        similarity_top_k=3,\n",
    "    )\n",
    "\n",
    "    podcats_vector_engines[podcast.key] = RetrieverQueryEngine(\n",
    "        retriever = retriever,\n",
    "        node_postprocessors=[node_processor]\n",
    "    )\n",
    "\n",
    "    new_tool = QueryEngineTool(\n",
    "        query_engine=podcats_vector_engines[podcast.key],\n",
    "        metadata = ToolMetadata(\n",
    "            name=f\"{podcast.key}_vector_tool\",\n",
    "            description=f\"Useful for retrieving specific context from a podcast {podcast.name}. \"\n",
    "            f\"Use when you need information related to {podcast.about}.\",\n",
    "        )\n",
    "\n",
    "    )\n",
    "    query_engine_tools.append(new_tool)"
   ]
  },
  {
   "cell_type": "code",
   "execution_count": 9,
   "metadata": {},
   "outputs": [
    {
     "data": {
      "text/plain": [
       "[<llama_index.core.tools.query_engine.QueryEngineTool at 0x25a6252f410>,\n",
       " <llama_index.core.tools.query_engine.QueryEngineTool at 0x25a6251a990>,\n",
       " <llama_index.core.tools.query_engine.QueryEngineTool at 0x25a6251a790>]"
      ]
     },
     "execution_count": 9,
     "metadata": {},
     "output_type": "execute_result"
    }
   ],
   "source": [
    "query_engine_tools"
   ]
  },
  {
   "cell_type": "code",
   "execution_count": 16,
   "metadata": {},
   "outputs": [],
   "source": [
    "from llama_index.agent.openai import OpenAIAgent\n",
    "from llama_index.llms.openai import OpenAI\n",
    "\n",
    "agent = OpenAIAgent.from_tools(query_engine_tools, llm=OpenAI(temperature=0, model=\"gpt-3.5-turbo\"), verbose=True)"
   ]
  },
  {
   "cell_type": "code",
   "execution_count": 17,
   "metadata": {},
   "outputs": [],
   "source": [
    "openai.log = \"debug\""
   ]
  },
  {
   "cell_type": "code",
   "execution_count": 18,
   "metadata": {},
   "outputs": [
    {
     "name": "stdout",
     "output_type": "stream",
     "text": [
      "Added user message to memory: Tell me about Ketogenic diet\n",
      "INFO:httpx:HTTP Request: POST https://api.openai.com/v1/chat/completions \"HTTP/1.1 200 OK\"\n",
      "HTTP Request: POST https://api.openai.com/v1/chat/completions \"HTTP/1.1 200 OK\"\n",
      "=== Calling Function ===\n",
      "Calling function: diet_nutrition_vector_tool with args: {\"input\":\"Ketogenic diet\"}\n",
      "INFO:httpx:HTTP Request: POST https://api.openai.com/v1/embeddings \"HTTP/1.1 200 OK\"\n",
      "HTTP Request: POST https://api.openai.com/v1/embeddings \"HTTP/1.1 200 OK\"\n",
      "INFO:httpx:HTTP Request: POST https://api.openai.com/v1/chat/completions \"HTTP/1.1 200 OK\"\n",
      "HTTP Request: POST https://api.openai.com/v1/chat/completions \"HTTP/1.1 200 OK\"\n",
      "Got output: The ketogenic diet involves reducing carbohydrate intake and increasing the consumption of fats, which leads the body to enter a state of ketosis where it burns fat for energy. This diet has been shown to have various effects on metabolism, including lowering glucose levels, improving insulin signaling, and increasing mitochondrial biogenesis. Ketones produced during ketosis are essential for fueling the brain. While some individuals may benefit from a strict ketogenic diet, others may find it challenging to adhere to. In such cases, exogenous ketones in the form of supplements have been considered, but there is a lack of conclusive trial data on their effectiveness compared to the actual ketogenic diet.\n",
      "========================\n",
      "\n",
      "INFO:httpx:HTTP Request: POST https://api.openai.com/v1/chat/completions \"HTTP/1.1 200 OK\"\n",
      "HTTP Request: POST https://api.openai.com/v1/chat/completions \"HTTP/1.1 200 OK\"\n"
     ]
    }
   ],
   "source": [
    "response = agent.chat(\"Tell me about Ketogenic diet\")"
   ]
  },
  {
   "cell_type": "code",
   "execution_count": 20,
   "metadata": {},
   "outputs": [
    {
     "data": {
      "text/plain": [
       "[ToolOutput(content='The ketogenic diet involves reducing carbohydrate intake and increasing the consumption of fats, which leads the body to enter a state of ketosis where it burns fat for energy. This diet has been shown to have various effects on metabolism, including lowering glucose levels, improving insulin signaling, and increasing mitochondrial biogenesis. Ketones produced during ketosis are essential for fueling the brain. While some individuals may benefit from a strict ketogenic diet, others may find it challenging to adhere to. In such cases, exogenous ketones in the form of supplements have been considered, but there is a lack of conclusive trial data on their effectiveness compared to the actual ketogenic diet.', tool_name='diet_nutrition_vector_tool', raw_input={'input': 'Ketogenic diet'}, raw_output=Response(response='The ketogenic diet involves reducing carbohydrate intake and increasing the consumption of fats, which leads the body to enter a state of ketosis where it burns fat for energy. This diet has been shown to have various effects on metabolism, including lowering glucose levels, improving insulin signaling, and increasing mitochondrial biogenesis. Ketones produced during ketosis are essential for fueling the brain. While some individuals may benefit from a strict ketogenic diet, others may find it challenging to adhere to. In such cases, exogenous ketones in the form of supplements have been considered, but there is a lack of conclusive trial data on their effectiveness compared to the actual ketogenic diet.', source_nodes=[NodeWithScore(node=TextNode(id_='1fed4818-094e-4a5c-9fc7-24153c527ac8', embedding=None, metadata={'page_label': '42', 'file_name': '99_Dr_Chris_Palmer_Diet_&_Nutrition_for_Mental_Health_Huberman_Lab_Podcast_99.pdf'}, excluded_embed_metadata_keys=[], excluded_llm_metadata_keys=[], relationships={<NodeRelationship.SOURCE: '1'>: RelatedNodeInfo(node_id='2c2f7a05-58de-4837-8c7c-9152e81b1523', node_type=<ObjectType.DOCUMENT: '4'>, metadata={'page_label': '42', 'file_name': '99_Dr_Chris_Palmer_Diet_&_Nutrition_for_Mental_Health_Huberman_Lab_Podcast_99.pdf'}, hash='bdbeac40d40586abbd57fd594a7e0a56375b2b4fde4e1034017db948049fecc3')}, text=\"Transcribed by readthatpodcast.com  \\nanything special with the diet. So they're eating whatever they normally eat, absolutely \\nnonketogenic, giving them a ketone salt or ester, and then noticing immediate and direct \\nchanges in the metabolis m of these metabolically compromised brain cells as measured \\nby PET imaging. ANDREW HUBERMAN: These are not household pets, by the way. \\nSorry, I have -- we have to just -- P-E-T, positron emission tomography, not pets. \\nAlthough, I'm sure that there are peopl e out there who have their dogs, or cats, or \\nwhatever, or their pet kangaroos, whatever you might own, on ketogenic diet. OK. \\nCHRIS PALMER: Absolutely. So he's actually moved further. He's done a pilot trial in a \\nnursing home actually, where he did not put  the patients on a ketogenic diet. He simply \\nreduced carbohydrate consumption at breakfast and lunch. They still got the same \\ndinner as everyone else. And simply reducing carbohydrate consumption at breakfast \\nand lunch resulted in cognitive improvement in a statistically significant way in some of \\nthose subjects. ANDREW HUBERMAN: Oh, I love that result. I'm sorry, I just have to \\nhighlight this. I'm a huge believer in directing carbohydrates to specific portions of the \\nday when one needs to be less focused a nd alert and yet can replenish glycogen. \\nLimiting carbohydrates most of the time during the day, for me, has been a game \\nchanger in terms of maintaining alertness, et cetera. I'm not aware that I have age -\\nrelated cognitive decline. But then again, I would -- people around me may argue \\notherwise. CHRIS PALMER: Let me say, you are Andrew Huberman. There is no way \\nyou have [LAUGHS] cognitive impairment. ANDREW HUBERMAN: Although you didn't \\nknow me as a six -year-old-- CHRIS PALMER: If you have cognitive impairme nt, we're all \\nscrewed. ANDREW HUBERMAN: Well, I have plenty  \\n \\n02:01:05 Exogenous (Liquid) Ketones vs. Ketogenic Diet  \\n \\nof flaws and impairments -- well over 3,000 documented by people very close to me. But \\nthis is very interesting, I think, in the context of  everything we've been talking about \\nbecause could it be that supplementing with liquid ketones or prescribing liquid ketones \\nto people who are challenged with mood disorders -- or things of that sort -- could be \\nbeneficial, even if they are not willing or a ble to adhere to a ketogenic diet? CHRIS \\nPALMER: That is the million dollar question right now. And we don't have good trial data \\nto say yes or no. My speculation, my hunch, having tried that clinically with patients, is it \\ndoesn't seem to work. It's not t he same thing. The bigger reason for my feeling confident \\nin saying that is that we've had ketone salts and esters available for over a decade now.\", mimetype='text/plain', start_char_idx=0, end_char_idx=2740, text_template='{metadata_str}\\n\\n{content}', metadata_template='{key}: {value}', metadata_seperator='\\n'), score=0.8470384543119184), NodeWithScore(node=TextNode(id_='4ea3f44d-e4f3-4514-8d5e-80c9f64ebb59', embedding=None, metadata={'page_label': '43', 'file_name': '99_Dr_Chris_Palmer_Diet_&_Nutrition_for_Mental_Health_Huberman_Lab_Podcast_99.pdf'}, excluded_embed_metadata_keys=[], excluded_llm_metadata_keys=[], relationships={<NodeRelationship.SOURCE: '1'>: RelatedNodeInfo(node_id='aed28f77-b0a6-4689-add5-8a85bb56573c', node_type=<ObjectType.DOCUMENT: '4'>, metadata={'page_label': '43', 'file_name': '99_Dr_Chris_Palmer_Diet_&_Nutrition_for_Mental_Health_Huberman_Lab_Podcast_99.pdf'}, hash='19f91020edc0a9827c809c63f115a81f3b96a8941e7969c40a0ebda2f65b99cd')}, text=\"Transcribed by readthatpodcast.com  \\nWe have tens of thousands of children and adolescents who are following a strict, \\nridiculously strict, ketog enic diet to control their epilepsy. Those kids would love to be off \\nthe ketogenic diet. Their parents would love to have them off the ketogenic diet. \\nANDREW HUBERMAN: They had no birthday cake, no ice cream. CHRIS PALMER: \\nThere is not one case report of a ny child controlling his or her seizures using exogenous \\nketones without also doing the ketogenic diet. I just find it hard to believe that at least \\nsome of those people haven't tried it out to see. I do know some patients with bipolar \\ndisorder and even sc hizophrenia who are doing extraordinarily well on a ketogenic diet. \\nThey have tried to switch off the ketogenic diet using exogenous ketones. Their \\nsymptoms came back. And so they found that it just wasn't effective. Now, again, those \\nare anecdotes. My sci entific speculation about why is because the ketogenic diet is \\nactually not necessarily about ketones themselves. Ketones are one of a multifaceted \\nstory there. And so when people do a ketogenic diet, they're also improving -- they're \\nlowering glucose level s. They're improving insulin signaling. They're ramping up \\nmitochondrial biogenesis, in particular, in the liver because mitochondria actually make \\nketones. That's where they're made. And they're primarily made in the liver \\nmitochondria. So when somebody i s on in a fasting state or on a ketogenic diet, their \\nliver mitochondria go through the roof because they're being called to action. It's like, \\nhey, body's in starvation mode. Get to work. And so the mitochondria -- the cell senses \\nwe need more mitochondria  to process fat to turn it into ketones so that those ketones \\ncan get up to the brain and keep the brain fueled, because fatty acids can't fuel the \\nbrain. Only ketones can. Now, so my sense is that -- and the gut microbiome changes \\nand everything, the chang es in hormones -- so if you're eating a lot of donuts and \\ndrinking a bottle of ketones, the donuts are going to prevent your body from lowering \\nglucose levels. You're still going to have the high glucose levels from the donuts. You're \\nstill going to probabl y have the impaired insulin signaling. You're probably still going to \\npossibly have some inflammation from the inflammatory effects of that food. And so just \\ndrinking ketones alone won't be enough. I think for people who are metabolically healthy, \\nI'll inc lude you in that, I think ketones can play a really beneficial role, no doubt. I think \\nexogenous ketones may, in fact, proven valuable in clinical use for patients who maybe \\ncan't follow a super strict ketogenic diet but maybe could do a low carb diet. And  then \\ngiven the research that's happening with alcohol use disorder, I could imagine a \\nsituation -- here's the million dollar tip to whoever wants to go out and get this, if it \\nactually turns out to be true. I could imagine a scenario where we use exogenous\", mimetype='text/plain', start_char_idx=0, end_char_idx=3010, text_template='{metadata_str}\\n\\n{content}', metadata_template='{key}: {value}', metadata_seperator='\\n'), score=0.8421586697394364), NodeWithScore(node=TextNode(id_='fce3e3cf-59b4-4ee2-8ed4-b2d911022ef2', embedding=None, metadata={'page_label': '57', 'file_name': '99_Dr_Chris_Palmer_Diet_&_Nutrition_for_Mental_Health_Huberman_Lab_Podcast_99.pdf'}, excluded_embed_metadata_keys=[], excluded_llm_metadata_keys=[], relationships={<NodeRelationship.SOURCE: '1'>: RelatedNodeInfo(node_id='42d0ca51-ea21-43b7-9aef-cadf57b1ed58', node_type=<ObjectType.DOCUMENT: '4'>, metadata={'page_label': '57', 'file_name': '99_Dr_Chris_Palmer_Diet_&_Nutrition_for_Mental_Health_Huberman_Lab_Podcast_99.pdf'}, hash='1743675d74bb419025177aad31608675c0105614aae30f41f5d0b477ec42f8b2')}, text='Transcribed by readthatpodcast.com  \\nmore familiar to most people -- and then they\\'re on a low carbohydrate or full ketogenic \\ndiet, but their menstrual cycles cease. How do you deal with those adjustments? And I \\nguess we could expand this conversation and say, wha t about male fertility also? \\nBecause some caloric diets seem to -- my understanding is that submaintenance caloric \\ndiets, so weight loss diets, will improve testosterone -estrogen ratios in males that are \\nobese. But for someone that\\'s not obese, to go on a s ub-caloric diet, that it can start to \\nimpair testosterone levels and -- probably not render them infertile but certainly adjust \\nthat whole axis. So what about interactions between ketosis, diets, et cetera, and the \\nendocrine system? CHRIS PALMER: The real a nswer is, I don\\'t think anybody knows. \\nAnd there\\'s not a one -size-fits-all answer because I\\'ve seen examples. And I\\'m aware of \\nscience to back up polar opposite conclusions. So the first general observation that I\\'ll \\nmake -- I know so many couples, husbands  and wives, boyfriends and girlfriends, \\nheterosexual couples, who have tried the ketogenic diet to lose weight together -- \\nANDREW HUBERMAN: And end up with a baby? No, I\\'m just kidding. [LAUGHS] \\nCHRIS PALMER: No. Almost universally, the men have a much easi er time with it than \\nthe women. It\\'s not across the board. But I know so many examples where the women \\nsay I couldn\\'t tolerate that diet. It did not make me feel better. It actually made me feel \\nworse. And I think in those cases, it probably does relate to  hormones. I\\'m aware of \\nanimal models, of mice -- in particular, ketogenic diet in mouse models. One researcher \\nshared with me, the thing that was striking is that the female mice never got pregnant on \\nthe ketogenic diet. Whereas, the mice on the standard d iet were just having babies right \\nand left. And it was just shocking, the difference. On the surface, it makes sense. The \\nketogenic diet is mimicking the fasting state. Women who are trying to reproduce should \\nnot be fasting. If your body is in a fasting s tate, it probably does not want to expend \\nresources, metabolic resources, calories, nutrients, and other things, to creating a baby \\nbecause your very life is being threatened by, quote unquote, \"fasting\" or starvation. \\nThat even though the ketogenic diet i s a sustainable, nonstarvation diet, we\\'re really \\nusing that diet to trick the body into thinking that it is in a fasting or starvation state. And \\nso just from a kind of evolutionary stance, it makes sense that women\\'s bodies may \\nactually have significant changes in hormonal status to prevent pregnancy because a \\nwoman should not be having a baby when she\\'s starving to death. I know of examples of \\nwomen who are the opposite, though, who have benefited dramatically and \\ntremendously from the ketogenic diet, ha ve put schizophrenia, bipolar disorder into full \\nremission. And I do actually know of one case, at least one case. A woman, infertile, she', mimetype='text/plain', start_char_idx=0, end_char_idx=3012, text_template='{metadata_str}\\n\\n{content}', metadata_template='{key}: {value}', metadata_seperator='\\n'), score=0.837989593108773)], metadata={'1fed4818-094e-4a5c-9fc7-24153c527ac8': {'page_label': '42', 'file_name': '99_Dr_Chris_Palmer_Diet_&_Nutrition_for_Mental_Health_Huberman_Lab_Podcast_99.pdf'}, '4ea3f44d-e4f3-4514-8d5e-80c9f64ebb59': {'page_label': '43', 'file_name': '99_Dr_Chris_Palmer_Diet_&_Nutrition_for_Mental_Health_Huberman_Lab_Podcast_99.pdf'}, 'fce3e3cf-59b4-4ee2-8ed4-b2d911022ef2': {'page_label': '57', 'file_name': '99_Dr_Chris_Palmer_Diet_&_Nutrition_for_Mental_Health_Huberman_Lab_Podcast_99.pdf'}}), is_error=False)]"
      ]
     },
     "execution_count": 20,
     "metadata": {},
     "output_type": "execute_result"
    }
   ],
   "source": [
    "response.sources"
   ]
  },
  {
   "cell_type": "code",
   "execution_count": null,
   "metadata": {},
   "outputs": [],
   "source": []
  }
 ],
 "metadata": {
  "kernelspec": {
   "display_name": "Python 3 (ipykernel)",
   "language": "python",
   "name": "python3"
  },
  "language_info": {
   "codemirror_mode": {
    "name": "ipython",
    "version": 3
   },
   "file_extension": ".py",
   "mimetype": "text/x-python",
   "name": "python",
   "nbconvert_exporter": "python",
   "pygments_lexer": "ipython3",
   "version": "3.11.9"
  }
 },
 "nbformat": 4,
 "nbformat_minor": 4
}
