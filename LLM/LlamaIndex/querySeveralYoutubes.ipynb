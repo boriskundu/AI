{
 "cells": [
  {
   "cell_type": "code",
   "execution_count": 1,
   "metadata": {},
   "outputs": [],
   "source": [
    "import logging\n",
    "import sys\n",
    "\n",
    "logging.basicConfig(stream=sys.stdout, level=logging.INFO)\n",
    "logging.getLogger().addHandler(logging.StreamHandler(stream=sys.stdout))"
   ]
  },
  {
   "cell_type": "code",
   "execution_count": 2,
   "metadata": {},
   "outputs": [],
   "source": [
    "import nest_asyncio\n",
    "nest_asyncio.apply()"
   ]
  },
  {
   "cell_type": "code",
   "execution_count": 3,
   "metadata": {},
   "outputs": [],
   "source": [
    "import os\n",
    "os.environ['NUMEXPR_MAX_THREADS'] = '4'\n",
    "os.environ['NUMEXPR_NUM_THREADS'] = '2'\n",
    "import numexpr as ne "
   ]
  },
  {
   "cell_type": "code",
   "execution_count": 4,
   "metadata": {},
   "outputs": [],
   "source": [
    "import os\n",
    "os.environ[\"OPENAI_API_KEY\"] = \"your key\"\n",
    "import openai\n",
    "openai.api_key = \"your key\""
   ]
  },
  {
   "cell_type": "code",
   "execution_count": 13,
   "metadata": {},
   "outputs": [
    {
     "name": "stdout",
     "output_type": "stream",
     "text": [
      "Requirement already satisfied: llama-index-readers-youtube-transcript in c:\\users\\boris\\anaconda3\\envs\\llama_index\\lib\\site-packages (0.1.4)\n",
      "Requirement already satisfied: llama-index-core<0.11.0,>=0.10.1 in c:\\users\\boris\\anaconda3\\envs\\llama_index\\lib\\site-packages (from llama-index-readers-youtube-transcript) (0.10.48)\n",
      "Requirement already satisfied: youtube-transcript-api>=0.5.0 in c:\\users\\boris\\anaconda3\\envs\\llama_index\\lib\\site-packages (from llama-index-readers-youtube-transcript) (0.6.2)\n",
      "Requirement already satisfied: PyYAML>=6.0.1 in c:\\users\\boris\\anaconda3\\envs\\llama_index\\lib\\site-packages (from llama-index-core<0.11.0,>=0.10.1->llama-index-readers-youtube-transcript) (6.0.1)\n",
      "Requirement already satisfied: SQLAlchemy>=1.4.49 in c:\\users\\boris\\anaconda3\\envs\\llama_index\\lib\\site-packages (from SQLAlchemy[asyncio]>=1.4.49->llama-index-core<0.11.0,>=0.10.1->llama-index-readers-youtube-transcript) (2.0.31)\n",
      "Requirement already satisfied: aiohttp<4.0.0,>=3.8.6 in c:\\users\\boris\\anaconda3\\envs\\llama_index\\lib\\site-packages (from llama-index-core<0.11.0,>=0.10.1->llama-index-readers-youtube-transcript) (3.9.5)\n",
      "Requirement already satisfied: dataclasses-json in c:\\users\\boris\\anaconda3\\envs\\llama_index\\lib\\site-packages (from llama-index-core<0.11.0,>=0.10.1->llama-index-readers-youtube-transcript) (0.6.7)\n",
      "Requirement already satisfied: deprecated>=1.2.9.3 in c:\\users\\boris\\anaconda3\\envs\\llama_index\\lib\\site-packages (from llama-index-core<0.11.0,>=0.10.1->llama-index-readers-youtube-transcript) (1.2.14)\n",
      "Requirement already satisfied: dirtyjson<2.0.0,>=1.0.8 in c:\\users\\boris\\anaconda3\\envs\\llama_index\\lib\\site-packages (from llama-index-core<0.11.0,>=0.10.1->llama-index-readers-youtube-transcript) (1.0.8)\n",
      "Requirement already satisfied: fsspec>=2023.5.0 in c:\\users\\boris\\anaconda3\\envs\\llama_index\\lib\\site-packages (from llama-index-core<0.11.0,>=0.10.1->llama-index-readers-youtube-transcript) (2024.6.0)\n",
      "Requirement already satisfied: httpx in c:\\users\\boris\\anaconda3\\envs\\llama_index\\lib\\site-packages (from llama-index-core<0.11.0,>=0.10.1->llama-index-readers-youtube-transcript) (0.27.0)\n",
      "Requirement already satisfied: llamaindex-py-client<0.2.0,>=0.1.18 in c:\\users\\boris\\anaconda3\\envs\\llama_index\\lib\\site-packages (from llama-index-core<0.11.0,>=0.10.1->llama-index-readers-youtube-transcript) (0.1.19)\n",
      "Requirement already satisfied: nest-asyncio<2.0.0,>=1.5.8 in c:\\users\\boris\\anaconda3\\envs\\llama_index\\lib\\site-packages (from llama-index-core<0.11.0,>=0.10.1->llama-index-readers-youtube-transcript) (1.6.0)\n",
      "Requirement already satisfied: networkx>=3.0 in c:\\users\\boris\\anaconda3\\envs\\llama_index\\lib\\site-packages (from llama-index-core<0.11.0,>=0.10.1->llama-index-readers-youtube-transcript) (3.3)\n",
      "Requirement already satisfied: nltk<4.0.0,>=3.8.1 in c:\\users\\boris\\anaconda3\\envs\\llama_index\\lib\\site-packages (from llama-index-core<0.11.0,>=0.10.1->llama-index-readers-youtube-transcript) (3.8.1)\n",
      "Requirement already satisfied: numpy<2.0.0 in c:\\users\\boris\\anaconda3\\envs\\llama_index\\lib\\site-packages (from llama-index-core<0.11.0,>=0.10.1->llama-index-readers-youtube-transcript) (1.26.4)\n",
      "Requirement already satisfied: openai>=1.1.0 in c:\\users\\boris\\anaconda3\\envs\\llama_index\\lib\\site-packages (from llama-index-core<0.11.0,>=0.10.1->llama-index-readers-youtube-transcript) (1.35.3)\n",
      "Requirement already satisfied: pandas in c:\\users\\boris\\anaconda3\\envs\\llama_index\\lib\\site-packages (from llama-index-core<0.11.0,>=0.10.1->llama-index-readers-youtube-transcript) (2.2.2)\n",
      "Requirement already satisfied: pillow>=9.0.0 in c:\\users\\boris\\anaconda3\\envs\\llama_index\\lib\\site-packages (from llama-index-core<0.11.0,>=0.10.1->llama-index-readers-youtube-transcript) (10.3.0)\n",
      "Requirement already satisfied: requests>=2.31.0 in c:\\users\\boris\\anaconda3\\envs\\llama_index\\lib\\site-packages (from llama-index-core<0.11.0,>=0.10.1->llama-index-readers-youtube-transcript) (2.32.2)\n",
      "Requirement already satisfied: tenacity!=8.4.0,<9.0.0,>=8.2.0 in c:\\users\\boris\\anaconda3\\envs\\llama_index\\lib\\site-packages (from llama-index-core<0.11.0,>=0.10.1->llama-index-readers-youtube-transcript) (8.4.1)\n",
      "Requirement already satisfied: tiktoken>=0.3.3 in c:\\users\\boris\\anaconda3\\envs\\llama_index\\lib\\site-packages (from llama-index-core<0.11.0,>=0.10.1->llama-index-readers-youtube-transcript) (0.7.0)\n",
      "Requirement already satisfied: tqdm<5.0.0,>=4.66.1 in c:\\users\\boris\\anaconda3\\envs\\llama_index\\lib\\site-packages (from llama-index-core<0.11.0,>=0.10.1->llama-index-readers-youtube-transcript) (4.66.4)\n",
      "Requirement already satisfied: typing-extensions>=4.5.0 in c:\\users\\boris\\anaconda3\\envs\\llama_index\\lib\\site-packages (from llama-index-core<0.11.0,>=0.10.1->llama-index-readers-youtube-transcript) (4.11.0)\n",
      "Requirement already satisfied: typing-inspect>=0.8.0 in c:\\users\\boris\\anaconda3\\envs\\llama_index\\lib\\site-packages (from llama-index-core<0.11.0,>=0.10.1->llama-index-readers-youtube-transcript) (0.9.0)\n",
      "Requirement already satisfied: wrapt in c:\\users\\boris\\anaconda3\\envs\\llama_index\\lib\\site-packages (from llama-index-core<0.11.0,>=0.10.1->llama-index-readers-youtube-transcript) (1.16.0)\n",
      "Requirement already satisfied: aiosignal>=1.1.2 in c:\\users\\boris\\anaconda3\\envs\\llama_index\\lib\\site-packages (from aiohttp<4.0.0,>=3.8.6->llama-index-core<0.11.0,>=0.10.1->llama-index-readers-youtube-transcript) (1.3.1)\n",
      "Requirement already satisfied: attrs>=17.3.0 in c:\\users\\boris\\anaconda3\\envs\\llama_index\\lib\\site-packages (from aiohttp<4.0.0,>=3.8.6->llama-index-core<0.11.0,>=0.10.1->llama-index-readers-youtube-transcript) (23.1.0)\n",
      "Requirement already satisfied: frozenlist>=1.1.1 in c:\\users\\boris\\anaconda3\\envs\\llama_index\\lib\\site-packages (from aiohttp<4.0.0,>=3.8.6->llama-index-core<0.11.0,>=0.10.1->llama-index-readers-youtube-transcript) (1.4.1)\n",
      "Requirement already satisfied: multidict<7.0,>=4.5 in c:\\users\\boris\\anaconda3\\envs\\llama_index\\lib\\site-packages (from aiohttp<4.0.0,>=3.8.6->llama-index-core<0.11.0,>=0.10.1->llama-index-readers-youtube-transcript) (6.0.5)\n",
      "Requirement already satisfied: yarl<2.0,>=1.0 in c:\\users\\boris\\anaconda3\\envs\\llama_index\\lib\\site-packages (from aiohttp<4.0.0,>=3.8.6->llama-index-core<0.11.0,>=0.10.1->llama-index-readers-youtube-transcript) (1.9.4)\n",
      "Requirement already satisfied: pydantic>=1.10 in c:\\users\\boris\\anaconda3\\envs\\llama_index\\lib\\site-packages (from llamaindex-py-client<0.2.0,>=0.1.18->llama-index-core<0.11.0,>=0.10.1->llama-index-readers-youtube-transcript) (2.7.4)\n",
      "Requirement already satisfied: anyio in c:\\users\\boris\\anaconda3\\envs\\llama_index\\lib\\site-packages (from httpx->llama-index-core<0.11.0,>=0.10.1->llama-index-readers-youtube-transcript) (4.2.0)\n",
      "Requirement already satisfied: certifi in c:\\users\\boris\\appdata\\roaming\\python\\python311\\site-packages (from httpx->llama-index-core<0.11.0,>=0.10.1->llama-index-readers-youtube-transcript) (2024.2.2)\n",
      "Requirement already satisfied: httpcore==1.* in c:\\users\\boris\\anaconda3\\envs\\llama_index\\lib\\site-packages (from httpx->llama-index-core<0.11.0,>=0.10.1->llama-index-readers-youtube-transcript) (1.0.5)\n",
      "Requirement already satisfied: idna in c:\\users\\boris\\anaconda3\\envs\\llama_index\\lib\\site-packages (from httpx->llama-index-core<0.11.0,>=0.10.1->llama-index-readers-youtube-transcript) (3.7)\n",
      "Requirement already satisfied: sniffio in c:\\users\\boris\\anaconda3\\envs\\llama_index\\lib\\site-packages (from httpx->llama-index-core<0.11.0,>=0.10.1->llama-index-readers-youtube-transcript) (1.3.0)\n",
      "Requirement already satisfied: h11<0.15,>=0.13 in c:\\users\\boris\\anaconda3\\envs\\llama_index\\lib\\site-packages (from httpcore==1.*->httpx->llama-index-core<0.11.0,>=0.10.1->llama-index-readers-youtube-transcript) (0.14.0)\n",
      "Requirement already satisfied: click in c:\\users\\boris\\anaconda3\\envs\\llama_index\\lib\\site-packages (from nltk<4.0.0,>=3.8.1->llama-index-core<0.11.0,>=0.10.1->llama-index-readers-youtube-transcript) (8.1.7)\n",
      "Requirement already satisfied: joblib in c:\\users\\boris\\anaconda3\\envs\\llama_index\\lib\\site-packages (from nltk<4.0.0,>=3.8.1->llama-index-core<0.11.0,>=0.10.1->llama-index-readers-youtube-transcript) (1.4.2)\n",
      "Requirement already satisfied: regex>=2021.8.3 in c:\\users\\boris\\anaconda3\\envs\\llama_index\\lib\\site-packages (from nltk<4.0.0,>=3.8.1->llama-index-core<0.11.0,>=0.10.1->llama-index-readers-youtube-transcript) (2024.5.15)\n",
      "Requirement already satisfied: distro<2,>=1.7.0 in c:\\users\\boris\\anaconda3\\envs\\llama_index\\lib\\site-packages (from openai>=1.1.0->llama-index-core<0.11.0,>=0.10.1->llama-index-readers-youtube-transcript) (1.9.0)\n",
      "Requirement already satisfied: charset-normalizer<4,>=2 in c:\\users\\boris\\anaconda3\\envs\\llama_index\\lib\\site-packages (from requests>=2.31.0->llama-index-core<0.11.0,>=0.10.1->llama-index-readers-youtube-transcript) (2.0.4)\n",
      "Requirement already satisfied: urllib3<3,>=1.21.1 in c:\\users\\boris\\anaconda3\\envs\\llama_index\\lib\\site-packages (from requests>=2.31.0->llama-index-core<0.11.0,>=0.10.1->llama-index-readers-youtube-transcript) (2.2.2)\n",
      "Requirement already satisfied: greenlet!=0.4.17 in c:\\users\\boris\\anaconda3\\envs\\llama_index\\lib\\site-packages (from SQLAlchemy>=1.4.49->SQLAlchemy[asyncio]>=1.4.49->llama-index-core<0.11.0,>=0.10.1->llama-index-readers-youtube-transcript) (3.0.3)\n",
      "Requirement already satisfied: colorama in c:\\users\\boris\\anaconda3\\envs\\llama_index\\lib\\site-packages (from tqdm<5.0.0,>=4.66.1->llama-index-core<0.11.0,>=0.10.1->llama-index-readers-youtube-transcript) (0.4.6)\n",
      "Requirement already satisfied: mypy-extensions>=0.3.0 in c:\\users\\boris\\anaconda3\\envs\\llama_index\\lib\\site-packages (from typing-inspect>=0.8.0->llama-index-core<0.11.0,>=0.10.1->llama-index-readers-youtube-transcript) (1.0.0)\n",
      "Requirement already satisfied: marshmallow<4.0.0,>=3.18.0 in c:\\users\\boris\\anaconda3\\envs\\llama_index\\lib\\site-packages (from dataclasses-json->llama-index-core<0.11.0,>=0.10.1->llama-index-readers-youtube-transcript) (3.21.3)\n",
      "Requirement already satisfied: python-dateutil>=2.8.2 in c:\\users\\boris\\anaconda3\\envs\\llama_index\\lib\\site-packages (from pandas->llama-index-core<0.11.0,>=0.10.1->llama-index-readers-youtube-transcript) (2.9.0.post0)\n",
      "Requirement already satisfied: pytz>=2020.1 in c:\\users\\boris\\anaconda3\\envs\\llama_index\\lib\\site-packages (from pandas->llama-index-core<0.11.0,>=0.10.1->llama-index-readers-youtube-transcript) (2024.1)\n",
      "Requirement already satisfied: tzdata>=2022.7 in c:\\users\\boris\\anaconda3\\envs\\llama_index\\lib\\site-packages (from pandas->llama-index-core<0.11.0,>=0.10.1->llama-index-readers-youtube-transcript) (2023.3)\n",
      "Requirement already satisfied: packaging>=17.0 in c:\\users\\boris\\anaconda3\\envs\\llama_index\\lib\\site-packages (from marshmallow<4.0.0,>=3.18.0->dataclasses-json->llama-index-core<0.11.0,>=0.10.1->llama-index-readers-youtube-transcript) (23.2)\n",
      "Requirement already satisfied: annotated-types>=0.4.0 in c:\\users\\boris\\anaconda3\\envs\\llama_index\\lib\\site-packages (from pydantic>=1.10->llamaindex-py-client<0.2.0,>=0.1.18->llama-index-core<0.11.0,>=0.10.1->llama-index-readers-youtube-transcript) (0.7.0)\n",
      "Requirement already satisfied: pydantic-core==2.18.4 in c:\\users\\boris\\anaconda3\\envs\\llama_index\\lib\\site-packages (from pydantic>=1.10->llamaindex-py-client<0.2.0,>=0.1.18->llama-index-core<0.11.0,>=0.10.1->llama-index-readers-youtube-transcript) (2.18.4)\n",
      "Requirement already satisfied: six>=1.5 in c:\\users\\boris\\anaconda3\\envs\\llama_index\\lib\\site-packages (from python-dateutil>=2.8.2->pandas->llama-index-core<0.11.0,>=0.10.1->llama-index-readers-youtube-transcript) (1.16.0)\n"
     ]
    }
   ],
   "source": [
    "#!pip install llama-index-readers-youtube-transcript"
   ]
  },
  {
   "cell_type": "code",
   "execution_count": 6,
   "metadata": {},
   "outputs": [
    {
     "name": "stdout",
     "output_type": "stream",
     "text": [
      "Collecting youtube_transcript_api\n",
      "  Downloading youtube_transcript_api-0.6.2-py3-none-any.whl.metadata (15 kB)\n",
      "Requirement already satisfied: requests in c:\\users\\boris\\anaconda3\\envs\\llama_index\\lib\\site-packages (from youtube_transcript_api) (2.32.2)\n",
      "Requirement already satisfied: charset-normalizer<4,>=2 in c:\\users\\boris\\anaconda3\\envs\\llama_index\\lib\\site-packages (from requests->youtube_transcript_api) (2.0.4)\n",
      "Requirement already satisfied: idna<4,>=2.5 in c:\\users\\boris\\anaconda3\\envs\\llama_index\\lib\\site-packages (from requests->youtube_transcript_api) (3.7)\n",
      "Requirement already satisfied: urllib3<3,>=1.21.1 in c:\\users\\boris\\anaconda3\\envs\\llama_index\\lib\\site-packages (from requests->youtube_transcript_api) (2.2.2)\n",
      "Requirement already satisfied: certifi>=2017.4.17 in c:\\users\\boris\\appdata\\roaming\\python\\python311\\site-packages (from requests->youtube_transcript_api) (2024.2.2)\n",
      "Downloading youtube_transcript_api-0.6.2-py3-none-any.whl (24 kB)\n",
      "Installing collected packages: youtube_transcript_api\n",
      "Successfully installed youtube_transcript_api-0.6.2\n"
     ]
    }
   ],
   "source": [
    "#!pip install youtube_transcript_api"
   ]
  },
  {
   "cell_type": "code",
   "execution_count": 14,
   "metadata": {},
   "outputs": [
    {
     "name": "stdout",
     "output_type": "stream",
     "text": [
      "[Document(id_='jITPOcBQQW8', embedding=None, metadata={'video_id': 'jITPOcBQQW8'}, excluded_embed_metadata_keys=[], excluded_llm_metadata_keys=[], relationships={}, text=\"[Music]\\nwhat is a savannah cat a savannah cat is\\na domestic cat breed that has a percent\\nof african cerval wild blood\\nthey are known to love water swimming\\nrunning in the shower with you\\nbeing extremely affectionate and bonded\\nto their owners while still maintaining\\nthe independence of a cat\\nthey still use the litter box and lower\\ngeneration savannahs can eat high\\nquality regular cat food\\nthey're known for extreme intelligence\\nconstant purring\\ntheir high energy playing fetch and\\nbeing easily trainable for commands\\nthese savannah cat qualities are more\\nprevalent in the highest generations as\\nthey have the most african circle of\\nblood\\nthe attraction to the savannah cat breed\\ncomes from their dog-like personality\\nand beautiful aesthetic\\nthey are highly intelligent and can be\\ntaught tricks just as a dog\\nand the word no savannah cats can be\\nwalked on a harness\\nall while retaining the independence of\\na cat as adults they're not as reliant\\non their owners\\nespecially in pairs first generation\\nsavannahs can grow up to 40 pounds and 4\\nfeet tall on their hind legs\\nif raised right f1 savannah cats love to\\nfollow their human around\\nand land bed with their owner they are\\ncuddle bugs\\nand vocal often times they love to swim\\nif introduced at a young age\\nthey are extremely affectionate and have\\nhuge paws that can pull inward to give\\nincredible hugs\\nthey will follow you in the shower and\\nin the tub all our savannah cats and\\nkittens are raised in-home\\nin bed with access to an outdoor\\nenclosed area\\nthey love to sunbathe and play fetch\\nthey love to give\\nheadbutts kisses and licks as a sign of\\ntheir love savannah cats have a way of\\ncompletely imprinting on their new human\\nin the first few days\\nwhat's the difference between f1 f2 and\\nlower generation savannah kittens\\nthe qualities defining the breed are all\\nmore true in higher generations\\nthe higher generation the savannah the\\nmore wild in appearance\\nthe clearer of a coat that more\\nresembles that of a serval the bigger\\nears\\noverall size weight and height why not\\njust own a serval as a pet\\nwhile servals can be awesome pets if\\nbred and raised correctly\\nthey are unfortunately illegal in most\\nstates to keep as a pet\\nhow much do real f1 savannah kittens\\ncost\\ndepending on their assessment real deal\\nf1 savannah go from fifteen thousand to\\ntwenty thousand dollars\\nwhat is phase two phase two is something\\nimplemented by responsible breeders who\\ncare if their f1 will be pet quality or\\ncomplete nightmare for their new owners\\nit's the method in which responsible\\nbreeders domesticate their f1s fully\\nwhat kind of diet do f1 savannah cats\\neat f1s require a raw diet mostly\\ncontaining raw chicken and some raw\\nground beef\\nthey are not fed any raw meat with bones\\nuntil one year of age\\nthere are some specific canned foods\\navailable such as supreme to supplement\\ntheir diet\\nhow do you raise them do they do well\\nwith dogs\\nall our kittens are raised in our homes\\nby our staff of over 20 caretakers and\\ndogs\\nwe do not cage our breeding animals\\ntheir entire lives\\nwe have regular swim days and walking\\ntrails with our bigger cats\\nsavannah cats can love dogs as if they\\nwere one of their own\\nwhat does f1 savannah kitten stand for\\nwe are against all unethical breeders\\nbreeders that use these cats as a cash\\ngrab\\nthat put them in tiny cages and never\\nallow them a fulfilling life\\nwe are against the savannah cat cult\\nculture as we describe it\\nthe unfortunate truth about savannah\\ncats is 90 of the websites are complete\\nscams\\nof the 10 of real breeders only 2 are\\ndecent humans\\nas nice as that may sound we have seen\\nhow they treat every deal as a contract\\nthey sell kittens that haven't passed\\nphase 2 and unfortunately due to the\\nstress and unprepared owners these\\nkittens never truly become pets\\nthey leave the kittens in the cage with\\nthe mom and don't properly raise them\\nwith enough love to live up to breed\\nstandards\\nour end goal is to overtake a corrupted\\nindustry that benefits on the work of\\nanimals by installing only ethical\\nbreeders\\nthen putting the profit all back into\\nthe sanctuary for all cats alike\\nwe appreciate all the love these kittens\\ngive us and would like to put it all\\nforward into changing that for positive\\n[Music]\\n[Music]\\n[Music]\\n[Music]\\ndo\\n[Music]\\n[Music]\\nso\\n[Music]\\n[Music]\\n[Applause]\\n[Music]\\nyou\", mimetype='text/plain', start_char_idx=None, end_char_idx=None, text_template='{metadata_str}\\n\\n{content}', metadata_template='{key}: {value}', metadata_seperator='\\n'), Document(id_='xFfnJhZeL_Y', embedding=None, metadata={'video_id': 'xFfnJhZeL_Y'}, excluded_embed_metadata_keys=[], excluded_llm_metadata_keys=[], relationships={}, text=\"This video is sponsored by Cuckoo.\\nIs a Ragdoll Cat right for you?\\nYou may be convinced by its beauty\\xa0\\xa0\\nor have heard that a ragdoll\\xa0\\ncat has a sweet personality.\\nI am the Cat Butler and I have had my two Ragdoll\\xa0\\ncats Teemo and Arya for over 2 and half years.\\nSo before you run off getting a ragdoll,\\xa0\\xa0\\nI will share with you the pros\\xa0\\nand cons of owning a Ragdoll.\\nSo you understand what you\\xa0\\nare getting yourself into.\\nBefore we begin you may notice that Teemo\\xa0\\nand Arya have parts of their legs shaved.\\nThey recently had a teeth cleaning\\xa0\\nand the vet shaved their legs to\\xa0\\xa0\\nmake it easier to administer the anesthesia. \\nTeeemoo\\nOh you are ready to home already huh\\nI will go over their\\xa0\\nexperience in the next video. \\nGetting a ragdoll cat is\\xa0\\nlike getting a best friend. \\nThey want to do everything with you. \\nWhether it is doing the laundry, going to the\\xa0\\nbathroom, or even when I water my plants. \\nArya, what are you looking for?\\nTeemo and Arya want to spend\\xa0\\nevery moment with me. \\nOn the days I leave for work,\\xa0\\nmy cats wait at the window. \\nHow nice of you Teemo and\\xa0\\nArya to welcome me home.   \\nWere you waiting long?\\nLike a fluffy cloud watching your every move,\\xa0\\xa0\\nragdoll cats will follow you around the house and\\xa0\\ndemand a cuddle session when they feel lonely. \\nTeemo likes to let me know when\\xa0\\nit’s time to give him a hug. \\nBecause of their long hair, ragdoll cats\\xa0\\nhave a tendency to get poop stuck on their\\xa0\\xa0\\nfur compared to short hair cats.  \\nThe long hair just gets too long\\xa0\\xa0\\nand the poop just lands on their fur. \\nIf you are not able to clean the poop early on you\\xa0\\xa0\\ncan walk home to poop stains all over the house.\\nAnd then have to bathe your cat without\\xa0\\xa0\\ngetting scratched to death.  \\nDon’t worry there are some preventative\\xa0\\xa0\\nsteps you can take to reduce the chance\\xa0\\nof having poop stuck on your cat’s fur. \\nYou can give your ragdoll cat a\\xa0\\nsanitary haircut every month. \\nA sanitary haircut shaves away\\xa0\\nthe fur around your cat’s anus. \\nShaving the fur helps them stay\\xa0\\ncleaner and reduces the chance\\xa0\\xa0\\npoop will get stuck on their fur.  \\nUsing a pet clipper is the fastest and\\xa0\\xa0\\nsafest at getting the job done. \\nPet clippers are designed to work\\xa0\\xa0\\nlonger without overheating and have\\xa0\\nspecific blades designed for pet hair. \\nWhenever possible, it’s always preferable\\xa0\\nto use pet clippers over human clippers.\\nTeemo do you like your butt trim?\\nI guess not. \\nAnother way to reduce poop on their\\xa0\\nfur is by getting a bigger litter box.\\nI noticed with other cats that sometimes\\xa0\\nwhen they are trying to turn around in a\\xa0\\xa0\\nsmaller litter box, leftover poop may\\xa0\\nrub against the walls of the litter box\\xa0\\xa0\\nand as a result get stuck in their fur.\\nA bigger litter box would prevent this. \\nMost cats do not like being held,\\xa0\\nbut for ragdolls it's a genetic trait\\xa0\\xa0\\nthat they simply go limp when they\\xa0\\nare cradled in your loving arms. \\nKnown as floppy cats they don’t mind being carried\\xa0\\naround or held like you would an actual ragdoll.\\nThis is one of the reasons\\xa0\\nwhy I got Teemo and Arya. \\nThe thought of holding these two\\xa0\\nfluffballs was a big positive. \\nOn average Teemo and Arya could be held\\xa0\\nup to 2 minutes comfortably in my arms. \\nOther ragdoll cats could be longer. \\nTheir mother Olivia can be held forever. \\nIsn’t she beautiful?\\nAs a long hair cat breed, expect a decent amount of shedding from a\\xa0ragdoll cat compared to a short-hair cat breed.\\nTeemo and Arya leave me many\\xa0\\npresents throughout the day. \\nSome hair on the sofa, my plants, my\\xa0\\nclothes, and even hair floating in the air. \\nExpect to vacuum and clean your home\\xa0\\nquite often to keep the hair down. \\nI have found an air purifier very helpful\\xa0\\nin catching hair or dust floating in the air\\xa0\\xa0\\nand also great at eliminating allergens.\\nYou will be surprised that I was\\xa0\\nactually allergic to my cats. \\nPrior to getting them I never had\\xa0\\nan allergic reaction to cats. \\nSo it was a shock 1 month after getting\\xa0\\nTeemo and Arya I could barely breathe due\\xa0\\xa0\\nto all the pet dander floating in the air. \\nAllergies can develop at any time and it’s\\xa0\\xa0\\nnot always clear why some people develop allergies\\xa0\\nlater in life when they didn't have them before. \\nLuckily an air purifier was the solution\\xa0\\nthat I needed to eliminate my pet allergy. \\nOur sponsor Cuckoo offers a H13 True HEPA\\xa0\\nair purifier that has a 5 stage filtration\\xa0\\xa0\\nthat keeps the air in your home clean. \\nThere is a pre filter, allergen filter,\\xa0\\xa0\\nH13 True HEPA air filter, activated\\xa0\\ncarbon filter, and UV-C light. \\nWorking together these filters\\xa0\\neliminate 99.97% of harmful airborne\\xa0\\xa0\\nparticles as small as 0.1 microns in size.\\nI tested the air purifier for over 2 months in\\xa0\\xa0\\nthe living room and it did a good job at keeping\\xa0\\nmy allergies in check while reducing the amount\\xa0\\xa0\\nof dust I found when I cleaned the room. \\nIt is ideal for medium to large rooms. \\nSo if you have allergies or like to\\xa0\\nreduce the amount of dust in the air,\\xa0\\xa0\\nCuckoo offers a solution.\\nYou can find the link to\\xa0\\xa0\\nthis model in the description below,\\xa0\\nuse promo code CATBUTLER20 to get 20%\\xa0\\xa0\\noff the Cuckoo Air Purifier (CAC-K1910FW).\\nUsing my link will help support the channel. \\nIt helps me continue to provide\\xa0\\neducational cat content for my viewers.\\nAnd if you want to learn more about\\xa0\\nhow an air purifier works I will link\\xa0\\xa0\\nthe video in the description below. \\nRagdoll cats have a friendly personality\\xa0\\xa0\\nand make great pets for families\\xa0\\nwith children and other pets.\\nThis gentle and easy going\\xa0\\nnature comes genetically as\\xa0\\xa0\\nRagdolls were bred to be docile companions.\\nAs a result they are not prone to aggression and\\xa0\\xa0\\nvery tolerant with people and other animals. \\nThis is a breed that bonds with its new family\\xa0\\xa0\\nmembers and forms a long-lasting\\xa0\\nrelationship with them very quickly.\\nOf course, every cat is an individual,\\xa0\\nand some may do better than others.\\nIn my experience Teemo and Arya have been\\xa0\\ngreat with guests, dogs, and even the vet. \\nIf you are respectful with them they will\\xa0\\nnever aggressively attack or bite you. \\nTeemo just wants to be friends with everyone. \\nIs that right Teemo?\\nSome people may not like a chatty cat.\\nRagdoll cats can be quite vocal and\\xa0\\xa0\\ntalkative without being annoying. \\nThis is what it sounds like. \\nYour ragdoll cats are vocal because\\xa0\\nthey want to communicate with you. \\nThey are trying to tell you something. \\nHere are the following reasons:\\xa0\\xa0\\nthey are hungry, want attention, are in\\xa0\\na playful mood, scared, or are in pain. \\nSo take time to listen closely. \\nTeemo and Arya are pretty vocal kitties. \\nThey were like this when they were kittens. \\nWhenever I am not in the same room, Arya will\\xa0\\nstart meowing to let me know I forgot about her. \\nShe always wants to be by my side at all times. \\nShe even meows when I spend too much\\xa0\\xa0\\nalone time with Teemo. \\nI think she is jealous.\\nOn the other hand Teemo likes to talk\\xa0\\nwith me frequently throughout the day. \\nWhether he wants to be held,\\nget some pets,\\nlet me know it's meal time, or\\xa0\\nwhen he wants to go outside. \\nSo be prepared for some kitty talk in the house. \\nIf you are looking for a lap cat,\\xa0\\xa0\\na ragdoll cat is meant for you. \\nTheir obedient and loving nature means they are an\\xa0\\xa0\\nideal lap-cat and a perfect companion for owners.\\nArya just loves to sit on my lap.\\nSometimes she falls asleep\\xa0\\nand purrs in her sleep.\\nUnfortunately Ragdoll Cats are prone to obesity.\\nTeemo can be such a couch potato. \\nThey aren’t the most active breed and\\xa0\\neat quite a bit due to their large size.\\nObese cats are at risk of\\xa0\\ndeveloping life threatening diseases\\xa0\\xa0\\nsuch as diabetes and heart disease. \\nSo how do you prevent obesity?\\nYou can manage their weight by feeding them\\xa0\\na healthy diet with the right portions.\\nOne that is high in protein\\xa0\\nand low in carbohydrates.\\nA high quality wet food or\\xa0\\nraw meat diet will work. \\nYou can also give your cat more\\xa0\\nexercise by playing with your cat.\\nI have found those tips to\\xa0\\nwork for Teemo and Arya.\\nThey are both a decent weight.  \\nRagdoll cats are quite intelligent. \\nThey are intuitive when it\\xa0\\ncomes to showing affection,\\xa0\\xa0\\ncompanionship, and articulating their needs. \\nTeemo and Arya seem to know when I am having a\\xa0\\xa0\\nbad day, and come over to give me a hug. \\nThis usually entails hugging my leg. \\nThey also can be trained to\\xa0\\nplay fetch,\\nchase a train\\nor even ring a bell. \\nOut of my two cats,\\xa0\\xa0\\nArya is the more intelligent one. \\nShe picks up everything so quickly. \\nI wonder if I can teach her how to play soccer?\\nHypertrophic cardiomyopathy or HCM is the\\xa0\\nmost common cardiac disease in cats. \\nAffected cats are at risk of sudden\\xa0\\ncardiac death due to defects in the heart.\\nThe heart walls thicken, thereby decreasing\\xa0\\nthe heart’s efficiency and causing symptoms\\xa0\\xa0\\nin other parts of the body. \\nIn Ragdoll cats the condition is\\xa0\\xa0\\ninherited due to breed specific mutations. \\nThe HCM mutation increases the likelihood of\\xa0\\xa0\\na cat having hypertrophic cardiomyopathy. \\nTo reduce the chances of having HCM, reputable\\xa0\\xa0\\nbreeders test for the HCM mutation and remove\\xa0\\ncats positive with HCM from the breeding pool. \\nSo make sure you get your ragdoll\\xa0\\nkitten from a reputable breeder. \\nRagdolls are one of the most\\xa0\\naffectionate cat breeds. \\nThey love to cuddle and be\\xa0\\nclose to their humans. \\nFor some people they may not\\xa0\\nlike this clingy behavior. \\nThey may not want a cat that sits on their lap\\xa0\\nor a cat to greet them when they come home,\\xa0\\xa0\\nbut may prefer a cat that is more independent.  \\nSo if you are the latter, a Ragdoll cat\\xa0\\xa0\\nmay not be what you are looking for. \\nDid any of the pros or cons change your decision?\\nOverall owning a ragdoll has been one\\xa0\\nof the best decisions in my life.\\nI now have two best friends\\xa0\\nthat are always there for me.\\nI have never been happier. \\nSo consider getting a ragdoll cat. \\nIf you need a solution to\\xa0\\nyour pet or dust allergies,\\xa0\\xa0\\nyou can check out Cuckoo air\\xa0\\npurifiers with my link below. \\nUse promo code CATBUTLER20 to get\\xa0\\n20% off the Cuckoo Air Purifier.\\nIf you thought this video was\\xa0\\nhelpful please consider subscribing\\xa0\\xa0\\nand hitting that notification bell.\\nWe make videos on helping you become\\xa0\\xa0\\nthe best cat owner.\\nSo please join us!\\nComment down below what is your\\xa0\\nexperience with your Ragdoll cat. \", mimetype='text/plain', start_char_idx=None, end_char_idx=None, text_template='{metadata_str}\\n\\n{content}', metadata_template='{key}: {value}', metadata_seperator='\\n'), Document(id_='g_LNu6Aaxvk', embedding=None, metadata={'video_id': 'g_LNu6Aaxvk'}, excluded_embed_metadata_keys=[], excluded_llm_metadata_keys=[], relationships={}, text=\"Is the Maine Coon breed the perfect choice\\nfor cat lovers and dog lovers alike?\\nYou can make up your mind after watching this\\ncomprehensive video about Maine Coon cats!\\nLet’s find out all about them!\\nAnd what better way to start than with their\\nhistory?!\\nSo, where do Maine Coon cats come from?\\nHow did they arrive in America?\\nWell, the history of Maine Coon cats is filled\\nwith lots of legends.\\nSome say they’re the descendants of Marie\\nAntoinette's cats; some say they were brought\\nto America by a sailor called Tom Coon.\\nOddly enough, some say they're the offspring\\nof raccoons that bred with local cats!\\nI know, I’d also like this to be true, but\\nsuch a mix is genetically impossible.\\nBut wait, there’s more!\\nThe legends don't stop here.\\nSome think they’re the result of bobcats\\nand domestic cats crosses.\\nWhile this theory is possible and would explain\\nsome of their features, it's quite unlikely.\\nAnd last but not least, they might be linked\\nto the Norwegian Forest Cat.\\nIt's likely Vikings brought these cats to\\nAmerica approximately 1000 years ago.\\nThe last theory is indeed the most plausible\\none, but it seems like we'll never know their\\ntrue origin.\\nOne thing’s for sure: they've been around\\nfor a long time; that's precisely why they're\\nconsidered native to America.\\nThis amazing breed originated in the Maine\\nregion and is the state cat of Maine.\\nTruth be told, they’re one of the very few\\ncat breeds that could survive Maine's harsh\\nclimate.\\nSo, how big do Maine Coons get?\\nWell, they're described as moderate to large\\ncats.\\nYep, you heard that right!\\nNot all Maine Coon cats are large cats, even\\nif their big frame is one of the reasons they’re\\nso popular!\\nBut the large Maine Coons out there get big,\\nlike really big.\\nMales can weigh up to 25 pounds and even more.\\nStill, their average weight is approximately\\n18 pounds.\\nThe smallest of them, however, can weigh just\\n12 pounds.\\nFemales are obviously not that big, weighing\\nfrom ten to fourteen pounds.\\nThey are, however, one of the largest cat\\nbreeds, if not the largest one.\\nAdditionally, they appear more massive than\\nthey are because of...fluffiness!\\nMaine Coons’ coat is long, double-layered,\\nand thick.\\nIt’s shorter on the shoulders and longer\\non the stomach.\\nTheir luxuriant coat would undoubtedly make\\nevery cat envious.\\nMaine coons also sport a big, bushy tail,\\nalmost as long as their bodies.\\nThey're a fine piece of art; everything about\\nthe way they're built makes them perfect for\\nsurviving freezing winters.\\nWhat are some other defining Maine Coon traits?\\nThey grow tufts of fur between the paw pads,\\nas well as gorgeous tufts out of the ears.\\nTheir large ears may have lynx tips, giving\\nthem a false but unique wild appearance.\\nMaine Coons have big muscles and solid bones.\\nThey are definitely the heavy lifters of cat\\nbreeds.\\nBut because a piece of art takes time, Maine\\nCoons are slow to mature, taking their time\\nand reaching maturity between 3 and 4 years\\nof age.\\nThey come in all sorts of colors and color\\ncombinations, allowing you to choose your\\nfavorite one.\\nTheir big, oval eyes also come in various\\ncolors, and they’re very expressive.\\nBut what’s their personality like?\\nMaine Coons are very mellow fellows; for this\\nreason, they're affectionately called gentle\\ngiants.\\nThey're described as perfect family pets.\\nThey’re affectionate and like cuddles, even\\nif they're not your typical lap cat.\\nI’d even dare to say this is a good thing,\\nespecially if you’ve got a huge cat.\\nMaine Coons love their family members to the\\nmoon and back.\\nIt's said they’re able to notice if you're\\nnot feeling well or if you're upset.\\nA Maine Coon will definitely try to comfort\\nyou in these situations, either by doing something\\nsilly or by trying to get your attention.\\nWhen things are normal, they like showing\\ntheir affection by always following you around\\nthe house.\\nHere’s something I love about them: Maine\\nCoon cats are playful even when mature.\\nThey like to play fetch, a trait that earned\\nthem the reputation of being dog-like.\\nThey also like playing with water, and it’s\\nentertaining to watch them do so!\\nWhat if you have other pets?\\nWould a Maine Coon be the right choice?\\nWell, yes!\\nMaine Coons get along with both cats and dogs.\\nThey're not aggressive or territorial, making\\nthem perfect for a multi-pet household.\\nOverall, Maine Coons are calm, affectionate\\nbut also playful.\\nStill, if you want to learn even more about\\ntheir personality, consider subscribing, as\\nI’ll post a dedicated video on the subject.\\nMoving on to the next questions, what environment\\ndo they need?\\nDo you have the required space?\\nBeing a big cat, Maine coons will need a big\\napartment or a house.\\nYou can also spoil them by buying them cat\\ntrees; however, the cat trees must support\\nyour cat’s weight.\\nYou'll need to choose a stable cat tree with\\nhigher than average sitting spots.\\nIf you don't want to spend the money, you\\ndon't have to.\\nMaine Coons can climb up just like any other\\ncat, but they do prefer the ground area.\\nThere might be exceptions, though.\\nNevertheless, you'll definitely need to buy\\na large scratching post, as the regular ones\\nmight be too small.\\nI've searched for scratching posts suited\\nfor Maine Coons, and they’re in the description.\\nAlso, make sure your Maine Coon has some comfortable\\nplaces to hang out, and both of you will be\\njust fine.\\nWhat’s their activity level?\\nMaine Coons are playful and energetic cats.\\nThe Maine Coon is a happy cat if you provide\\nhim with toys resembling mice, softballs,\\nand other stuffed toys.\\nAt its core, a Maine Coon is a mouser, a very\\nskilled one, and that instinct runs deep.\\nAre they indoor or outdoor cats?\\nSure, they might seem suited to live outdoors,\\nas they're big and have a cold-resistant coat.\\nHowever, I believe that no cat should be left\\noutside, at least not on its own, due to the\\nvarious dangers it can encounter.\\nMoreover, huge Maine coons could potentially\\nbe mistaken for bobcats!\\nIf this were to happen, you never know what\\npeople could do to your cat.\\nAnd now, let’s find out how to take care\\nof a Maine coon cat.\\nCaring for them might seem like a burden,\\nbut this is not entirely true.\\nThe Maine Coon is gifted with a long, double\\ncoat.\\nTheir fur is also thick, so it needs to be\\nbrushed.\\nFortunately, their coat is somewhat dirt repellent,\\nso you should only brush your cat 2 or 3 times\\na week.\\nBy brushing the coat, the oils produced by\\nthe skin won't remain trapped.\\nAdditionally, this procedure allows the skin\\nto breathe and prevents skin infections from\\ndeveloping.\\nYou should also bathe your cat occasionally,\\nbut Maine Coons tends to like water, making\\nthe task easier.\\nBathing and some additional 3 or 4 visits\\nto a professional groomer a year will keep\\nyour cat's fur gorgeous and healthy.\\nWhat are the health concerns associated with\\nthis breed?\\nThe primary health concerns for Maine Coon\\nCats are hip dysplasia and another hereditary\\ndisease that causes sudden death in affected\\ncats.\\nEach cat is an individual and can have various\\nproblems, but these two conditions have a\\nhigher incidence in Maine Coon Cats.\\nBreeders are trying hard to remove these problems\\nfrom their cats' lineage by preventing the\\naffected individuals from breeding.\\nHowever, even if the cat's ancestors are healthy,\\nthe offspring can still be affected because\\ntheir parents can be carriers.\\nHip dysplasia sounds awful, but it’s not\\nas bad as you think.\\nCats are not affected by this condition in\\nthe same way dogs are.\\nUsually, cats will be able to walk and jump,\\nand they'll be given drugs to alleviate the\\npain.\\nSome cats don’t even show symptoms, even\\nif they have hip dysplasia, but Maine Coons\\nare more prone to displaying them because\\nthey're large.\\nWeight plays a huge factor in the evolution\\nof this disease: if the cat is overweight,\\nit will have more severe symptoms.\\nIf you want a Maine Coon, you'll need to keep\\nyour cat in shape.\\nAnother potential problem is spinal muscular\\natrophy, which typically causes muscle atrophy,\\nmuscle weakness, and a shortened lifespan.\\nSymptoms will appear within 3 to 4 months\\nof age.\\nOverall, the Maine Coon is a healthy cat.\\nSadly, it tends to live less than other cats,\\nhaving an average life expectancy of about\\n13 years.\\nAnd now, the crucial question: How much do\\nthey cost?\\nAs a general rule, you should always get your\\ncat from an accredited breeder to minimize\\nyour cat's chances of having health issues.\\nLuckily, there are lots of Maine Coon catteries\\nout there.\\nA Maine Coon cat costs between 800 and 2000\\ndollars.\\nThat may seem expensive, but there are many\\ncosts involved for the breeders, so the price\\nis totally justified.\\nIf you can't afford to buy one, there's some\\ngood news!\\nYou can always adopt and pay almost nothing,\\nand you can even find Maine Coon cats or Maine\\nCoon mixed cats at shelters.\\nAdopting an adult cat is another great idea.\\nBy doing so, you'll be able to correctly assess\\nthe cat’s personality, which is pretty impossible\\nto do with a kitten.\\nAnd, of course, there are tons of other lovely\\ncats out there that would make a perfect companion.\\nBut wrapping it up, Maine Coon cats are calm,\\ndevoted, and playful cats.\\nThey’re not on top of you all the time,\\nbut they are loving and gentle.\\nMaine Coons are perfect for families with\\nchildren, and they get along with other pets.\\nI know we learned a lot about Maine Coon cats\\ntoday, but if you want to learn even more\\nabout them, make sure to subscribe and tap\\nthe bell!\\nI'll be posting even more exciting videos\\nabout them in the future!\\nSee you in my next video!\", mimetype='text/plain', start_char_idx=None, end_char_idx=None, text_template='{metadata_str}\\n\\n{content}', metadata_template='{key}: {value}', metadata_seperator='\\n')]\n"
     ]
    }
   ],
   "source": [
    "from llama_index.readers.youtube_transcript import YoutubeTranscriptReader\n",
    "\n",
    "loader = YoutubeTranscriptReader()\n",
    "youtube_documents = loader.load_data(\n",
    "    ytlinks=['https://www.youtube.com/watch?v=jITPOcBQQW8', 'https://www.youtube.com/watch?v=xFfnJhZeL_Y', 'https://www.youtube.com/watch?v=g_LNu6Aaxvk']\n",
    ")\n",
    "\n",
    "print(youtube_documents)"
   ]
  },
  {
   "cell_type": "code",
   "execution_count": 15,
   "metadata": {},
   "outputs": [
    {
     "name": "stdout",
     "output_type": "stream",
     "text": [
      "INFO:httpx:HTTP Request: POST https://api.openai.com/v1/embeddings \"HTTP/1.1 200 OK\"\n",
      "HTTP Request: POST https://api.openai.com/v1/embeddings \"HTTP/1.1 200 OK\"\n",
      "INFO:httpx:HTTP Request: POST https://api.openai.com/v1/embeddings \"HTTP/1.1 200 OK\"\n",
      "HTTP Request: POST https://api.openai.com/v1/embeddings \"HTTP/1.1 200 OK\"\n",
      "INFO:httpx:HTTP Request: POST https://api.openai.com/v1/embeddings \"HTTP/1.1 200 OK\"\n",
      "HTTP Request: POST https://api.openai.com/v1/embeddings \"HTTP/1.1 200 OK\"\n"
     ]
    }
   ],
   "source": [
    "from llama_index.core import VectorStoreIndex\n",
    "\n",
    "vector_indices = {}\n",
    "vector_query_engines = {}\n",
    "\n",
    "breeds = [\"Savanah\", \"Ragdol\", \"Maine Coon\"]\n",
    "\n",
    "for breed, youtube in zip(breeds, youtube_documents):\n",
    "    vector_index = VectorStoreIndex.from_documents([youtube])\n",
    "    query_engine = vector_index.as_query_engine(similarity_top_k=3)\n",
    "    vector_indices[breed] = vector_index\n",
    "    vector_query_engines[breed] = query_engine"
   ]
  },
  {
   "cell_type": "code",
   "execution_count": 16,
   "metadata": {},
   "outputs": [],
   "source": [
    "from llama_index.core.query_engine import SubQuestionQueryEngine\n",
    "from llama_index.core.tools import QueryEngineTool, ToolMetadata\n",
    "\n",
    "\n",
    "query_engine_tools = []\n",
    "for breed in breeds:\n",
    "    query_engine = vector_query_engines[breed]\n",
    "\n",
    "    query_engine_tool = QueryEngineTool(\n",
    "        query_engine=query_engine,\n",
    "        metadata=ToolMetadata(\n",
    "            name=breed,\n",
    "            description=f\"Provides information about the cat breed {breed}\"\n",
    "        ),\n",
    "    )\n",
    "    query_engine_tools.append(query_engine_tool)\n",
    "\n",
    "subquestion_engine = SubQuestionQueryEngine.from_defaults(query_engine_tools=query_engine_tools)    "
   ]
  },
  {
   "cell_type": "code",
   "execution_count": 17,
   "metadata": {},
   "outputs": [
    {
     "name": "stdout",
     "output_type": "stream",
     "text": [
      "INFO:httpx:HTTP Request: POST https://api.openai.com/v1/chat/completions \"HTTP/1.1 200 OK\"\n",
      "HTTP Request: POST https://api.openai.com/v1/chat/completions \"HTTP/1.1 200 OK\"\n",
      "Generated 2 sub questions.\n",
      "\u001b[1;3;38;2;237;90;200m[Ragdol] Q: What are the characteristics of Ragdoll cats?\n",
      "\u001b[0m\u001b[1;3;38;2;90;149;237m[Maine Coon] Q: What are the unique features of Maine Coon cats?\n",
      "\u001b[0mINFO:httpx:HTTP Request: POST https://api.openai.com/v1/embeddings \"HTTP/1.1 200 OK\"\n",
      "HTTP Request: POST https://api.openai.com/v1/embeddings \"HTTP/1.1 200 OK\"\n",
      "INFO:httpx:HTTP Request: POST https://api.openai.com/v1/embeddings \"HTTP/1.1 200 OK\"\n",
      "HTTP Request: POST https://api.openai.com/v1/embeddings \"HTTP/1.1 200 OK\"\n",
      "INFO:httpx:HTTP Request: POST https://api.openai.com/v1/chat/completions \"HTTP/1.1 200 OK\"\n",
      "HTTP Request: POST https://api.openai.com/v1/chat/completions \"HTTP/1.1 200 OK\"\n",
      "\u001b[1;3;38;2;237;90;200m[Ragdol] A: Ragdoll cats are known for their friendly and gentle personality. They are docile companions, not prone to aggression, and are very tolerant with people and other animals. Ragdolls are affectionate, forming long-lasting relationships with their family members quickly. They are often described as \"lap cats\" due to their loving and obedient nature, making them ideal companions for owners who enjoy cuddling with their pets. Additionally, Ragdoll cats are intelligent and can be trained to play fetch or perform other tricks.\n",
      "\u001b[0mINFO:httpx:HTTP Request: POST https://api.openai.com/v1/chat/completions \"HTTP/1.1 200 OK\"\n",
      "HTTP Request: POST https://api.openai.com/v1/chat/completions \"HTTP/1.1 200 OK\"\n",
      "\u001b[1;3;38;2;90;149;237m[Maine Coon] A: Maine Coon cats have unique features such as tufts of fur between the paw pads and out of the ears, large ears with lynx tips, big muscles and solid bones, a long, double-layered, and thick coat, a big, bushy tail, and big, oval eyes that come in various colors.\n",
      "\u001b[0mINFO:httpx:HTTP Request: POST https://api.openai.com/v1/chat/completions \"HTTP/1.1 200 OK\"\n",
      "HTTP Request: POST https://api.openai.com/v1/chat/completions \"HTTP/1.1 200 OK\"\n"
     ]
    }
   ],
   "source": [
    "response = subquestion_engine.query(\"Tell me the difference between Ragdoll and Maine Coon cat.\")"
   ]
  },
  {
   "cell_type": "code",
   "execution_count": 18,
   "metadata": {},
   "outputs": [
    {
     "name": "stdout",
     "output_type": "stream",
     "text": [
      "Ragdoll cats are known for their friendly and gentle personality, being docile and tolerant with people and other animals. They are affectionate and form strong bonds quickly, often described as \"lap cats.\" On the other hand, Maine Coon cats have unique physical features such as tufts of fur between the paw pads and out of the ears, large ears with lynx tips, big muscles and solid bones, a long, double-layered, and thick coat, a big, bushy tail, and big, oval eyes in various colors.\n"
     ]
    }
   ],
   "source": [
    "print(response)"
   ]
  },
  {
   "cell_type": "code",
   "execution_count": null,
   "metadata": {},
   "outputs": [],
   "source": []
  }
 ],
 "metadata": {
  "kernelspec": {
   "display_name": "Python 3 (ipykernel)",
   "language": "python",
   "name": "python3"
  },
  "language_info": {
   "codemirror_mode": {
    "name": "ipython",
    "version": 3
   },
   "file_extension": ".py",
   "mimetype": "text/x-python",
   "name": "python",
   "nbconvert_exporter": "python",
   "pygments_lexer": "ipython3",
   "version": "3.11.9"
  }
 },
 "nbformat": 4,
 "nbformat_minor": 4
}
